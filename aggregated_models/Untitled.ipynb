{
 "cells": [
  {
   "cell_type": "code",
   "execution_count": 20,
   "id": "79b8976f",
   "metadata": {
    "ExecuteTime": {
     "end_time": "2022-02-23T11:26:35.386379Z",
     "start_time": "2022-02-23T11:26:35.383224Z"
    }
   },
   "outputs": [],
   "source": [
    "def naiveHash(string:str):\n",
    "    # Too simple, not advised in real applications! \n",
    "    # Instead, use eg \"fnv32\" or \"murmurhash\"\n",
    "    h = 1\n",
    "    for c in string:\n",
    "        i =  ord(c) # convert character c to interger\n",
    "        h = 31 * h + i\n",
    "    return h"
   ]
  },
  {
   "cell_type": "code",
   "execution_count": 22,
   "id": "a3ddb993",
   "metadata": {
    "ExecuteTime": {
     "end_time": "2022-02-23T11:26:40.146010Z",
     "start_time": "2022-02-23T11:26:40.142307Z"
    }
   },
   "outputs": [
    {
     "data": {
      "text/plain": [
       "128"
      ]
     },
     "execution_count": 22,
     "metadata": {},
     "output_type": "execute_result"
    }
   ],
   "source": [
    "naiveHash(\"a\")"
   ]
  },
  {
   "cell_type": "code",
   "execution_count": null,
   "id": "8f58e35d",
   "metadata": {},
   "outputs": [],
   "source": []
  }
 ],
 "metadata": {
  "hide_input": false,
  "kernelspec": {
   "display_name": "Python Criteo (MOAB #45921)",
   "language": "python",
   "name": "python-kernel-45921"
  },
  "language_info": {
   "codemirror_mode": {
    "name": "ipython",
    "version": 3
   },
   "file_extension": ".py",
   "mimetype": "text/x-python",
   "name": "python",
   "nbconvert_exporter": "python",
   "pygments_lexer": "ipython3",
   "version": "3.6.8"
  },
  "toc": {
   "base_numbering": 1,
   "nav_menu": {},
   "number_sections": true,
   "sideBar": true,
   "skip_h1_title": false,
   "title_cell": "Table of Contents",
   "title_sidebar": "Contents",
   "toc_cell": false,
   "toc_position": {},
   "toc_section_display": true,
   "toc_window_display": false
  }
 },
 "nbformat": 4,
 "nbformat_minor": 5
}
