{
 "cells": [
  {
   "cell_type": "code",
   "execution_count": null,
   "metadata": {
    "ExecuteTime": {
     "end_time": "2021-01-13T18:42:46.065685Z",
     "start_time": "2021-01-13T18:42:44.123067Z"
    }
   },
   "outputs": [],
   "source": [
    "pip install diffprivlib"
   ]
  },
  {
   "cell_type": "code",
   "execution_count": null,
   "metadata": {
    "ExecuteTime": {
     "end_time": "2021-01-13T18:42:47.042612Z",
     "start_time": "2021-01-13T18:42:47.004635Z"
    }
   },
   "outputs": [],
   "source": [
    "%load_ext autoreload\n",
    "%autoreload 2\n",
    "import sys\n",
    "sys.path.append(\"../src\")\n",
    "from myimports  import *\n",
    "\n",
    "plt.style.use('ggplot')"
   ]
  },
  {
   "cell_type": "code",
   "execution_count": null,
   "metadata": {
    "ExecuteTime": {
     "end_time": "2021-01-13T18:42:48.269525Z",
     "start_time": "2021-01-13T18:42:48.239144Z"
    }
   },
   "outputs": [],
   "source": [
    "from aggregated_models.aggdataset import AggDataset\n",
    "from validation import MetricsComputer\n"
   ]
  },
  {
   "cell_type": "code",
   "execution_count": null,
   "metadata": {
    "ExecuteTime": {
     "end_time": "2021-01-13T18:42:48.702976Z",
     "start_time": "2021-01-13T18:42:48.673080Z"
    }
   },
   "outputs": [],
   "source": [
    "from RandomProjectedPrivateLogistic import RPPrivateLogistic"
   ]
  },
  {
   "cell_type": "code",
   "execution_count": null,
   "metadata": {
    "ExecuteTime": {
     "end_time": "2021-01-13T18:42:49.344021Z",
     "start_time": "2021-01-13T18:42:49.313731Z"
    }
   },
   "outputs": [],
   "source": [
    "from aggLogistic import AggLogistic\n",
    "from agg_mrf_model import AggMRFModel, AggMRFModelParams"
   ]
  },
  {
   "cell_type": "code",
   "execution_count": null,
   "metadata": {
    "ExecuteTime": {
     "end_time": "2021-01-04T10:34:02.147413Z",
     "start_time": "2021-01-04T10:34:02.099276Z"
    }
   },
   "outputs": [],
   "source": []
  },
  {
   "cell_type": "code",
   "execution_count": null,
   "metadata": {
    "ExecuteTime": {
     "end_time": "2021-01-13T18:42:50.713311Z",
     "start_time": "2021-01-13T18:42:50.685225Z"
    }
   },
   "outputs": [],
   "source": [
    "Validation = MetricsComputer(\"click\")"
   ]
  },
  {
   "cell_type": "code",
   "execution_count": null,
   "metadata": {
    "ExecuteTime": {
     "end_time": "2021-01-13T16:52:15.616998Z",
     "start_time": "2021-01-13T16:52:15.135908Z"
    }
   },
   "outputs": [],
   "source": []
  },
  {
   "cell_type": "code",
   "execution_count": null,
   "metadata": {},
   "outputs": [],
   "source": []
  },
  {
   "cell_type": "markdown",
   "metadata": {
    "colab_type": "text",
    "id": "OWC5yFQ-0BIB"
   },
   "source": [
    "## Download Data"
   ]
  },
  {
   "cell_type": "code",
   "execution_count": null,
   "metadata": {
    "ExecuteTime": {
     "end_time": "2021-01-13T18:43:22.232025Z",
     "start_time": "2021-01-13T18:42:53.055401Z"
    }
   },
   "outputs": [],
   "source": [
    "import loaddata\n",
    "train, valid, allvars = loaddata.run()\n",
    "## features def: https://confluence.criteois.com/pages/viewpage.action?spaceKey=RSC&title=Dataset+06+%3A+Attribution+Modeling+for+Bidding\n"
   ]
  },
  {
   "cell_type": "code",
   "execution_count": null,
   "metadata": {
    "ExecuteTime": {
     "end_time": "2021-01-13T18:43:22.268881Z",
     "start_time": "2021-01-13T18:43:22.234494Z"
    }
   },
   "outputs": [],
   "source": [
    "def addToResults( model, name , epsilon, regulL2 , otherparams = {}  ):\n",
    "    dico = otherparams.copy()\n",
    "    dico[\"model\"] = name\n",
    "    dico[\"valid\"] = Validation.getLLH( model, valid )\n",
    "    dico[\"train\"] = Validation.getLLH( model, train )\n",
    "    dico[\"epsilon\"] = epsilon\n",
    "    dico[\"regul\"] = regulL2\n",
    "    dico[\"features\"] =  \",\".join( model. features)\n",
    "    res = pd.DataFrame( [dico] )\n",
    "    print(res)\n",
    "    return pd.concat( [ results , res ] )"
   ]
  },
  {
   "cell_type": "code",
   "execution_count": null,
   "metadata": {
    "ExecuteTime": {
     "end_time": "2021-01-13T18:43:22.299647Z",
     "start_time": "2021-01-13T18:43:22.271082Z"
    }
   },
   "outputs": [],
   "source": [
    "results = pd.DataFrame()"
   ]
  },
  {
   "cell_type": "markdown",
   "metadata": {},
   "source": [
    "# Data set with limited number of features"
   ]
  },
  {
   "cell_type": "code",
   "execution_count": null,
   "metadata": {
    "ExecuteTime": {
     "end_time": "2021-01-05T11:32:53.281347Z",
     "start_time": "2021-01-05T11:32:53.249949Z"
    }
   },
   "outputs": [],
   "source": []
  },
  {
   "cell_type": "code",
   "execution_count": null,
   "metadata": {
    "ExecuteTime": {
     "end_time": "2021-01-05T11:18:21.575363Z",
     "start_time": "2021-01-05T11:18:17.487577Z"
    }
   },
   "outputs": [],
   "source": [
    "features = ['cat1', 'cat2', 'cat8', 'cat9' ]\n",
    "aggdata_nonoise = AggDataset( features, \"*&*\", train )\n",
    "epsilons = [ 0.1 ,1.0, 10.0 ]\n",
    "aggdata_noised = {}\n",
    "for epsilon0 in epsilons:\n",
    "    aggdata_noised[epsilon0] = AggDataset( train , features, \"*&*\",  epsilon0=epsilon0)\n"
   ]
  },
  {
   "cell_type": "code",
   "execution_count": null,
   "metadata": {
    "ExecuteTime": {
     "end_time": "2021-01-05T17:27:47.086162Z",
     "start_time": "2021-01-05T17:27:47.035762Z"
    }
   },
   "outputs": [],
   "source": []
  },
  {
   "cell_type": "code",
   "execution_count": null,
   "metadata": {
    "ExecuteTime": {
     "end_time": "2021-01-05T17:28:01.295883Z",
     "start_time": "2021-01-05T17:28:01.258935Z"
    }
   },
   "outputs": [],
   "source": [
    "logistic.features"
   ]
  },
  {
   "cell_type": "markdown",
   "metadata": {},
   "source": [
    "##### logistic Regression\n",
    "- Requires full logs, not privacy preserving.\n",
    "- \"Skyline\""
   ]
  },
  {
   "cell_type": "code",
   "execution_count": null,
   "metadata": {
    "ExecuteTime": {
     "end_time": "2021-01-05T11:40:56.572350Z",
     "start_time": "2021-01-05T11:40:10.333184Z"
    }
   },
   "outputs": [],
   "source": [
    "regulL2s = [ 1.0,  4.0 , 16.0 , 64.0, 256 ]\n",
    "for regulL2 in regulL2s:\n",
    "    logistic = AggLogistic(  aggdata_nonoise , features, clicksCfs = \"*&*\" , regulL2=regulL2 )\n",
    "    logistic.fit(train [features] , nbIter=500)\n",
    "    results = addToResults( logistic, \"logistic\", 0, regulL2  )"
   ]
  },
  {
   "cell_type": "code",
   "execution_count": null,
   "metadata": {
    "ExecuteTime": {
     "end_time": "2021-01-05T11:41:28.124079Z",
     "start_time": "2021-01-05T11:41:28.085024Z"
    }
   },
   "outputs": [],
   "source": [
    "results"
   ]
  },
  {
   "cell_type": "markdown",
   "metadata": {},
   "source": [
    "##### Private logistic regression\n",
    "- From ibm diffprivlib\n",
    "- Adding some noise to the loss\n",
    "- Does not scales well with input vector dimensions, therefore using random projections to limit dimensionality"
   ]
  },
  {
   "cell_type": "code",
   "execution_count": null,
   "metadata": {
    "ExecuteTime": {
     "end_time": "2021-01-05T12:40:26.486839Z",
     "start_time": "2021-01-05T12:01:07.978022Z"
    }
   },
   "outputs": [],
   "source": [
    "%%time\n",
    "for epsilon in epsilons:\n",
    "    aggdata = aggdata_noised[epsilon]\n",
    "    regulL2s = [ 1.0,  4.0 , 16.0 , 64.0, 256, 1024 , 1024*4 ]    \n",
    "    for l2 in regulL2s:\n",
    "        for p in [ 10,30,100,300, 1000 ]:\n",
    "            logistic = RPPrivateLogistic(\"click\" , features, \"*&*\",  train, lambdaL2=l2,epsilon= epsilon,\n",
    "                                     projectionSize=p )\n",
    "            logistic.fit(train)\n",
    "            results = addToResults( logistic, \"privatelogistic\",  epsilon , l2, {\"dimensions\":p}  )"
   ]
  },
  {
   "cell_type": "code",
   "execution_count": null,
   "metadata": {},
   "outputs": [],
   "source": []
  },
  {
   "cell_type": "markdown",
   "metadata": {},
   "source": [
    "##### Models learned from agg data only"
   ]
  },
  {
   "cell_type": "code",
   "execution_count": null,
   "metadata": {
    "ExecuteTime": {
     "end_time": "2021-01-05T14:23:42.884580Z",
     "start_time": "2021-01-05T12:55:09.256391Z"
    }
   },
   "outputs": [],
   "source": [
    "%%time\n",
    "for epsilon in epsilons:\n",
    "    aggdata = aggdata_noised[epsilon]\n",
    "    for l2 in [  4.0 , 16.0 , 64.0, 256, 1024 , 1024*4 ]:\n",
    "        params = AggMRFModelParams(\n",
    "            exactComputation=False,\n",
    "            clicksCfs = \"*&*\",\n",
    "            displaysCfs=\"*&*\",\n",
    "            nbSamples = 50000,\n",
    "            regulL2=1.0,\n",
    "            regulL2Click = l2,\n",
    "            laplaceEpsilon = aggdata.epsilon\n",
    "        )\n",
    "        self = AggMRFModel(aggdata, features, params)\n",
    "        self.fit(200)\n",
    "        results = addToResults( self, \"aggmodel\",  epsilon , l2  )"
   ]
  },
  {
   "cell_type": "code",
   "execution_count": null,
   "metadata": {
    "ExecuteTime": {
     "end_time": "2021-01-05T14:29:19.995945Z",
     "start_time": "2021-01-05T14:29:19.962692Z"
    }
   },
   "outputs": [],
   "source": []
  },
  {
   "cell_type": "code",
   "execution_count": null,
   "metadata": {
    "ExecuteTime": {
     "end_time": "2021-01-05T14:34:49.469902Z",
     "start_time": "2021-01-05T14:34:49.437795Z"
    }
   },
   "outputs": [],
   "source": []
  },
  {
   "cell_type": "code",
   "execution_count": null,
   "metadata": {
    "ExecuteTime": {
     "end_time": "2021-01-05T16:24:23.357311Z",
     "start_time": "2021-01-05T16:24:23.311409Z"
    }
   },
   "outputs": [],
   "source": [
    "results[results.epsilon == 1.0].sort_values( \"valid\" )"
   ]
  },
  {
   "cell_type": "code",
   "execution_count": null,
   "metadata": {
    "ExecuteTime": {
     "end_time": "2021-01-05T16:28:47.063363Z",
     "start_time": "2021-01-05T16:28:47.017341Z"
    }
   },
   "outputs": [],
   "source": [
    "a = results[(results.model == \"aggmodel\") & (results.epsilon == 0.1) &(results.train>0)]\n",
    "a"
   ]
  },
  {
   "cell_type": "code",
   "execution_count": null,
   "metadata": {
    "ExecuteTime": {
     "end_time": "2021-01-05T16:25:14.712186Z",
     "start_time": "2021-01-05T16:25:14.677802Z"
    }
   },
   "outputs": [],
   "source": []
  },
  {
   "cell_type": "code",
   "execution_count": null,
   "metadata": {
    "ExecuteTime": {
     "end_time": "2021-01-05T16:28:11.778702Z",
     "start_time": "2021-01-05T16:28:11.596326Z"
    }
   },
   "outputs": [],
   "source": [
    "a = results[results.model == \"logistic\"]\n",
    "plt.plot( a.train.values , a.valid.values  , \"x\" )\n",
    "\n",
    "\n",
    "a = results[(results.model == \"aggmodel\") & (results.epsilon == 0.1) &(results.train>0)]\n",
    "plt.plot( a.train.values , a.valid.values  , \"x\" )\n",
    "\n",
    "a = results[(results.model == \"privatelogistic\") & (results.epsilon == 0.1) &(results.train>0)]\n",
    "plt.plot( a.train.values , a.valid.values  , \"kx\" )\n",
    "\n"
   ]
  },
  {
   "cell_type": "code",
   "execution_count": null,
   "metadata": {
    "ExecuteTime": {
     "end_time": "2021-01-05T16:28:03.382507Z",
     "start_time": "2021-01-05T16:28:03.346877Z"
    }
   },
   "outputs": [],
   "source": []
  },
  {
   "cell_type": "markdown",
   "metadata": {},
   "source": [
    "## Big dataset (11 features)"
   ]
  },
  {
   "cell_type": "code",
   "execution_count": null,
   "metadata": {
    "ExecuteTime": {
     "end_time": "2021-01-13T18:45:05.630491Z",
     "start_time": "2021-01-13T18:45:01.302994Z"
    }
   },
   "outputs": [],
   "source": [
    "features =['campaign', 'time_since_last_click', 'cat1', 'cat2', 'cat3', 'cat4', 'cat5', 'cat6', 'cat7', 'cat8', 'cat9']\n",
    "aggdata_nonoise = AggDataset( features, \"*&*\", train )\n",
    "epsilons = [ 1.0, 10.0 ]"
   ]
  },
  {
   "cell_type": "code",
   "execution_count": null,
   "metadata": {},
   "outputs": [],
   "source": [
    "aggdata_noised = {}\n",
    "for epsilon0 in epsilons:\n",
    "    aggdata_noised[epsilon0] = AggDataset( train , features, \"*&*\",  epsilon0=epsilon0)"
   ]
  },
  {
   "cell_type": "code",
   "execution_count": null,
   "metadata": {
    "ExecuteTime": {
     "end_time": "2021-01-06T09:38:32.619714Z",
     "start_time": "2021-01-06T08:53:23.905955Z"
    }
   },
   "outputs": [],
   "source": [
    "regulL2s = [  40.0 , 160.0 , 640.0, 2560 ]\n",
    "for regulL2 in regulL2s:\n",
    "    logistic = AggLogistic(  aggdata_nonoise , features, clicksCfs = \"*&*\" , regulL2=regulL2 )\n",
    "    logistic.fit(train [features] , nbIter=50)\n",
    "    results = addToResults( logistic, \"logistic\", 0, regulL2  )"
   ]
  },
  {
   "cell_type": "code",
   "execution_count": null,
   "metadata": {
    "ExecuteTime": {
     "end_time": "2021-01-05T19:11:39.188408Z",
     "start_time": "2021-01-05T19:11:39.158827Z"
    }
   },
   "outputs": [],
   "source": []
  },
  {
   "cell_type": "code",
   "execution_count": null,
   "metadata": {
    "ExecuteTime": {
     "end_time": "2021-01-05T19:11:15.855565Z",
     "start_time": "2021-01-05T19:11:14.568923Z"
    }
   },
   "outputs": [],
   "source": []
  },
  {
   "cell_type": "code",
   "execution_count": null,
   "metadata": {
    "ExecuteTime": {
     "end_time": "2021-01-06T12:51:12.052016Z",
     "start_time": "2021-01-06T11:14:17.917279Z"
    }
   },
   "outputs": [],
   "source": [
    "%%time\n",
    "for epsilon in epsilons:\n",
    "    regulL2s = [ 160.0 , 640.0, 2560, 2560*4 , 2560*16 ]    \n",
    "    for l2 in regulL2s:\n",
    "        for p in [ 30,100,300, 1000, 3000 ]:\n",
    "            print( epsilon, l2,p)\n",
    "            logistic = RPPrivateLogistic(\"click\" , features, \"*&*\",  train, lambdaL2=l2,epsilon= epsilon,\n",
    "                                     projectionSize=p )\n",
    "            logistic.fit(train)\n",
    "            results = addToResults( logistic, \"privatelogistic\",  epsilon , l2, {\"dimensions\":p}  )"
   ]
  },
  {
   "cell_type": "code",
   "execution_count": null,
   "metadata": {},
   "outputs": [],
   "source": []
  },
  {
   "cell_type": "code",
   "execution_count": null,
   "metadata": {
    "ExecuteTime": {
     "end_time": "2021-01-06T14:03:12.644655Z",
     "start_time": "2021-01-06T13:24:12.125793Z"
    }
   },
   "outputs": [],
   "source": [
    "%%time\n",
    "for epsilon in epsilons:\n",
    "    regulL2s = [ 40.0, 10.0  ]    \n",
    "    for l2 in regulL2s:\n",
    "        for p in [ 3000,1000,300, 100, 30 ]:\n",
    "            print( epsilon, l2,p)\n",
    "            logistic = RPPrivateLogistic(\"click\" , features, \"*&*\",  train, lambdaL2=l2,epsilon= epsilon,\n",
    "                                     projectionSize=p )\n",
    "            logistic.fit(train)\n",
    "            results = addToResults( logistic, \"privatelogistic\",  epsilon , l2, {\"dimensions\":p}  )"
   ]
  },
  {
   "cell_type": "code",
   "execution_count": null,
   "metadata": {},
   "outputs": [],
   "source": []
  },
  {
   "cell_type": "code",
   "execution_count": null,
   "metadata": {},
   "outputs": [],
   "source": []
  },
  {
   "cell_type": "code",
   "execution_count": null,
   "metadata": {
    "ExecuteTime": {
     "end_time": "2021-01-06T14:24:31.389304Z",
     "start_time": "2021-01-06T14:24:31.341831Z"
    }
   },
   "outputs": [],
   "source": [
    "results.query( 'epsilon==10.0' ) .sort_values('valid')"
   ]
  },
  {
   "cell_type": "code",
   "execution_count": null,
   "metadata": {},
   "outputs": [],
   "source": []
  },
  {
   "cell_type": "code",
   "execution_count": null,
   "metadata": {},
   "outputs": [],
   "source": []
  },
  {
   "cell_type": "code",
   "execution_count": null,
   "metadata": {
    "ExecuteTime": {
     "end_time": "2021-01-07T11:28:25.694121Z",
     "start_time": "2021-01-06T14:26:36.796079Z"
    }
   },
   "outputs": [],
   "source": [
    "%%time\n",
    "for epsilon in epsilons:\n",
    "    aggdata = AggDataset( train , features, \"*&*\",  epsilon0=epsilon)\n",
    "    for l2 in [ 160.0 , 640.0, 2560, 2560*4 , 2560*16 ]:\n",
    "        params = AggMRFModelParams(\n",
    "            exactComputation=False,\n",
    "            clicksCfs = \"*&*\",\n",
    "            displaysCfs=\"*&*\",\n",
    "            nbSamples = 50000,\n",
    "            regulL2=1.0,\n",
    "            regulL2Click = l2,\n",
    "            noiseDistribution = aggdata.mechanism.getNoise()\n",
    "        )\n",
    "        self = AggMRFModel(aggdata, features, params)\n",
    "        self.fit(200)\n",
    "        results = addToResults( self, \"aggmodel\",  epsilon , l2  )"
   ]
  },
  {
   "cell_type": "code",
   "execution_count": null,
   "metadata": {
    "ExecuteTime": {
     "end_time": "2021-01-08T08:52:24.909577Z",
     "start_time": "2021-01-07T18:47:18.091546Z"
    }
   },
   "outputs": [],
   "source": [
    "%%time\n",
    "for epsilon in epsilons[1:]:\n",
    "    aggdata = AggDataset( train , features, \"*&*\",  epsilon0=epsilon)\n",
    "    for l2 in [ 160.0 , 640.0] :# , 2560, 2560*4 , 2560*16 ]:\n",
    "        params = AggMRFModelParams(\n",
    "            exactComputation=False,\n",
    "            clicksCfs = \"*&*\",\n",
    "            displaysCfs=\"*&*\",\n",
    "            nbSamples = 50000,\n",
    "            regulL2=1.0,\n",
    "            regulL2Click = l2,\n",
    "            noiseDistribution = aggdata.mechanism.getNoise()\n",
    "        )\n",
    "        self = AggMRFModel(aggdata, features, params)\n",
    "        self.fit(200)\n",
    "        results = addToResults( self, \"aggmodel\",  epsilon , l2  )"
   ]
  },
  {
   "cell_type": "code",
   "execution_count": null,
   "metadata": {
    "ExecuteTime": {
     "end_time": "2021-01-13T18:45:57.673838Z",
     "start_time": "2021-01-13T18:45:57.640061Z"
    }
   },
   "outputs": [],
   "source": []
  },
  {
   "cell_type": "code",
   "execution_count": null,
   "metadata": {
    "ExecuteTime": {
     "start_time": "2021-01-13T18:51:59.632Z"
    }
   },
   "outputs": [],
   "source": [
    "%%time\n",
    "## GAUSSIAN noise\n",
    "for delta in [ 0.000001 , 0.001]:\n",
    "    for epsilon in [10.0, 1.0]:\n",
    "        for l2 in [ 160.0 , 640.0] :# , 2560, 2560*4 , 2560*16 ]:\n",
    "            aggdata = AggDataset( train , features, \"*&*\",  epsilon0=epsilon ,delta = delta)\n",
    "            params = AggMRFModelParams(\n",
    "                exactComputation=False,\n",
    "                clicksCfs = \"*&*\",\n",
    "                displaysCfs=\"*&*\",\n",
    "                nbSamples = 50000,\n",
    "                regulL2=1.0,\n",
    "                regulL2Click = l2,\n",
    "                noiseDistribution = aggdata.mechanism.getNoise()\n",
    "            )\n",
    "            self = AggMRFModel(aggdata, features, params)\n",
    "            self.fit(200)\n",
    "            results = addToResults( self, \"aggmodel\",  epsilon , l2 ,  {\"delta\":delta}  )"
   ]
  },
  {
   "cell_type": "code",
   "execution_count": null,
   "metadata": {
    "ExecuteTime": {
     "end_time": "2021-01-14T14:40:37.619787Z",
     "start_time": "2021-01-14T14:40:37.617432Z"
    }
   },
   "outputs": [],
   "source": []
  },
  {
   "cell_type": "code",
   "execution_count": null,
   "metadata": {},
   "outputs": [],
   "source": [
    "results[ (results.model==\"privatelogistic\") &(results.epsilon==0.1) ].sort_values('valid')"
   ]
  },
  {
   "cell_type": "code",
   "execution_count": null,
   "metadata": {
    "ExecuteTime": {
     "end_time": "2021-01-06T08:52:16.224060Z",
     "start_time": "2021-01-06T08:52:16.067871Z"
    }
   },
   "outputs": [],
   "source": []
  },
  {
   "cell_type": "code",
   "execution_count": null,
   "metadata": {
    "ExecuteTime": {
     "end_time": "2021-01-07T18:46:45.096287Z",
     "start_time": "2021-01-07T18:46:45.050208Z"
    }
   },
   "outputs": [],
   "source": [
    "results[results.epsilon==1.0].sort_values('valid')"
   ]
  },
  {
   "cell_type": "code",
   "execution_count": null,
   "metadata": {
    "ExecuteTime": {
     "end_time": "2021-01-08T17:13:45.907132Z",
     "start_time": "2021-01-08T17:13:45.662607Z"
    }
   },
   "outputs": [],
   "source": [
    "results[results.epsilon==10.0].sort_values('valid')"
   ]
  },
  {
   "cell_type": "code",
   "execution_count": null,
   "metadata": {},
   "outputs": [],
   "source": []
  }
 ],
 "metadata": {
  "colab": {
   "collapsed_sections": [],
   "name": "MTC.ipynb",
   "provenance": [],
   "toc_visible": true
  },
  "hide_input": false,
  "kernelspec": {
   "display_name": "Python Criteo",
   "language": "python",
   "name": "python-mozart"
  },
  "language_info": {
   "codemirror_mode": {
    "name": "ipython",
    "version": 3
   },
   "file_extension": ".py",
   "mimetype": "text/x-python",
   "name": "python",
   "nbconvert_exporter": "python",
   "pygments_lexer": "ipython3",
   "version": "3.6.8"
  },
  "toc": {
   "base_numbering": 1,
   "nav_menu": {},
   "number_sections": true,
   "sideBar": true,
   "skip_h1_title": false,
   "title_cell": "Table of Contents",
   "title_sidebar": "Contents",
   "toc_cell": false,
   "toc_position": {},
   "toc_section_display": true,
   "toc_window_display": false
  }
 },
 "nbformat": 4,
 "nbformat_minor": 4
}