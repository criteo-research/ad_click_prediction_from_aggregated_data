{
 "cells": [
  {
   "cell_type": "code",
   "execution_count": 4,
   "metadata": {
    "ExecuteTime": {
     "end_time": "2021-09-21T14:47:44.839513Z",
     "start_time": "2021-09-21T14:47:44.605685Z"
    }
   },
   "outputs": [
    {
     "name": "stdout",
     "output_type": "stream",
     "text": [
      "The autoreload extension is already loaded. To reload it, use:\n",
      "  %reload_ext autoreload\n"
     ]
    }
   ],
   "source": [
    "%load_ext autoreload\n",
    "%autoreload 2\n",
    "from aggregated_models.myimports  import *\n",
    "\n",
    "plt.style.use('ggplot')\n",
    "\n",
    "from aggregated_models.aggdataset import AggDataset\n",
    "from aggregated_models.basicmodels import NaiveBayesModel, LogisticModelWithCF\n",
    "from aggregated_models.validation import MetricsComputer\n",
    "from aggregated_models.aggLogistic import AggLogistic\n",
    "from aggregated_models.agg_mrf_model import AggMRFModel, AggMRFModelParams\n",
    "from  aggregated_models import loaddata"
   ]
  },
  {
   "cell_type": "code",
   "execution_count": 5,
   "metadata": {
    "ExecuteTime": {
     "end_time": "2021-09-21T14:47:47.111767Z",
     "start_time": "2021-09-21T14:47:47.084806Z"
    }
   },
   "outputs": [],
   "source": [
    "Validation = MetricsComputer(\"click\")"
   ]
  },
  {
   "cell_type": "markdown",
   "metadata": {
    "colab_type": "text",
    "id": "OWC5yFQ-0BIB"
   },
   "source": [
    "## Download Data\n",
    "- downloading criteo-research-attribution-dataset\n",
    "- from url http://go.criteo.net"
   ]
  },
  {
   "cell_type": "code",
   "execution_count": 6,
   "metadata": {
    "ExecuteTime": {
     "end_time": "2021-09-21T14:50:18.465828Z",
     "start_time": "2021-09-21T14:47:58.512463Z"
    }
   },
   "outputs": [
    {
     "name": "stdout",
     "output_type": "stream",
     "text": [
      "downloading dataset\n",
      "unzipping\n"
     ]
    }
   ],
   "source": [
    "loaddata.download_dataset()"
   ]
  },
  {
   "cell_type": "markdown",
   "metadata": {},
   "source": [
    "## Loading data\n",
    "3 versions of the dataset are used for experiments: \"small\" , \"sampled\" and \"full\"\n",
    "- \"full\" has 11 features with about 16M samples\n",
    "- \"sampled\" has the same 11 features, but only 160k samples\n",
    "- \"small\" also has 160k samples, but only the 5 features with lowest modalities count, and allow for fast experiments."
   ]
  },
  {
   "cell_type": "code",
   "execution_count": 8,
   "metadata": {
    "ExecuteTime": {
     "end_time": "2021-09-21T15:47:50.436142Z",
     "start_time": "2021-09-21T15:47:50.349318Z"
    }
   },
   "outputs": [],
   "source": [
    "dataset= \"small\" # fast experiments\n",
    "# dataset= \"sampled\" # Training a MRF may require 5h and 16Go data\n",
    "# dataset= \"full\"  # Training a MRF may require 32Go, and several days"
   ]
  },
  {
   "cell_type": "code",
   "execution_count": 9,
   "metadata": {
    "ExecuteTime": {
     "end_time": "2021-09-21T15:47:52.455960Z",
     "start_time": "2021-09-21T15:47:51.598348Z"
    }
   },
   "outputs": [
    {
     "name": "stdout",
     "output_type": "stream",
     "text": [
      "Sampling ratio :0.01\n",
      "Nb train samples: 115382 , Nb valid samples: 49770  \n",
      "features:['cat1', 'cat4', 'cat6', 'cat8', 'cat9']\n"
     ]
    }
   ],
   "source": [
    "train, valid, features, label = loaddata.getDataset(dataset)"
   ]
  },
  {
   "cell_type": "code",
   "execution_count": 10,
   "metadata": {
    "ExecuteTime": {
     "end_time": "2021-09-21T15:47:53.519304Z",
     "start_time": "2021-09-21T15:47:53.436787Z"
    }
   },
   "outputs": [
    {
     "data": {
      "text/html": [
       "<div>\n",
       "<style scoped>\n",
       "    .dataframe tbody tr th:only-of-type {\n",
       "        vertical-align: middle;\n",
       "    }\n",
       "\n",
       "    .dataframe tbody tr th {\n",
       "        vertical-align: top;\n",
       "    }\n",
       "\n",
       "    .dataframe thead th {\n",
       "        text-align: right;\n",
       "    }\n",
       "</style>\n",
       "<table border=\"1\" class=\"dataframe\">\n",
       "  <thead>\n",
       "    <tr style=\"text-align: right;\">\n",
       "      <th></th>\n",
       "      <th>cat1</th>\n",
       "      <th>cat4</th>\n",
       "      <th>cat6</th>\n",
       "      <th>cat8</th>\n",
       "      <th>cat9</th>\n",
       "      <th>click</th>\n",
       "    </tr>\n",
       "  </thead>\n",
       "  <tbody>\n",
       "    <tr>\n",
       "      <th>12046695</th>\n",
       "      <td>1973606</td>\n",
       "      <td>29196072</td>\n",
       "      <td>3225253</td>\n",
       "      <td>29196072</td>\n",
       "      <td>21091111</td>\n",
       "      <td>1</td>\n",
       "    </tr>\n",
       "    <tr>\n",
       "      <th>15368375</th>\n",
       "      <td>27093701</td>\n",
       "      <td>29196072</td>\n",
       "      <td>32440043</td>\n",
       "      <td>29196072</td>\n",
       "      <td>8661620</td>\n",
       "      <td>0</td>\n",
       "    </tr>\n",
       "  </tbody>\n",
       "</table>\n",
       "</div>"
      ],
      "text/plain": [
       "              cat1      cat4      cat6      cat8      cat9  click\n",
       "12046695   1973606  29196072   3225253  29196072  21091111      1\n",
       "15368375  27093701  29196072  32440043  29196072   8661620      0"
      ]
     },
     "execution_count": 10,
     "metadata": {},
     "output_type": "execute_result"
    }
   ],
   "source": [
    "train.sample(2)"
   ]
  },
  {
   "cell_type": "code",
   "execution_count": 11,
   "metadata": {
    "ExecuteTime": {
     "end_time": "2021-09-21T15:47:54.708994Z",
     "start_time": "2021-09-21T15:47:54.601634Z"
    }
   },
   "outputs": [
    {
     "name": "stdout",
     "output_type": "stream",
     "text": [
      "feature cat1 has 9 distinct modalities\n",
      "feature cat4 has 14 distinct modalities\n",
      "feature cat6 has 30 distinct modalities\n",
      "feature cat8 has 11 distinct modalities\n",
      "feature cat9 has 30 distinct modalities\n"
     ]
    }
   ],
   "source": [
    "for f in features:\n",
    "    nbModalities = len(set(train[f].values))\n",
    "    print( f\"feature {f} has {nbModalities} distinct modalities\" )"
   ]
  },
  {
   "cell_type": "markdown",
   "metadata": {},
   "source": [
    "## Preparing Aggregated data\n",
    "\n",
    "- aggdata contains projections of number of displays and clicks along each pair of feature\n",
    "- may also add some noise to make it differential private\n",
    "- the goal is to learn a model predicting Proba( label | features) using *only* those aggdata."
   ]
  },
  {
   "cell_type": "code",
   "execution_count": 12,
   "metadata": {
    "ExecuteTime": {
     "end_time": "2021-09-21T15:47:56.339768Z",
     "start_time": "2021-09-21T15:47:56.312681Z"
    }
   },
   "outputs": [],
   "source": [
    "# parameters for of the privacy protecting noise.\n",
    "epsilon = None  # Set to None to get no noise.\n",
    "delta = None "
   ]
  },
  {
   "cell_type": "code",
   "execution_count": 13,
   "metadata": {
    "ExecuteTime": {
     "end_time": "2021-09-21T15:47:59.706577Z",
     "start_time": "2021-09-21T15:47:56.833820Z"
    }
   },
   "outputs": [],
   "source": [
    "aggdata = AggDataset( train , features, \"*&*\",  label, epsilon, delta )"
   ]
  },
  {
   "cell_type": "code",
   "execution_count": 14,
   "metadata": {
    "ExecuteTime": {
     "end_time": "2021-09-21T15:48:00.854308Z",
     "start_time": "2021-09-21T15:48:00.814486Z"
    }
   },
   "outputs": [
    {
     "name": "stdout",
     "output_type": "stream",
     "text": [
      " Nb Queries: 15\n",
      " Noise distribution: None\n"
     ]
    }
   ],
   "source": [
    "print( f\" Nb Queries: {len(aggdata.aggDisplays)}\")\n",
    "print( f\" Noise distribution: {aggdata.noiseDistribution}\" )"
   ]
  },
  {
   "cell_type": "code",
   "execution_count": null,
   "metadata": {
    "ExecuteTime": {
     "end_time": "2021-09-21T15:48:53.557014Z",
     "start_time": "2021-09-21T15:48:53.475861Z"
    }
   },
   "outputs": [],
   "source": []
  },
  {
   "cell_type": "code",
   "execution_count": 19,
   "metadata": {
    "ExecuteTime": {
     "end_time": "2021-09-21T15:49:15.476028Z",
     "start_time": "2021-09-21T15:49:15.441164Z"
    }
   },
   "outputs": [
    {
     "name": "stdout",
     "output_type": "stream",
     "text": [
      "list of queries ['cat1', 'cat4', 'cat6', 'cat8', 'cat9', 'cat1&cat4', 'cat1&cat6', 'cat1&cat8', 'cat1&cat9', 'cat4&cat6', 'cat4&cat8', 'cat4&cat9', 'cat6&cat8', 'cat6&cat9', 'cat8&cat9']\n"
     ]
    }
   ],
   "source": [
    "# aggdata may be viewed as a dictionary queryname -> dataframe\n",
    "queries = [x for x in aggdata.aggDisplays]\n",
    "print( f\"list of queries {queries}\" )"
   ]
  },
  {
   "cell_type": "code",
   "execution_count": null,
   "metadata": {},
   "outputs": [],
   "source": []
  },
  {
   "cell_type": "markdown",
   "metadata": {},
   "source": [
    "# Comparing models on noiseless data"
   ]
  },
  {
   "cell_type": "code",
   "execution_count": 24,
   "metadata": {
    "ExecuteTime": {
     "end_time": "2021-09-21T15:50:03.871045Z",
     "start_time": "2021-09-21T15:50:02.837321Z"
    }
   },
   "outputs": [],
   "source": [
    "aggdata = AggDataset( train , features, \"*&*\",  label, None, None )"
   ]
  },
  {
   "cell_type": "code",
   "execution_count": 25,
   "metadata": {
    "ExecuteTime": {
     "end_time": "2021-09-21T15:50:04.724276Z",
     "start_time": "2021-09-21T15:50:04.691635Z"
    }
   },
   "outputs": [],
   "source": [
    "#  Set to True to run the full benchmarks on Regulaization parameter.\n",
    "# Keep to false to get only the selected value\n",
    "runBenchmarks = False"
   ]
  },
  {
   "cell_type": "markdown",
   "metadata": {},
   "source": [
    "##### logistic Regression\n",
    "- Using full log instead of aggdata. \n",
    "- Training with all \"crossfeatures\" found in agg data ( ie quadratic kernell)\n",
    "- We do not expect to do better, the goal is to get similar performances"
   ]
  },
  {
   "cell_type": "code",
   "execution_count": 26,
   "metadata": {
    "ExecuteTime": {
     "end_time": "2021-09-21T15:51:12.094839Z",
     "start_time": "2021-09-21T15:50:09.271327Z"
    }
   },
   "outputs": [
    {
     "name": "stdout",
     "output_type": "stream",
     "text": [
      "Logistic(*&*), l2:16 train NLLH=0.0600, NMSE=0.0772   valid NLLH=0.0560, NMSE=0.0724  \n"
     ]
    }
   ],
   "source": [
    "## regulL2 was  benched to get best validation LLH\n",
    "regulL2s = [4, 8, 16, 32, 64, 128, 256, 512]\n",
    "if not runBenchmarks:\n",
    "    regulL2s = [16] if dataset == \"small\" else [128] if dataset == \"sampled\" else [64]\n",
    "\n",
    "for regulL2 in regulL2s:\n",
    "    logisticCfs = LogisticModelWithCF( \"click\" , features, \"*&*\"  , train ,\n",
    "                                      hashspace=2**22 , lambdaL2 = regulL2  )\n",
    "    logisticCfs.fit( train )\n",
    "    print( f\"Logistic(*&*), l2:{regulL2}\" ,  \"train\",  Validation.run(logisticCfs,train) , \"valid\" , Validation.run(logisticCfs,valid)   )"
   ]
  },
  {
   "cell_type": "markdown",
   "metadata": {},
   "source": [
    "##### logistic Regression from aggregated clicks and full display data (quadratic kernell)\n",
    " - same performances as \"standard\" logistic regression\n",
    " - but still using full display data, so not really usefull"
   ]
  },
  {
   "cell_type": "code",
   "execution_count": null,
   "metadata": {
    "ExecuteTime": {
     "end_time": "2021-02-11T13:36:29.111314Z",
     "start_time": "2021-02-11T13:36:22.558240Z"
    }
   },
   "outputs": [],
   "source": [
    "## regulL2 was  benched to get best validation LLH\n",
    "regulL2s = [4, 8, 16, 32, 64, 128, 256, 512]\n",
    "if not runBenchmarks:\n",
    "    regulL2s = [16] if dataset == \"small\" else [128] if dataset == \"sampled\" else [64]\n",
    "\n",
    "for regulL2 in regulL2s:\n",
    "    logisticCfs = AggLogistic(  aggdata , features, clicksCfs = \"*&*\" , regulL2=regulL2 )\n",
    "    logisticCfs.fit( train[features] , nbIter = 200 )\n",
    "    print( f\"Logistic(*&*), l2:{regulL2}\" ,  \"train\",  Validation.run(logisticCfs,train) , \"valid\" , Validation.run(logisticCfs,valid)   )\n",
    "    "
   ]
  },
  {
   "cell_type": "markdown",
   "metadata": {
    "ExecuteTime": {
     "end_time": "2021-02-11T11:22:38.398714Z",
     "start_time": "2021-02-11T11:22:38.359320Z"
    }
   },
   "source": [
    "##### logistic Regression without quadratic kernell\n",
    " - still solid baseline, but significantly weaker than logistic with quadratic kernell"
   ]
  },
  {
   "cell_type": "code",
   "execution_count": null,
   "metadata": {
    "ExecuteTime": {
     "end_time": "2021-02-11T13:36:31.810019Z",
     "start_time": "2021-02-11T13:36:29.113201Z"
    }
   },
   "outputs": [],
   "source": [
    "regulL2s = [0.5, 1, 2, 4, 8, 16, 32, 64, 128, 256, 512]\n",
    "if not runBenchmarks:\n",
    "    regulL2s = [1] if dataset == \"small\" else [8] \n",
    "    \n",
    "for regulL2 in regulL2s:\n",
    "    logisticCfs = AggLogistic(  aggdata , features, clicksCfs = \"*\" , regulL2=regulL2 )\n",
    "    logisticCfs.fit( train[features] , nbIter = 200 )\n",
    "    print( f\"Logistic(*&*), l2:{regulL2}\" ,  \"train\",  Validation.run(logisticCfs,train) , \"valid\" , Validation.run(logisticCfs,valid)   )\n",
    "    "
   ]
  },
  {
   "cell_type": "code",
   "execution_count": null,
   "metadata": {
    "ExecuteTime": {
     "end_time": "2021-01-13T16:37:21.632389Z",
     "start_time": "2021-01-13T16:37:11.169238Z"
    }
   },
   "outputs": [],
   "source": []
  },
  {
   "cell_type": "markdown",
   "metadata": {},
   "source": [
    "##### Proposed MRF model\n",
    "- uses only aggregated data\n",
    "- almost retrieves logitic performances"
   ]
  },
  {
   "cell_type": "code",
   "execution_count": null,
   "metadata": {
    "ExecuteTime": {
     "end_time": "2021-09-21T15:52:44.545333Z",
     "start_time": "2021-09-21T15:52:44.515762Z"
    }
   },
   "outputs": [],
   "source": []
  },
  {
   "cell_type": "code",
   "execution_count": 30,
   "metadata": {
    "ExecuteTime": {
     "end_time": "2021-09-21T15:56:58.341821Z",
     "start_time": "2021-09-21T15:53:13.411762Z"
    }
   },
   "outputs": [
    {
     "name": "stdout",
     "output_type": "stream",
     "text": [
      "MRF lambda1= 16 train NLLH=0.0574, NMSE=0.0741   valid NLLH=0.0546, NMSE=0.0708  \n"
     ]
    }
   ],
   "source": [
    "regulL2s = [ 4, 8, 16, 32, 64, 128, 256, 512]\n",
    "if not runBenchmarks:\n",
    "    regulL2s = [16] if dataset == \"small\" else [128] if dataset == \"sampled\" else 512 \n",
    "nbSamples = 50000\n",
    "nbIter = 200\n",
    "if dataset == \"full\": # requires more samples and more training iterations to converge.\n",
    "    print( \"Warning: training one model with these settings may take about 1 week\" )\n",
    "    nbIter = 1500\n",
    "    nbSamples = 400000    \n",
    "\n",
    "for regulL2 in regulL2s:\n",
    "    params = AggMRFModelParams(\n",
    "        features=features,\n",
    "        exactComputation=False ,\n",
    "        clicksCfs = \"*&*\",\n",
    "        displaysCfs=\"*&*\",\n",
    "        nbSamples = nbSamples,\n",
    "        regulL2=1.0,\n",
    "        regulL2Click = regulL2\n",
    "    )\n",
    "    self = AggMRFModel(aggdata, params)\n",
    "    self.fit(nbIter)\n",
    "    print( f\"MRF lambda1= {regulL2}\",  \"train\",   Validation.run(self,train) , \"valid\" , Validation.run(self,valid)   )"
   ]
  },
  {
   "cell_type": "markdown",
   "metadata": {
    "ExecuteTime": {
     "end_time": "2021-02-11T11:40:15.866137Z",
     "start_time": "2021-02-11T11:40:15.820604Z"
    }
   },
   "source": [
    "#### Naive Bayes\n",
    "- rather weak baseline\n",
    "- would require only examples and labels counts aggregated on each single feature\n",
    "- requires very strong L2 regularization to get Okish results when the number of features grows"
   ]
  },
  {
   "cell_type": "code",
   "execution_count": null,
   "metadata": {
    "ExecuteTime": {
     "end_time": "2021-02-11T13:40:23.249012Z",
     "start_time": "2021-02-11T13:39:54.575952Z"
    }
   },
   "outputs": [],
   "source": [
    "## Implementation:  one classifier (logistic regresion) per feature.\n",
    "regulL2s = [ 4, 8, 16, 32, 64, 128, 256, 512]\n",
    "if not runBenchmarks:\n",
    "    regulL2s = [1] if dataset == \"small\" else [256]\n",
    "\n",
    "for regulL2 in regulL2s:\n",
    "    self = NaiveBayesModel( label, features , regulL2)\n",
    "    self.fit(train)\n",
    "    print( f\"NaiveBayes, regulL={regulL2}\",  \"train\",   Validation.run(self,train) , \"valid\" , Validation.run(self,valid)   )"
   ]
  },
  {
   "cell_type": "code",
   "execution_count": null,
   "metadata": {
    "ExecuteTime": {
     "end_time": "2021-02-11T13:43:03.176283Z",
     "start_time": "2021-02-11T13:40:23.250880Z"
    }
   },
   "outputs": [],
   "source": [
    "## Implementation:  MRF using only aggregated data on single features\n",
    "regulL2s = [1, 2, 4, 8, 16, 32, 64, 128, 256, 512]\n",
    "if not runBenchmarks:\n",
    "    regulL2s = [1] if dataset == \"small\" else [256] \n",
    "\n",
    "for regulL2 in regulL2s:\n",
    "    print( f\"nbSamples:{nbSamples} , nbIter:{nbIter}, lambda_1:{regulL2} \" )\n",
    "    params = AggMRFModelParams(\n",
    "        exactComputation=False,\n",
    "        clicksCfs = \"*\",\n",
    "        displaysCfs=\"*\",\n",
    "        nbSamples = 50000,\n",
    "        regulL2=1.0,\n",
    "        regulL2Click = regulL2\n",
    "    )\n",
    "    self = AggMRFModel(aggdata, features, params)\n",
    "    self.fit(200)\n",
    "    print( f\"NaiveBayes,(MRF implem) lambda1= {regulL2}\",  \"train\",   Validation.run(self,train) , \"valid\" , Validation.run(self,valid)   )"
   ]
  },
  {
   "cell_type": "code",
   "execution_count": null,
   "metadata": {},
   "outputs": [],
   "source": []
  },
  {
   "cell_type": "markdown",
   "metadata": {},
   "source": [
    "#### MRF without \"cross-features\" on the P(Y|X) part of the model\n",
    "Should be compared to the \"simple\" logistic with no Kernell. Requires:\n",
    "- count of clicks aggregated on each feature,\n",
    "- count of displays aggregated on each pair of features"
   ]
  },
  {
   "cell_type": "code",
   "execution_count": null,
   "metadata": {
    "ExecuteTime": {
     "end_time": "2021-02-11T13:46:03.680015Z",
     "start_time": "2021-02-11T13:43:03.178172Z"
    }
   },
   "outputs": [],
   "source": [
    "regulL2s = [1, 2, 4, 8, 16, 32, 64, 128, 256, 512]\n",
    "if not runBenchmarks:\n",
    "    regulL2s = [4] if dataset == \"small\" else [64] \n",
    "\n",
    "for regulL2 in regulL2s:\n",
    "    print( f\"nbSamples:{nbSamples} , nbIter:{nbIter}, lambda_1:{regulL2} \" )\n",
    "    params = AggMRFModelParams(\n",
    "        exactComputation=False,\n",
    "        clicksCfs = \"*\",\n",
    "        displaysCfs=\"*&*\",\n",
    "        nbSamples = 50000,\n",
    "        regulL2=1.0,\n",
    "        regulL2Click = regulL2\n",
    "    )\n",
    "    self = AggMRFModel(aggdata, features, params)\n",
    "    self.fit(200)\n",
    "    print( f\"MRF_simple lambda1= {regulL2}\",  \"train\",   Validation.run(self,train) , \"valid\" , Validation.run(self,valid)   )"
   ]
  },
  {
   "cell_type": "code",
   "execution_count": null,
   "metadata": {},
   "outputs": [],
   "source": []
  },
  {
   "cell_type": "markdown",
   "metadata": {},
   "source": [
    "# Other results on noiseless data"
   ]
  },
  {
   "cell_type": "markdown",
   "metadata": {},
   "source": [
    "## Benching MRF regularization\n",
    "\n",
    "the MRF model has 2 distinct regularization parameters:\n",
    "- one controling the smoothness of the P(Y|X) . This one should be set roughly with the same value as the regularization parameter of a logistic regression with the same features.\n",
    "- one controling the smoothness of the P(X). This parameter should be kept to a low value.\n",
    "\n"
   ]
  },
  {
   "cell_type": "code",
   "execution_count": null,
   "metadata": {
    "ExecuteTime": {
     "end_time": "2021-02-11T13:49:22.318016Z",
     "start_time": "2021-02-11T13:46:03.683111Z"
    }
   },
   "outputs": [],
   "source": [
    "regulL2s = [ 0.25, 1, 4, 16, 64, 256]\n",
    "lambdas = [ (l1,l2) for l1 in regulL2s for l2 in regulL2s  ]\n",
    "\n",
    "if not runBenchmarks or dataset != \"small\":\n",
    "    # running only with lambda_1 set to the value giving best results when lambda_2=1,  \n",
    "    #  and setting lambda_2 to lambda_1. \n",
    "    lambdas = [(16,16)] if dataset == \"small\" else [(128,128)] \n",
    "\n",
    "for lambda1,lambda2 in lambdas:\n",
    "    params = AggMRFModelParams(\n",
    "        exactComputation=False,\n",
    "        clicksCfs = \"*&*\",\n",
    "        displaysCfs=\"*&*\",\n",
    "        nbSamples = 50000,\n",
    "        regulL2=lambda2,\n",
    "        regulL2Click = lambda1\n",
    "    )\n",
    "    self = AggMRFModel(aggdata, features, params)\n",
    "    self.fit(200)\n",
    "    print( f\"MRF l1= {lambda1} l2= {lambda2}\",  \"train\",   Validation.run(self,train) , \"valid\" , Validation.run(self,valid)   )"
   ]
  },
  {
   "cell_type": "markdown",
   "metadata": {
    "ExecuteTime": {
     "end_time": "2021-02-11T12:18:06.919150Z",
     "start_time": "2021-02-11T12:18:06.882276Z"
    }
   },
   "source": [
    "## Sampling Y in the MC estimate of the gradient\n",
    "- this increases variance significantly, at least when the dataset is strongly imbalanced\n"
   ]
  },
  {
   "cell_type": "code",
   "execution_count": null,
   "metadata": {
    "ExecuteTime": {
     "end_time": "2021-02-11T13:49:22.358615Z",
     "start_time": "2021-02-11T13:49:22.319919Z"
    }
   },
   "outputs": [],
   "source": [
    "def get_unbalanced_df(df , label_sampling_rate , label ):\n",
    "    labels = df[label].values\n",
    "    keep = ( -labels + np.random.rand ( len(labels) )) > -label_sampling_rate\n",
    "    return df[  keep ].reset_index() .copy()"
   ]
  },
  {
   "cell_type": "code",
   "execution_count": null,
   "metadata": {
    "ExecuteTime": {
     "end_time": "2021-02-11T13:49:23.209490Z",
     "start_time": "2021-02-11T13:49:22.360262Z"
    }
   },
   "outputs": [],
   "source": [
    "label_sampling_rate = 0.02\n",
    "train_unbalanced = get_unbalanced_df( train,  label_sampling_rate, label  )\n",
    "valid_unbalanced = get_unbalanced_df( valid,  label_sampling_rate, label  )\n",
    "aggdata_unbalanced = AggDataset( features, \"*&*\", train_unbalanced, label )\n",
    "\n",
    "print(train_unbalanced[label].sum() / train[label].sum())\n",
    "print((1-train_unbalanced[label]).sum() /( 1-train[label]).sum())"
   ]
  },
  {
   "cell_type": "code",
   "execution_count": null,
   "metadata": {
    "ExecuteTime": {
     "end_time": "2021-02-11T13:50:36.825666Z",
     "start_time": "2021-02-11T13:49:23.211240Z"
    }
   },
   "outputs": [],
   "source": [
    "regulL2 = 16.0\n",
    "for nbSamples in [100,1000,10000]:\n",
    "    print( f\"nbSamples:{nbSamples} \" )\n",
    "    params = AggMRFModelParams(\n",
    "        exactComputation=False,\n",
    "        clicksCfs = \"*&*\",\n",
    "        displaysCfs=\"*&*\",\n",
    "        nbSamples = nbSamples,\n",
    "        regulL2=1.0,\n",
    "        regulL2Click = regulL2\n",
    "    )\n",
    "    self = AggMRFModel(aggdata_unbalanced, features , params)\n",
    "    self.fit(100)\n",
    "    print( f\"MRF(collapsed),nbSamples= {nbSamples}\",  \"train\",   Validation.run(self,train_unbalanced) , \"valid\" , Validation.run(self,valid_unbalanced)   )\n",
    "    params = AggMRFModelParams(\n",
    "        exactComputation=False,\n",
    "        clicksCfs = \"*&*\",\n",
    "        displaysCfs=\"*&*\",\n",
    "        nbSamples = nbSamples,\n",
    "        regulL2=1.0,\n",
    "        regulL2Click = regulL2\n",
    "    )\n",
    "    self = AggMRFModel(aggdata_unbalanced, features, params)\n",
    "    self.decollapseGibbs = True\n",
    "    self.fit(100)\n",
    "    print( f\"MRF(Sampling Y),nbSamples= {nbSamples}\",  \"train\",   Validation.run(self,train_unbalanced) , \"valid\" , Validation.run(self,valid_unbalanced)   )    \n",
    "print(\"\")    "
   ]
  },
  {
   "cell_type": "code",
   "execution_count": null,
   "metadata": {
    "ExecuteTime": {
     "end_time": "2021-02-11T12:40:43.738685Z",
     "start_time": "2021-02-11T12:40:43.700028Z"
    }
   },
   "outputs": [],
   "source": []
  },
  {
   "cell_type": "markdown",
   "metadata": {
    "ExecuteTime": {
     "end_time": "2021-02-11T12:41:22.419387Z",
     "start_time": "2021-02-11T12:41:22.384374Z"
    }
   },
   "source": [
    "# Learning differential private models"
   ]
  },
  {
   "cell_type": "code",
   "execution_count": null,
   "metadata": {
    "ExecuteTime": {
     "end_time": "2021-02-11T13:50:36.869976Z",
     "start_time": "2021-02-11T13:50:36.827727Z"
    }
   },
   "outputs": [],
   "source": [
    "epsilons = [10.0 , 1.0 , 0.1]\n",
    "deltas = [ None ,1e-7, 1e-4 ]\n",
    "regulL2s = [4.0, 16, 64, 256, 1024 ]\n",
    "\n",
    "\n",
    "if runBenchmarks == False:\n",
    "    epsilons = [1.0]\n",
    "    deltas = [ None ,1e-7 ]\n",
    "    regulL2s = [ 16, 64 ]\n"
   ]
  },
  {
   "cell_type": "code",
   "execution_count": null,
   "metadata": {
    "ExecuteTime": {
     "end_time": "2021-02-11T12:51:09.157028Z",
     "start_time": "2021-02-11T12:51:09.122758Z"
    }
   },
   "outputs": [],
   "source": []
  },
  {
   "cell_type": "code",
   "execution_count": null,
   "metadata": {
    "ExecuteTime": {
     "end_time": "2021-02-11T14:03:52.491200Z",
     "start_time": "2021-02-11T13:50:36.871619Z"
    }
   },
   "outputs": [],
   "source": [
    "for epsilon in epsilons:\n",
    "    for delta in deltas:\n",
    "        print(\"\")\n",
    "        ## seeding to ensure each algo will run on the same dataset. \n",
    "        # In the article, this was not seeded, but both presented models were trained on the same instance of aggdata \n",
    "        np.random.seed(0)\n",
    "        aggdata = AggDataset( train , features, \"*&*\",  label, epsilon, delta )\n",
    "        print(\"\")\n",
    "        params = AggMRFModelParams(\n",
    "            exactComputation=False,\n",
    "            clicksCfs = \"*&*\",\n",
    "            displaysCfs=\"*&*\",\n",
    "            nbSamples = 50000,\n",
    "            regulL2=1.0,\n",
    "            regulL2Click = regulL2\n",
    "        )\n",
    "        for regulL2 in regulL2s:\n",
    "            self = AggMRFModel(aggdata, features, params)\n",
    "            self.fit(200)\n",
    "            print( f\"MRF(no noise model) l1={regulL2}\",  \"train\",   Validation.run(self,train) , \"valid\" , Validation.run(self,valid)   )\n",
    "        "
   ]
  },
  {
   "cell_type": "code",
   "execution_count": null,
   "metadata": {
    "ExecuteTime": {
     "end_time": "2021-02-11T14:17:10.935884Z",
     "start_time": "2021-02-11T14:03:52.493151Z"
    }
   },
   "outputs": [],
   "source": [
    "for epsilon in epsilons:\n",
    "    for delta in deltas:\n",
    "        print(\"\")\n",
    "        ## seeding to ensure each algo will run on the same dataset\n",
    "        np.random.seed(0)\n",
    "        aggdata = AggDataset( train , features, \"*&*\",  label, epsilon, delta )\n",
    "        print(\"\")\n",
    "        for regulL2 in regulL2s:\n",
    "            params = AggMRFModelParams(\n",
    "                exactComputation=False,\n",
    "                clicksCfs = \"*&*\",\n",
    "                displaysCfs=\"*&*\",\n",
    "                nbSamples = 50000,\n",
    "                regulL2=1.0,\n",
    "                regulL2Click = regulL2,\n",
    "                noiseDistribution= aggdata.noiseDistribution\n",
    "            )\n",
    "            self = AggMRFModel(aggdata, features, params)\n",
    "            self.fit(200)\n",
    "            print( f\"MRF(modeling noise) l1={regulL2}\",  \"train\",   Validation.run(self,train) , \"valid\" , Validation.run(self,valid)   )\n",
    "        "
   ]
  },
  {
   "cell_type": "code",
   "execution_count": null,
   "metadata": {},
   "outputs": [],
   "source": []
  },
  {
   "cell_type": "code",
   "execution_count": null,
   "metadata": {},
   "outputs": [],
   "source": []
  }
 ],
 "metadata": {
  "colab": {
   "collapsed_sections": [],
   "name": "MTC.ipynb",
   "provenance": [],
   "toc_visible": true
  },
  "hide_input": false,
  "kernelspec": {
   "display_name": "aggregate_models_env",
   "language": "python",
   "name": "aggregate_models_env"
  },
  "language_info": {
   "codemirror_mode": {
    "name": "ipython",
    "version": 3
   },
   "file_extension": ".py",
   "mimetype": "text/x-python",
   "name": "python",
   "nbconvert_exporter": "python",
   "pygments_lexer": "ipython3",
   "version": "3.6.8"
  },
  "toc": {
   "base_numbering": 1,
   "nav_menu": {},
   "number_sections": true,
   "sideBar": true,
   "skip_h1_title": false,
   "title_cell": "Table of Contents",
   "title_sidebar": "Contents",
   "toc_cell": false,
   "toc_position": {},
   "toc_section_display": true,
   "toc_window_display": false
  }
 },
 "nbformat": 4,
 "nbformat_minor": 4
}
