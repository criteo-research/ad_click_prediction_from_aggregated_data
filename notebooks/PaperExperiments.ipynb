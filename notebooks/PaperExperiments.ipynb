{
 "cells": [
  {
   "cell_type": "code",
   "execution_count": 4,
   "metadata": {
    "ExecuteTime": {
     "end_time": "2021-09-21T14:47:44.839513Z",
     "start_time": "2021-09-21T14:47:44.605685Z"
    }
   },
   "outputs": [
    {
     "name": "stdout",
     "output_type": "stream",
     "text": [
      "The autoreload extension is already loaded. To reload it, use:\n",
      "  %reload_ext autoreload\n"
     ]
    }
   ],
   "source": [
    "%load_ext autoreload\n",
    "%autoreload 2\n",
    "from aggregated_models.myimports  import *\n",
    "\n",
    "plt.style.use('ggplot')\n",
    "\n",
    "from aggregated_models.aggdataset import AggDataset\n",
    "from aggregated_models.basicmodels import NaiveBayesModel, LogisticModelWithCF\n",
    "from aggregated_models.validation import MetricsComputer\n",
    "from aggregated_models.aggLogistic import AggLogistic\n",
    "from aggregated_models.agg_mrf_model import AggMRFModel, AggMRFModelParams\n",
    "from  aggregated_models import loaddata"
   ]
  },
  {
   "cell_type": "code",
   "execution_count": 5,
   "metadata": {
    "ExecuteTime": {
     "end_time": "2021-09-21T14:47:47.111767Z",
     "start_time": "2021-09-21T14:47:47.084806Z"
    }
   },
   "outputs": [],
   "source": [
    "Validation = MetricsComputer(\"click\")"
   ]
  },
  {
   "cell_type": "markdown",
   "metadata": {
    "colab_type": "text",
    "id": "OWC5yFQ-0BIB"
   },
   "source": [
    "## Download Data\n",
    "- downloading criteo-research-attribution-dataset\n",
    "- from url http://go.criteo.net"
   ]
  },
  {
   "cell_type": "code",
   "execution_count": 6,
   "metadata": {
    "ExecuteTime": {
     "end_time": "2021-09-21T14:50:18.465828Z",
     "start_time": "2021-09-21T14:47:58.512463Z"
    }
   },
   "outputs": [
    {
     "name": "stdout",
     "output_type": "stream",
     "text": [
      "downloading dataset\n",
      "unzipping\n"
     ]
    }
   ],
   "source": [
    "loaddata.download_dataset()"
   ]
  },
  {
   "cell_type": "markdown",
   "metadata": {},
   "source": [
    "## Loading data\n",
    "3 versions of the dataset are used for experiments: \"small\" , \"sampled\" and \"full\"\n",
    "- \"full\" has 11 features with about 16M samples\n",
    "- \"sampled\" has the same 11 features, but only 160k samples\n",
    "- \"small\" also has 160k samples, but only the 5 features with lowest modalities count, and allow for fast experiments."
   ]
  },
  {
   "cell_type": "code",
   "execution_count": 8,
   "metadata": {
    "ExecuteTime": {
     "end_time": "2021-09-21T15:47:50.436142Z",
     "start_time": "2021-09-21T15:47:50.349318Z"
    }
   },
   "outputs": [],
   "source": [
    "dataset= \"small\" # fast experiments\n",
    "# dataset= \"sampled\" # Training a MRF may require 5h and 16Go data\n",
    "# dataset= \"full\"  # Training a MRF may require 32Go, and several days"
   ]
  },
  {
   "cell_type": "code",
   "execution_count": 9,
   "metadata": {
    "ExecuteTime": {
     "end_time": "2021-09-21T15:47:52.455960Z",
     "start_time": "2021-09-21T15:47:51.598348Z"
    }
   },
   "outputs": [
    {
     "name": "stdout",
     "output_type": "stream",
     "text": [
      "Sampling ratio :0.01\n",
      "Nb train samples: 115382 , Nb valid samples: 49770  \n",
      "features:['cat1', 'cat4', 'cat6', 'cat8', 'cat9']\n"
     ]
    }
   ],
   "source": [
    "train, valid, features, label = loaddata.getDataset(dataset)"
   ]
  },
  {
   "cell_type": "code",
   "execution_count": 34,
   "metadata": {
    "ExecuteTime": {
     "end_time": "2021-09-22T13:50:51.380282Z",
     "start_time": "2021-09-22T13:50:51.081559Z"
    }
   },
   "outputs": [
    {
     "data": {
      "text/html": [
       "<div>\n",
       "<style scoped>\n",
       "    .dataframe tbody tr th:only-of-type {\n",
       "        vertical-align: middle;\n",
       "    }\n",
       "\n",
       "    .dataframe tbody tr th {\n",
       "        vertical-align: top;\n",
       "    }\n",
       "\n",
       "    .dataframe thead th {\n",
       "        text-align: right;\n",
       "    }\n",
       "</style>\n",
       "<table border=\"1\" class=\"dataframe\">\n",
       "  <thead>\n",
       "    <tr style=\"text-align: right;\">\n",
       "      <th></th>\n",
       "      <th>cat1</th>\n",
       "      <th>cat4</th>\n",
       "      <th>cat6</th>\n",
       "      <th>cat8</th>\n",
       "      <th>cat9</th>\n",
       "      <th>click</th>\n",
       "      <th>display</th>\n",
       "    </tr>\n",
       "  </thead>\n",
       "  <tbody>\n",
       "    <tr>\n",
       "      <th>15769950</th>\n",
       "      <td>30763035</td>\n",
       "      <td>29196072</td>\n",
       "      <td>29196072</td>\n",
       "      <td>29196072</td>\n",
       "      <td>29196072</td>\n",
       "      <td>1</td>\n",
       "      <td>1</td>\n",
       "    </tr>\n",
       "    <tr>\n",
       "      <th>6744972</th>\n",
       "      <td>30763035</td>\n",
       "      <td>29196072</td>\n",
       "      <td>1973606</td>\n",
       "      <td>5824233</td>\n",
       "      <td>29196072</td>\n",
       "      <td>0</td>\n",
       "      <td>1</td>\n",
       "    </tr>\n",
       "  </tbody>\n",
       "</table>\n",
       "</div>"
      ],
      "text/plain": [
       "              cat1      cat4      cat6      cat8      cat9  click  display\n",
       "15769950  30763035  29196072  29196072  29196072  29196072      1        1\n",
       "6744972   30763035  29196072   1973606   5824233  29196072      0        1"
      ]
     },
     "execution_count": 34,
     "metadata": {},
     "output_type": "execute_result"
    }
   ],
   "source": [
    "train.sample(2)"
   ]
  },
  {
   "cell_type": "code",
   "execution_count": 35,
   "metadata": {
    "ExecuteTime": {
     "end_time": "2021-09-22T13:50:59.387934Z",
     "start_time": "2021-09-22T13:50:59.281292Z"
    }
   },
   "outputs": [
    {
     "name": "stdout",
     "output_type": "stream",
     "text": [
      "feature cat1 has 9 distinct modalities\n",
      "feature cat4 has 14 distinct modalities\n",
      "feature cat6 has 30 distinct modalities\n",
      "feature cat8 has 11 distinct modalities\n",
      "feature cat9 has 30 distinct modalities\n"
     ]
    }
   ],
   "source": [
    "for f in features:\n",
    "    nbModalities = len(set(train[f].values))\n",
    "    print( f\"feature {f} has {nbModalities} distinct modalities\" )"
   ]
  },
  {
   "cell_type": "markdown",
   "metadata": {},
   "source": [
    "## Preparing Aggregated data\n",
    "\n",
    "- aggdata contains projections of number of displays and clicks along each pair of feature\n",
    "- may also add some noise to make it differential private\n",
    "- the goal is to learn a model predicting Proba( label | features) using *only* those aggdata."
   ]
  },
  {
   "cell_type": "code",
   "execution_count": 36,
   "metadata": {
    "ExecuteTime": {
     "end_time": "2021-09-22T13:51:09.391676Z",
     "start_time": "2021-09-22T13:51:09.363848Z"
    }
   },
   "outputs": [],
   "source": [
    "# parameters for of the privacy protecting noise.\n",
    "epsilon = None  # Set to None to get no noise.\n",
    "delta = None "
   ]
  },
  {
   "cell_type": "code",
   "execution_count": 37,
   "metadata": {
    "ExecuteTime": {
     "end_time": "2021-09-22T13:51:57.485096Z",
     "start_time": "2021-09-22T13:51:56.262359Z"
    }
   },
   "outputs": [],
   "source": [
    "aggdata = AggDataset( train , features, \"*&*\",  label, epsilon, delta )"
   ]
  },
  {
   "cell_type": "code",
   "execution_count": 47,
   "metadata": {
    "ExecuteTime": {
     "end_time": "2021-09-22T13:54:08.995576Z",
     "start_time": "2021-09-22T13:54:08.962943Z"
    }
   },
   "outputs": [
    {
     "data": {
      "text/plain": [
       "array([0.0000e+00, 0.0000e+00, 0.0000e+00, 0.0000e+00, 0.0000e+00,\n",
       "       4.2000e+01, 0.0000e+00, 0.0000e+00, 0.0000e+00, 0.0000e+00,\n",
       "       0.0000e+00, 0.0000e+00, 0.0000e+00, 0.0000e+00, 0.0000e+00,\n",
       "       1.0000e+00, 0.0000e+00, 2.0000e+00, 0.0000e+00, 0.0000e+00,\n",
       "       0.0000e+00, 0.0000e+00, 0.0000e+00, 0.0000e+00, 0.0000e+00,\n",
       "       1.6700e+02, 0.0000e+00, 0.0000e+00, 0.0000e+00, 0.0000e+00,\n",
       "       0.0000e+00, 0.0000e+00, 0.0000e+00, 0.0000e+00, 0.0000e+00,\n",
       "       2.0000e+01, 1.6000e+01, 2.7000e+01, 3.0000e+00, 0.0000e+00,\n",
       "       0.0000e+00, 0.0000e+00, 0.0000e+00, 0.0000e+00, 0.0000e+00,\n",
       "       6.1000e+01, 5.2000e+01, 8.1000e+01, 2.0000e+00, 0.0000e+00,\n",
       "       0.0000e+00, 0.0000e+00, 0.0000e+00, 0.0000e+00, 0.0000e+00,\n",
       "       2.0000e+00, 0.0000e+00, 0.0000e+00, 0.0000e+00, 0.0000e+00,\n",
       "       0.0000e+00, 0.0000e+00, 0.0000e+00, 0.0000e+00, 0.0000e+00,\n",
       "       5.0900e+02, 9.1000e+01, 1.0000e+00, 1.0000e+00, 0.0000e+00,\n",
       "       0.0000e+00, 0.0000e+00, 0.0000e+00, 0.0000e+00, 0.0000e+00,\n",
       "       0.0000e+00, 0.0000e+00, 0.0000e+00, 0.0000e+00, 0.0000e+00,\n",
       "       0.0000e+00, 0.0000e+00, 0.0000e+00, 0.0000e+00, 0.0000e+00,\n",
       "       1.0000e+00, 3.0000e+00, 2.0000e+00, 0.0000e+00, 0.0000e+00,\n",
       "       0.0000e+00, 0.0000e+00, 0.0000e+00, 0.0000e+00, 0.0000e+00,\n",
       "       2.0000e+00, 0.0000e+00, 0.0000e+00, 0.0000e+00, 0.0000e+00,\n",
       "       0.0000e+00, 0.0000e+00, 0.0000e+00, 0.0000e+00, 0.0000e+00,\n",
       "       6.0400e+02, 6.0800e+02, 8.1400e+02, 5.0000e+00, 0.0000e+00,\n",
       "       0.0000e+00, 0.0000e+00, 0.0000e+00, 0.0000e+00, 0.0000e+00,\n",
       "       4.0000e+00, 8.0000e+00, 1.1000e+01, 0.0000e+00, 0.0000e+00,\n",
       "       4.2760e+03, 2.9810e+03, 6.3400e+02, 1.2370e+03, 1.1380e+03,\n",
       "       2.3150e+03, 2.1610e+03, 3.2070e+03, 2.0546e+04, 0.0000e+00,\n",
       "       0.0000e+00, 0.0000e+00, 0.0000e+00, 0.0000e+00, 0.0000e+00,\n",
       "       0.0000e+00, 0.0000e+00, 2.0000e+00, 0.0000e+00, 0.0000e+00,\n",
       "       0.0000e+00, 0.0000e+00, 0.0000e+00, 0.0000e+00, 0.0000e+00,\n",
       "       0.0000e+00, 0.0000e+00, 0.0000e+00, 0.0000e+00, 0.0000e+00])"
      ]
     },
     "execution_count": 47,
     "metadata": {},
     "output_type": "execute_result"
    }
   ],
   "source": [
    "aggdata.aggClicks[ 'cat1&cat4' ].Data"
   ]
  },
  {
   "cell_type": "code",
   "execution_count": 14,
   "metadata": {
    "ExecuteTime": {
     "end_time": "2021-09-21T15:48:00.854308Z",
     "start_time": "2021-09-21T15:48:00.814486Z"
    }
   },
   "outputs": [
    {
     "name": "stdout",
     "output_type": "stream",
     "text": [
      " Nb Queries: 15\n",
      " Noise distribution: None\n"
     ]
    }
   ],
   "source": [
    "print( f\" Nb Queries: {len(aggdata.aggDisplays)}\")\n",
    "print( f\" Noise distribution: {aggdata.noiseDistribution}\" )"
   ]
  },
  {
   "cell_type": "code",
   "execution_count": null,
   "metadata": {
    "ExecuteTime": {
     "end_time": "2021-09-21T15:48:53.557014Z",
     "start_time": "2021-09-21T15:48:53.475861Z"
    }
   },
   "outputs": [],
   "source": []
  },
  {
   "cell_type": "code",
   "execution_count": 19,
   "metadata": {
    "ExecuteTime": {
     "end_time": "2021-09-21T15:49:15.476028Z",
     "start_time": "2021-09-21T15:49:15.441164Z"
    }
   },
   "outputs": [
    {
     "name": "stdout",
     "output_type": "stream",
     "text": [
      "list of queries ['cat1', 'cat4', 'cat6', 'cat8', 'cat9', 'cat1&cat4', 'cat1&cat6', 'cat1&cat8', 'cat1&cat9', 'cat4&cat6', 'cat4&cat8', 'cat4&cat9', 'cat6&cat8', 'cat6&cat9', 'cat8&cat9']\n"
     ]
    }
   ],
   "source": [
    "# aggdata may be viewed as a dictionary queryname -> dataframe\n",
    "queries = [x for x in aggdata.aggDisplays]\n",
    "print( f\"list of queries {queries}\" )"
   ]
  },
  {
   "cell_type": "code",
   "execution_count": null,
   "metadata": {},
   "outputs": [],
   "source": []
  },
  {
   "cell_type": "markdown",
   "metadata": {},
   "source": [
    "# Comparing models on noiseless data"
   ]
  },
  {
   "cell_type": "code",
   "execution_count": 24,
   "metadata": {
    "ExecuteTime": {
     "end_time": "2021-09-21T15:50:03.871045Z",
     "start_time": "2021-09-21T15:50:02.837321Z"
    }
   },
   "outputs": [],
   "source": [
    "aggdata = AggDataset( train , features, \"*&*\",  label, None, None )"
   ]
  },
  {
   "cell_type": "code",
   "execution_count": 48,
   "metadata": {
    "ExecuteTime": {
     "end_time": "2021-09-22T13:55:51.893956Z",
     "start_time": "2021-09-22T13:55:51.645130Z"
    }
   },
   "outputs": [],
   "source": [
    "#  Set to True to run the full benchmarks on Regulaization parameter.\n",
    "# Keep to false to get only the selected value\n",
    "runBenchmarks = False"
   ]
  },
  {
   "cell_type": "markdown",
   "metadata": {},
   "source": [
    "##### logistic Regression\n",
    "- Using full log instead of aggdata. \n",
    "- Training with all \"crossfeatures\" found in agg data ( ie quadratic kernell)\n",
    "- We do not expect to do better, the goal is to get similar performances"
   ]
  },
  {
   "cell_type": "code",
   "execution_count": 26,
   "metadata": {
    "ExecuteTime": {
     "end_time": "2021-09-21T15:51:12.094839Z",
     "start_time": "2021-09-21T15:50:09.271327Z"
    }
   },
   "outputs": [
    {
     "name": "stdout",
     "output_type": "stream",
     "text": [
      "Logistic(*&*), l2:16 train NLLH=0.0600, NMSE=0.0772   valid NLLH=0.0560, NMSE=0.0724  \n"
     ]
    }
   ],
   "source": [
    "## regulL2 was  benched to get best validation LLH\n",
    "regulL2s = [4, 8, 16, 32, 64, 128, 256, 512]\n",
    "if not runBenchmarks:\n",
    "    regulL2s = [16] if dataset == \"small\" else [128] if dataset == \"sampled\" else [64]\n",
    "\n",
    "for regulL2 in regulL2s:\n",
    "    logisticCfs = LogisticModelWithCF( \"click\" , features, \"*&*\"  , train ,\n",
    "                                      hashspace=2**22 , lambdaL2 = regulL2  )\n",
    "    logisticCfs.fit( train )\n",
    "    print( f\"Logistic(*&*), l2:{regulL2}\" ,  \"train\",  Validation.run(logisticCfs,train) , \"valid\" , Validation.run(logisticCfs,valid)   )"
   ]
  },
  {
   "cell_type": "markdown",
   "metadata": {},
   "source": [
    "##### logistic Regression from aggregated clicks and full display data (quadratic kernell)\n",
    " - same performances as \"standard\" logistic regression\n",
    " - but still using full display data, so not really usefull"
   ]
  },
  {
   "cell_type": "code",
   "execution_count": null,
   "metadata": {
    "ExecuteTime": {
     "end_time": "2021-02-11T13:36:29.111314Z",
     "start_time": "2021-02-11T13:36:22.558240Z"
    }
   },
   "outputs": [],
   "source": [
    "## regulL2 was  benched to get best validation LLH\n",
    "regulL2s = [4, 8, 16, 32, 64, 128, 256, 512]\n",
    "if not runBenchmarks:\n",
    "    regulL2s = [16] if dataset == \"small\" else [128] if dataset == \"sampled\" else [64]\n",
    "\n",
    "for regulL2 in regulL2s:\n",
    "    logisticCfs = AggLogistic(  aggdata , features, clicksCfs = \"*&*\" , regulL2=regulL2 )\n",
    "    logisticCfs.fit( train[features] , nbIter = 200 )\n",
    "    print( f\"Logistic(*&*), l2:{regulL2}\" ,  \"train\",  Validation.run(logisticCfs,train) , \"valid\" , Validation.run(logisticCfs,valid)   )\n",
    "    "
   ]
  },
  {
   "cell_type": "markdown",
   "metadata": {
    "ExecuteTime": {
     "end_time": "2021-02-11T11:22:38.398714Z",
     "start_time": "2021-02-11T11:22:38.359320Z"
    }
   },
   "source": [
    "##### logistic Regression without quadratic kernell\n",
    " - still solid baseline, but significantly weaker than logistic with quadratic kernell"
   ]
  },
  {
   "cell_type": "code",
   "execution_count": 31,
   "metadata": {
    "ExecuteTime": {
     "end_time": "2021-09-21T16:14:47.670204Z",
     "start_time": "2021-09-21T16:14:44.570169Z"
    }
   },
   "outputs": [
    {
     "name": "stdout",
     "output_type": "stream",
     "text": [
      "Logistic(*&*), l2:1 train NLLH=0.0536, NMSE=0.0692   valid NLLH=0.0539, NMSE=0.0699  \n"
     ]
    }
   ],
   "source": [
    "regulL2s = [0.5, 1, 2, 4, 8, 16, 32, 64, 128, 256, 512]\n",
    "if not runBenchmarks:\n",
    "    regulL2s = [1] if dataset == \"small\" else [8] \n",
    "    \n",
    "for regulL2 in regulL2s:\n",
    "    logisticCfs = AggLogistic(  aggdata , features, clicksCfs = \"*\" , regulL2=regulL2 )\n",
    "    logisticCfs.fit( train[features] , nbIter = 200 )\n",
    "    print( f\"Logistic(*&*), l2:{regulL2}\" ,  \"train\",  Validation.run(logisticCfs,train) , \"valid\" , Validation.run(logisticCfs,valid)   )\n",
    "    "
   ]
  },
  {
   "cell_type": "code",
   "execution_count": null,
   "metadata": {
    "ExecuteTime": {
     "end_time": "2021-01-13T16:37:21.632389Z",
     "start_time": "2021-01-13T16:37:11.169238Z"
    }
   },
   "outputs": [],
   "source": []
  },
  {
   "cell_type": "markdown",
   "metadata": {},
   "source": [
    "##### Proposed MRF model\n",
    "- uses only aggregated data\n",
    "- almost retrieves logitic performances"
   ]
  },
  {
   "cell_type": "code",
   "execution_count": 49,
   "metadata": {
    "ExecuteTime": {
     "end_time": "2021-09-22T14:18:52.129730Z",
     "start_time": "2021-09-22T14:18:51.911860Z"
    }
   },
   "outputs": [],
   "source": [
    "regulL2s = [ 4, 8, 16, 32, 64, 128, 256, 512]\n",
    "if not runBenchmarks:\n",
    "    regulL2s = [16] if dataset == \"small\" else [128] if dataset == \"sampled\" else 512 \n",
    "nbSamples = 50000\n",
    "nbIter = 200\n",
    "if dataset == \"full\": # requires more samples and more training iterations to converge.\n",
    "    print( \"Warning: training one model with these settings may take about 1 week\" )\n",
    "    nbIter = 1500\n",
    "    nbSamples = 400000    "
   ]
  },
  {
   "cell_type": "code",
   "execution_count": 51,
   "metadata": {
    "ExecuteTime": {
     "end_time": "2021-09-22T14:19:10.053434Z",
     "start_time": "2021-09-22T14:19:10.025683Z"
    }
   },
   "outputs": [],
   "source": [
    "regulL2 = 16\n"
   ]
  },
  {
   "cell_type": "code",
   "execution_count": 52,
   "metadata": {
    "ExecuteTime": {
     "end_time": "2021-09-22T14:19:27.629561Z",
     "start_time": "2021-09-22T14:19:27.600600Z"
    }
   },
   "outputs": [],
   "source": [
    "\n",
    "\n",
    "    params = AggMRFModelParams(\n",
    "        features=features,\n",
    "        exactComputation=False ,\n",
    "        clicksCfs = \"*&*\",\n",
    "        displaysCfs=\"*&*\",\n",
    "        nbSamples = nbSamples,\n",
    "        regulL2=1.0,\n",
    "        regulL2Click = regulL2\n",
    "    )\n"
   ]
  },
  {
   "cell_type": "code",
   "execution_count": 53,
   "metadata": {
    "ExecuteTime": {
     "end_time": "2021-09-22T14:19:28.757579Z",
     "start_time": "2021-09-22T14:19:28.474498Z"
    }
   },
   "outputs": [],
   "source": [
    "    self = AggMRFModel(aggdata, params)"
   ]
  },
  {
   "cell_type": "code",
   "execution_count": 61,
   "metadata": {
    "ExecuteTime": {
     "end_time": "2021-09-22T14:21:42.599997Z",
     "start_time": "2021-09-22T14:21:42.570558Z"
    }
   },
   "outputs": [
    {
     "data": {
      "text/plain": [
       "array([[ 5,  5,  8, ...,  7,  0,  5],\n",
       "       [10, 10, 12, ..., 10, 12, 12],\n",
       "       [23,  1, 19, ..., 23,  0, 23],\n",
       "       [ 8,  8,  4, ...,  8,  0,  8],\n",
       "       [25, 25,  7, ..., 25, 17, 25]])"
      ]
     },
     "execution_count": 61,
     "metadata": {},
     "output_type": "execute_result"
    }
   ],
   "source": [
    "self.samples.data"
   ]
  },
  {
   "cell_type": "code",
   "execution_count": 54,
   "metadata": {
    "ExecuteTime": {
     "end_time": "2021-09-22T14:20:20.686706Z",
     "start_time": "2021-09-22T14:20:20.386275Z"
    }
   },
   "outputs": [
    {
     "ename": "NameError",
     "evalue": "name 'Optimizers' is not defined",
     "output_type": "error",
     "traceback": [
      "\u001b[0;31m---------------------------------------------------------------------------\u001b[0m",
      "\u001b[0;31mNameError\u001b[0m                                 Traceback (most recent call last)",
      "\u001b[0;32m<ipython-input-54-8b10f4f06d65>\u001b[0m in \u001b[0;36m<module>\u001b[0;34m\u001b[0m\n\u001b[0;32m----> 1\u001b[0;31m Optimizers.simpleGradientStep(\n\u001b[0m\u001b[1;32m      2\u001b[0m     \u001b[0mself\u001b[0m\u001b[0;34m,\u001b[0m\u001b[0;34m\u001b[0m\u001b[0;34m\u001b[0m\u001b[0m\n\u001b[1;32m      3\u001b[0m     \u001b[0mnbiter\u001b[0m\u001b[0;34m=\u001b[0m\u001b[0mnbIter\u001b[0m\u001b[0;34m,\u001b[0m\u001b[0;34m\u001b[0m\u001b[0;34m\u001b[0m\u001b[0m\n\u001b[1;32m      4\u001b[0m     \u001b[0malpha\u001b[0m\u001b[0;34m=\u001b[0m\u001b[0malpha\u001b[0m\u001b[0;34m,\u001b[0m\u001b[0;34m\u001b[0m\u001b[0;34m\u001b[0m\u001b[0m\n\u001b[1;32m      5\u001b[0m     \u001b[0mendIterCallback\u001b[0m\u001b[0;34m=\u001b[0m\u001b[0;32mlambda\u001b[0m\u001b[0;34m:\u001b[0m \u001b[0mself\u001b[0m\u001b[0;34m.\u001b[0m\u001b[0mupdateAllSamplesWithGibbs\u001b[0m\u001b[0;34m(\u001b[0m\u001b[0;34m)\u001b[0m\u001b[0;34m,\u001b[0m\u001b[0;34m\u001b[0m\u001b[0;34m\u001b[0m\u001b[0m\n",
      "\u001b[0;31mNameError\u001b[0m: name 'Optimizers' is not defined"
     ]
    }
   ],
   "source": [
    "        Optimizers.simpleGradientStep(\n",
    "            self,\n",
    "            nbiter=nbIter,\n",
    "            alpha=alpha,\n",
    "            endIterCallback=lambda: self.updateAllSamplesWithGibbs(),\n",
    "        )"
   ]
  },
  {
   "cell_type": "code",
   "execution_count": null,
   "metadata": {},
   "outputs": [],
   "source": []
  },
  {
   "cell_type": "code",
   "execution_count": null,
   "metadata": {},
   "outputs": [],
   "source": []
  },
  {
   "cell_type": "code",
   "execution_count": 30,
   "metadata": {
    "ExecuteTime": {
     "end_time": "2021-09-21T15:56:58.341821Z",
     "start_time": "2021-09-21T15:53:13.411762Z"
    }
   },
   "outputs": [
    {
     "name": "stdout",
     "output_type": "stream",
     "text": [
      "MRF lambda1= 16 train NLLH=0.0574, NMSE=0.0741   valid NLLH=0.0546, NMSE=0.0708  \n"
     ]
    }
   ],
   "source": [
    "\n",
    "    self.fit(nbIter)\n",
    "    print( f\"MRF lambda1= {regulL2}\",  \"train\",   Validation.run(self,train) , \"valid\" , Validation.run(self,valid)   )"
   ]
  },
  {
   "cell_type": "markdown",
   "metadata": {
    "ExecuteTime": {
     "end_time": "2021-02-11T11:40:15.866137Z",
     "start_time": "2021-02-11T11:40:15.820604Z"
    }
   },
   "source": [
    "#### Naive Bayes\n",
    "- rather weak baseline\n",
    "- would require only examples and labels counts aggregated on each single feature\n",
    "- requires very strong L2 regularization to get Okish results when the number of features grows"
   ]
  },
  {
   "cell_type": "code",
   "execution_count": null,
   "metadata": {
    "ExecuteTime": {
     "end_time": "2021-02-11T13:40:23.249012Z",
     "start_time": "2021-02-11T13:39:54.575952Z"
    }
   },
   "outputs": [],
   "source": [
    "## Implementation:  one classifier (logistic regresion) per feature.\n",
    "regulL2s = [ 4, 8, 16, 32, 64, 128, 256, 512]\n",
    "if not runBenchmarks:\n",
    "    regulL2s = [1] if dataset == \"small\" else [256]\n",
    "\n",
    "for regulL2 in regulL2s:\n",
    "    self = NaiveBayesModel( label, features , regulL2)\n",
    "    self.fit(train)\n",
    "    print( f\"NaiveBayes, regulL={regulL2}\",  \"train\",   Validation.run(self,train) , \"valid\" , Validation.run(self,valid)   )"
   ]
  },
  {
   "cell_type": "code",
   "execution_count": null,
   "metadata": {
    "ExecuteTime": {
     "end_time": "2021-02-11T13:43:03.176283Z",
     "start_time": "2021-02-11T13:40:23.250880Z"
    }
   },
   "outputs": [],
   "source": [
    "## Implementation:  MRF using only aggregated data on single features\n",
    "regulL2s = [1, 2, 4, 8, 16, 32, 64, 128, 256, 512]\n",
    "if not runBenchmarks:\n",
    "    regulL2s = [1] if dataset == \"small\" else [256] \n",
    "\n",
    "for regulL2 in regulL2s:\n",
    "    print( f\"nbSamples:{nbSamples} , nbIter:{nbIter}, lambda_1:{regulL2} \" )\n",
    "    params = AggMRFModelParams(\n",
    "        exactComputation=False,\n",
    "        clicksCfs = \"*\",\n",
    "        displaysCfs=\"*\",\n",
    "        nbSamples = 50000,\n",
    "        regulL2=1.0,\n",
    "        regulL2Click = regulL2\n",
    "    )\n",
    "    self = AggMRFModel(aggdata, features, params)\n",
    "    self.fit(200)\n",
    "    print( f\"NaiveBayes,(MRF implem) lambda1= {regulL2}\",  \"train\",   Validation.run(self,train) , \"valid\" , Validation.run(self,valid)   )"
   ]
  },
  {
   "cell_type": "code",
   "execution_count": null,
   "metadata": {},
   "outputs": [],
   "source": []
  },
  {
   "cell_type": "markdown",
   "metadata": {},
   "source": [
    "#### MRF without \"cross-features\" on the P(Y|X) part of the model\n",
    "Should be compared to the \"simple\" logistic with no Kernell. Requires:\n",
    "- count of clicks aggregated on each feature,\n",
    "- count of displays aggregated on each pair of features"
   ]
  },
  {
   "cell_type": "code",
   "execution_count": null,
   "metadata": {
    "ExecuteTime": {
     "end_time": "2021-02-11T13:46:03.680015Z",
     "start_time": "2021-02-11T13:43:03.178172Z"
    }
   },
   "outputs": [],
   "source": [
    "regulL2s = [1, 2, 4, 8, 16, 32, 64, 128, 256, 512]\n",
    "if not runBenchmarks:\n",
    "    regulL2s = [4] if dataset == \"small\" else [64] \n",
    "\n",
    "for regulL2 in regulL2s:\n",
    "    print( f\"nbSamples:{nbSamples} , nbIter:{nbIter}, lambda_1:{regulL2} \" )\n",
    "    params = AggMRFModelParams(\n",
    "        exactComputation=False,\n",
    "        clicksCfs = \"*\",\n",
    "        displaysCfs=\"*&*\",\n",
    "        nbSamples = 50000,\n",
    "        regulL2=1.0,\n",
    "        regulL2Click = regulL2\n",
    "    )\n",
    "    self = AggMRFModel(aggdata, features, params)\n",
    "    self.fit(200)\n",
    "    print( f\"MRF_simple lambda1= {regulL2}\",  \"train\",   Validation.run(self,train) , \"valid\" , Validation.run(self,valid)   )"
   ]
  },
  {
   "cell_type": "code",
   "execution_count": null,
   "metadata": {},
   "outputs": [],
   "source": []
  },
  {
   "cell_type": "markdown",
   "metadata": {},
   "source": [
    "# Other results on noiseless data"
   ]
  },
  {
   "cell_type": "markdown",
   "metadata": {},
   "source": [
    "## Benching MRF regularization\n",
    "\n",
    "the MRF model has 2 distinct regularization parameters:\n",
    "- one controling the smoothness of the P(Y|X) . This one should be set roughly with the same value as the regularization parameter of a logistic regression with the same features.\n",
    "- one controling the smoothness of the P(X). This parameter should be kept to a low value.\n",
    "\n"
   ]
  },
  {
   "cell_type": "code",
   "execution_count": null,
   "metadata": {
    "ExecuteTime": {
     "end_time": "2021-02-11T13:49:22.318016Z",
     "start_time": "2021-02-11T13:46:03.683111Z"
    }
   },
   "outputs": [],
   "source": [
    "regulL2s = [ 0.25, 1, 4, 16, 64, 256]\n",
    "lambdas = [ (l1,l2) for l1 in regulL2s for l2 in regulL2s  ]\n",
    "\n",
    "if not runBenchmarks or dataset != \"small\":\n",
    "    # running only with lambda_1 set to the value giving best results when lambda_2=1,  \n",
    "    #  and setting lambda_2 to lambda_1. \n",
    "    lambdas = [(16,16)] if dataset == \"small\" else [(128,128)] \n",
    "\n",
    "for lambda1,lambda2 in lambdas:\n",
    "    params = AggMRFModelParams(\n",
    "        exactComputation=False,\n",
    "        clicksCfs = \"*&*\",\n",
    "        displaysCfs=\"*&*\",\n",
    "        nbSamples = 50000,\n",
    "        regulL2=lambda2,\n",
    "        regulL2Click = lambda1\n",
    "    )\n",
    "    self = AggMRFModel(aggdata, features, params)\n",
    "    self.fit(200)\n",
    "    print( f\"MRF l1= {lambda1} l2= {lambda2}\",  \"train\",   Validation.run(self,train) , \"valid\" , Validation.run(self,valid)   )"
   ]
  },
  {
   "cell_type": "markdown",
   "metadata": {
    "ExecuteTime": {
     "end_time": "2021-02-11T12:18:06.919150Z",
     "start_time": "2021-02-11T12:18:06.882276Z"
    }
   },
   "source": [
    "## Sampling Y in the MC estimate of the gradient\n",
    "- this increases variance significantly, at least when the dataset is strongly imbalanced\n"
   ]
  },
  {
   "cell_type": "code",
   "execution_count": null,
   "metadata": {
    "ExecuteTime": {
     "end_time": "2021-02-11T13:49:22.358615Z",
     "start_time": "2021-02-11T13:49:22.319919Z"
    }
   },
   "outputs": [],
   "source": [
    "def get_unbalanced_df(df , label_sampling_rate , label ):\n",
    "    labels = df[label].values\n",
    "    keep = ( -labels + np.random.rand ( len(labels) )) > -label_sampling_rate\n",
    "    return df[  keep ].reset_index() .copy()"
   ]
  },
  {
   "cell_type": "code",
   "execution_count": null,
   "metadata": {
    "ExecuteTime": {
     "end_time": "2021-02-11T13:49:23.209490Z",
     "start_time": "2021-02-11T13:49:22.360262Z"
    }
   },
   "outputs": [],
   "source": [
    "label_sampling_rate = 0.02\n",
    "train_unbalanced = get_unbalanced_df( train,  label_sampling_rate, label  )\n",
    "valid_unbalanced = get_unbalanced_df( valid,  label_sampling_rate, label  )\n",
    "aggdata_unbalanced = AggDataset( features, \"*&*\", train_unbalanced, label )\n",
    "\n",
    "print(train_unbalanced[label].sum() / train[label].sum())\n",
    "print((1-train_unbalanced[label]).sum() /( 1-train[label]).sum())"
   ]
  },
  {
   "cell_type": "code",
   "execution_count": null,
   "metadata": {
    "ExecuteTime": {
     "end_time": "2021-02-11T13:50:36.825666Z",
     "start_time": "2021-02-11T13:49:23.211240Z"
    }
   },
   "outputs": [],
   "source": [
    "regulL2 = 16.0\n",
    "for nbSamples in [100,1000,10000]:\n",
    "    print( f\"nbSamples:{nbSamples} \" )\n",
    "    params = AggMRFModelParams(\n",
    "        exactComputation=False,\n",
    "        clicksCfs = \"*&*\",\n",
    "        displaysCfs=\"*&*\",\n",
    "        nbSamples = nbSamples,\n",
    "        regulL2=1.0,\n",
    "        regulL2Click = regulL2\n",
    "    )\n",
    "    self = AggMRFModel(aggdata_unbalanced, features , params)\n",
    "    self.fit(100)\n",
    "    print( f\"MRF(collapsed),nbSamples= {nbSamples}\",  \"train\",   Validation.run(self,train_unbalanced) , \"valid\" , Validation.run(self,valid_unbalanced)   )\n",
    "    params = AggMRFModelParams(\n",
    "        exactComputation=False,\n",
    "        clicksCfs = \"*&*\",\n",
    "        displaysCfs=\"*&*\",\n",
    "        nbSamples = nbSamples,\n",
    "        regulL2=1.0,\n",
    "        regulL2Click = regulL2\n",
    "    )\n",
    "    self = AggMRFModel(aggdata_unbalanced, features, params)\n",
    "    self.decollapseGibbs = True\n",
    "    self.fit(100)\n",
    "    print( f\"MRF(Sampling Y),nbSamples= {nbSamples}\",  \"train\",   Validation.run(self,train_unbalanced) , \"valid\" , Validation.run(self,valid_unbalanced)   )    \n",
    "print(\"\")    "
   ]
  },
  {
   "cell_type": "code",
   "execution_count": null,
   "metadata": {
    "ExecuteTime": {
     "end_time": "2021-02-11T12:40:43.738685Z",
     "start_time": "2021-02-11T12:40:43.700028Z"
    }
   },
   "outputs": [],
   "source": []
  },
  {
   "cell_type": "markdown",
   "metadata": {
    "ExecuteTime": {
     "end_time": "2021-02-11T12:41:22.419387Z",
     "start_time": "2021-02-11T12:41:22.384374Z"
    }
   },
   "source": [
    "# Learning differential private models"
   ]
  },
  {
   "cell_type": "code",
   "execution_count": null,
   "metadata": {
    "ExecuteTime": {
     "end_time": "2021-02-11T13:50:36.869976Z",
     "start_time": "2021-02-11T13:50:36.827727Z"
    }
   },
   "outputs": [],
   "source": [
    "epsilons = [10.0 , 1.0 , 0.1]\n",
    "deltas = [ None ,1e-7, 1e-4 ]\n",
    "regulL2s = [4.0, 16, 64, 256, 1024 ]\n",
    "\n",
    "\n",
    "if runBenchmarks == False:\n",
    "    epsilons = [1.0]\n",
    "    deltas = [ None ,1e-7 ]\n",
    "    regulL2s = [ 16, 64 ]\n"
   ]
  },
  {
   "cell_type": "code",
   "execution_count": null,
   "metadata": {
    "ExecuteTime": {
     "end_time": "2021-02-11T12:51:09.157028Z",
     "start_time": "2021-02-11T12:51:09.122758Z"
    }
   },
   "outputs": [],
   "source": []
  },
  {
   "cell_type": "code",
   "execution_count": null,
   "metadata": {
    "ExecuteTime": {
     "end_time": "2021-02-11T14:03:52.491200Z",
     "start_time": "2021-02-11T13:50:36.871619Z"
    }
   },
   "outputs": [],
   "source": [
    "for epsilon in epsilons:\n",
    "    for delta in deltas:\n",
    "        print(\"\")\n",
    "        ## seeding to ensure each algo will run on the same dataset. \n",
    "        # In the article, this was not seeded, but both presented models were trained on the same instance of aggdata \n",
    "        np.random.seed(0)\n",
    "        aggdata = AggDataset( train , features, \"*&*\",  label, epsilon, delta )\n",
    "        print(\"\")\n",
    "        params = AggMRFModelParams(\n",
    "            exactComputation=False,\n",
    "            clicksCfs = \"*&*\",\n",
    "            displaysCfs=\"*&*\",\n",
    "            nbSamples = 50000,\n",
    "            regulL2=1.0,\n",
    "            regulL2Click = regulL2\n",
    "        )\n",
    "        for regulL2 in regulL2s:\n",
    "            self = AggMRFModel(aggdata, features, params)\n",
    "            self.fit(200)\n",
    "            print( f\"MRF(no noise model) l1={regulL2}\",  \"train\",   Validation.run(self,train) , \"valid\" , Validation.run(self,valid)   )\n",
    "        "
   ]
  },
  {
   "cell_type": "code",
   "execution_count": null,
   "metadata": {
    "ExecuteTime": {
     "end_time": "2021-02-11T14:17:10.935884Z",
     "start_time": "2021-02-11T14:03:52.493151Z"
    }
   },
   "outputs": [],
   "source": [
    "for epsilon in epsilons:\n",
    "    for delta in deltas:\n",
    "        print(\"\")\n",
    "        ## seeding to ensure each algo will run on the same dataset\n",
    "        np.random.seed(0)\n",
    "        aggdata = AggDataset( train , features, \"*&*\",  label, epsilon, delta )\n",
    "        print(\"\")\n",
    "        for regulL2 in regulL2s:\n",
    "            params = AggMRFModelParams(\n",
    "                exactComputation=False,\n",
    "                clicksCfs = \"*&*\",\n",
    "                displaysCfs=\"*&*\",\n",
    "                nbSamples = 50000,\n",
    "                regulL2=1.0,\n",
    "                regulL2Click = regulL2,\n",
    "                noiseDistribution= aggdata.noiseDistribution\n",
    "            )\n",
    "            self = AggMRFModel(aggdata, features, params)\n",
    "            self.fit(200)\n",
    "            print( f\"MRF(modeling noise) l1={regulL2}\",  \"train\",   Validation.run(self,train) , \"valid\" , Validation.run(self,valid)   )\n",
    "        "
   ]
  },
  {
   "cell_type": "code",
   "execution_count": null,
   "metadata": {},
   "outputs": [],
   "source": []
  },
  {
   "cell_type": "code",
   "execution_count": null,
   "metadata": {},
   "outputs": [],
   "source": []
  }
 ],
 "metadata": {
  "colab": {
   "collapsed_sections": [],
   "name": "MTC.ipynb",
   "provenance": [],
   "toc_visible": true
  },
  "hide_input": false,
  "kernelspec": {
   "display_name": "aggregate_models_env",
   "language": "python",
   "name": "aggregate_models_env"
  },
  "language_info": {
   "codemirror_mode": {
    "name": "ipython",
    "version": 3
   },
   "file_extension": ".py",
   "mimetype": "text/x-python",
   "name": "python",
   "nbconvert_exporter": "python",
   "pygments_lexer": "ipython3",
   "version": "3.6.8"
  },
  "toc": {
   "base_numbering": 1,
   "nav_menu": {},
   "number_sections": true,
   "sideBar": true,
   "skip_h1_title": false,
   "title_cell": "Table of Contents",
   "title_sidebar": "Contents",
   "toc_cell": false,
   "toc_position": {},
   "toc_section_display": true,
   "toc_window_display": false
  }
 },
 "nbformat": 4,
 "nbformat_minor": 4
}
