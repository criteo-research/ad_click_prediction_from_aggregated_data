{
 "cells": [
  {
   "cell_type": "code",
   "execution_count": 1,
   "metadata": {
    "ExecuteTime": {
     "end_time": "2021-02-11T13:32:30.772945Z",
     "start_time": "2021-02-11T13:32:26.377476Z"
    }
   },
   "outputs": [],
   "source": [
    "%load_ext autoreload\n",
    "%autoreload 2\n",
    "import sys\n",
    "sys.path.append(\"../src\")\n",
    "from myimports  import *\n",
    "import myJupyterUtils ## Remove stacktraces on Keyboardinterupt\n",
    "plt.style.use('ggplot')\n",
    "\n",
    "from featuremappings import AggDataset\n",
    "from basicmodels import LogisticModel, NaiveBayesModel, LogisticModelWithCF\n",
    "from validation import MetricsComputer,  LLH\n",
    "from aggLogistic import AggLogistic\n",
    "import Optimizers\n",
    "from agg_mrf_model import AggMRFModel\n",
    "import loaddata"
   ]
  },
  {
   "cell_type": "code",
   "execution_count": 2,
   "metadata": {
    "ExecuteTime": {
     "end_time": "2021-02-11T13:32:30.806769Z",
     "start_time": "2021-02-11T13:32:30.775072Z"
    }
   },
   "outputs": [],
   "source": [
    "Validation = MetricsComputer(\"click\")"
   ]
  },
  {
   "cell_type": "markdown",
   "metadata": {
    "colab_type": "text",
    "id": "OWC5yFQ-0BIB"
   },
   "source": [
    "## Download Data\n",
    "- downloading criteo-research-attribution-dataset\n",
    "- from url http://go.criteo.net"
   ]
  },
  {
   "cell_type": "code",
   "execution_count": 3,
   "metadata": {
    "ExecuteTime": {
     "end_time": "2021-02-11T13:34:52.167652Z",
     "start_time": "2021-02-11T13:32:30.808587Z"
    }
   },
   "outputs": [
    {
     "name": "stdout",
     "output_type": "stream",
     "text": [
      "downloading dataset\n",
      "unzipping\n"
     ]
    }
   ],
   "source": [
    "loaddata.download_dataset()"
   ]
  },
  {
   "cell_type": "markdown",
   "metadata": {},
   "source": [
    "## Loading data\n",
    "3 versions of the dataset are used for experiments: \"small\" , \"sampled\" and \"full\"\n",
    "- \"full\" has 11 features with about 16M samples\n",
    "- \"sampled\" has the same 11 features, but only 160k samples\n",
    "- \"small\" also has 160k samples, but only the 5 features with lowest modalities count, and allow for fast experiments."
   ]
  },
  {
   "cell_type": "code",
   "execution_count": 4,
   "metadata": {
    "ExecuteTime": {
     "end_time": "2021-02-11T13:34:52.208641Z",
     "start_time": "2021-02-11T13:34:52.169807Z"
    }
   },
   "outputs": [],
   "source": [
    "dataset= \"small\" # fast expriments\n",
    "# dataset= \"sampled\" # Training a MRF may require 5h and 16Go data\n",
    "# dataset= \"full\"  # Training a MRF may require 32Go, and several days"
   ]
  },
  {
   "cell_type": "code",
   "execution_count": 5,
   "metadata": {
    "ExecuteTime": {
     "end_time": "2021-02-11T13:35:20.747646Z",
     "start_time": "2021-02-11T13:34:52.210199Z"
    }
   },
   "outputs": [
    {
     "name": "stdout",
     "output_type": "stream",
     "text": [
      "165153\n",
      "Nb train samples: 115383 , Nb valid samples: 49770  \n",
      "features:['cat1', 'cat4', 'cat6', 'cat8', 'cat9']\n"
     ]
    }
   ],
   "source": [
    "train, valid, features, label = loaddata.getDataset(dataset)"
   ]
  },
  {
   "cell_type": "code",
   "execution_count": 6,
   "metadata": {
    "ExecuteTime": {
     "end_time": "2021-02-11T13:35:20.807581Z",
     "start_time": "2021-02-11T13:35:20.749890Z"
    }
   },
   "outputs": [
    {
     "data": {
      "text/html": [
       "<div>\n",
       "<style scoped>\n",
       "    .dataframe tbody tr th:only-of-type {\n",
       "        vertical-align: middle;\n",
       "    }\n",
       "\n",
       "    .dataframe tbody tr th {\n",
       "        vertical-align: top;\n",
       "    }\n",
       "\n",
       "    .dataframe thead th {\n",
       "        text-align: right;\n",
       "    }\n",
       "</style>\n",
       "<table border=\"1\" class=\"dataframe\">\n",
       "  <thead>\n",
       "    <tr style=\"text-align: right;\">\n",
       "      <th></th>\n",
       "      <th>cat1</th>\n",
       "      <th>cat4</th>\n",
       "      <th>cat6</th>\n",
       "      <th>cat8</th>\n",
       "      <th>cat9</th>\n",
       "      <th>click</th>\n",
       "    </tr>\n",
       "  </thead>\n",
       "  <tbody>\n",
       "    <tr>\n",
       "      <th>147515</th>\n",
       "      <td>30763035</td>\n",
       "      <td>29196072</td>\n",
       "      <td>1973606</td>\n",
       "      <td>20754144</td>\n",
       "      <td>29520629</td>\n",
       "      <td>0</td>\n",
       "    </tr>\n",
       "    <tr>\n",
       "      <th>148118</th>\n",
       "      <td>30763035</td>\n",
       "      <td>29196072</td>\n",
       "      <td>1973606</td>\n",
       "      <td>9312274</td>\n",
       "      <td>18291877</td>\n",
       "      <td>0</td>\n",
       "    </tr>\n",
       "  </tbody>\n",
       "</table>\n",
       "</div>"
      ],
      "text/plain": [
       "            cat1      cat4     cat6      cat8      cat9  click\n",
       "147515  30763035  29196072  1973606  20754144  29520629      0\n",
       "148118  30763035  29196072  1973606   9312274  18291877      0"
      ]
     },
     "execution_count": 6,
     "metadata": {},
     "output_type": "execute_result"
    }
   ],
   "source": [
    "train.sample(2)"
   ]
  },
  {
   "cell_type": "code",
   "execution_count": 7,
   "metadata": {
    "ExecuteTime": {
     "end_time": "2021-02-11T13:35:20.920024Z",
     "start_time": "2021-02-11T13:35:20.810281Z"
    }
   },
   "outputs": [
    {
     "name": "stdout",
     "output_type": "stream",
     "text": [
      "feature cat1 has 9 distinct modalities\n",
      "feature cat4 has 13 distinct modalities\n",
      "feature cat6 has 30 distinct modalities\n",
      "feature cat8 has 11 distinct modalities\n",
      "feature cat9 has 30 distinct modalities\n"
     ]
    }
   ],
   "source": [
    "for f in features:\n",
    "    nbModalities = len(set(train[f].values))\n",
    "    print( f\"feature {f} has {nbModalities} distinct modalities\" )"
   ]
  },
  {
   "cell_type": "markdown",
   "metadata": {},
   "source": [
    "## Preparing Aggregated data\n",
    "\n",
    "- aggdata contains projections of number of displays and clicks along each pair of feature\n",
    "- may also add some noise to make it differential private\n",
    "- the goal is to learn a model predicting Proba( label | features) using *only* those aggdata."
   ]
  },
  {
   "cell_type": "code",
   "execution_count": 8,
   "metadata": {
    "ExecuteTime": {
     "end_time": "2021-02-11T13:35:20.953876Z",
     "start_time": "2021-02-11T13:35:20.921994Z"
    }
   },
   "outputs": [],
   "source": [
    "# parameters for of the privacy protecting noise.\n",
    "epsilon = None  # Set to None to get no noise.\n",
    "delta = None "
   ]
  },
  {
   "cell_type": "code",
   "execution_count": 9,
   "metadata": {
    "ExecuteTime": {
     "end_time": "2021-02-11T13:35:22.194558Z",
     "start_time": "2021-02-11T13:35:20.955511Z"
    }
   },
   "outputs": [],
   "source": [
    "aggdata = AggDataset( features, \"*&*\", train , label, epsilon, delta )"
   ]
  },
  {
   "cell_type": "code",
   "execution_count": 10,
   "metadata": {
    "ExecuteTime": {
     "end_time": "2021-02-11T13:35:22.231137Z",
     "start_time": "2021-02-11T13:35:22.196387Z"
    }
   },
   "outputs": [
    {
     "name": "stdout",
     "output_type": "stream",
     "text": [
      " Nb Queries: 15\n",
      " Noise distribution: None\n"
     ]
    }
   ],
   "source": [
    "print( f\" Nb Queries: {len(aggdata.aggDisplays)}\")\n",
    "print( f\" Noise distribution: {aggdata.noiseDistribution}\" )"
   ]
  },
  {
   "cell_type": "code",
   "execution_count": 11,
   "metadata": {
    "ExecuteTime": {
     "end_time": "2021-02-11T13:35:22.299608Z",
     "start_time": "2021-02-11T13:35:22.232948Z"
    }
   },
   "outputs": [
    {
     "name": "stdout",
     "output_type": "stream",
     "text": [
      "list of queries ['cat1', 'cat4', 'cat6', 'cat8', 'cat9', 'cat1&cat4', 'cat1&cat6', 'cat1&cat8', 'cat1&cat9', 'cat4&cat6', 'cat4&cat8', 'cat4&cat9', 'cat6&cat8', 'cat6&cat9', 'cat8&cat9']\n"
     ]
    }
   ],
   "source": [
    "# aggdata may be viewed as a dictionary queryname -> dataframe\n",
    "aggdata_datframe_dico = aggdata.toDFs()\n",
    "queries = [x for x in aggdata_datframe_dico.keys()]\n",
    "print( f\"list of queries {queries}\" )"
   ]
  },
  {
   "cell_type": "code",
   "execution_count": 12,
   "metadata": {
    "ExecuteTime": {
     "end_time": "2021-02-11T13:35:22.340331Z",
     "start_time": "2021-02-11T13:35:22.301311Z"
    }
   },
   "outputs": [
    {
     "data": {
      "text/html": [
       "<div>\n",
       "<style scoped>\n",
       "    .dataframe tbody tr th:only-of-type {\n",
       "        vertical-align: middle;\n",
       "    }\n",
       "\n",
       "    .dataframe tbody tr th {\n",
       "        vertical-align: top;\n",
       "    }\n",
       "\n",
       "    .dataframe thead th {\n",
       "        text-align: right;\n",
       "    }\n",
       "</style>\n",
       "<table border=\"1\" class=\"dataframe\">\n",
       "  <thead>\n",
       "    <tr style=\"text-align: right;\">\n",
       "      <th></th>\n",
       "      <th>cat1&amp;cat8</th>\n",
       "      <th>cat1</th>\n",
       "      <th>cat8</th>\n",
       "      <th>c</th>\n",
       "      <th>click</th>\n",
       "    </tr>\n",
       "  </thead>\n",
       "  <tbody>\n",
       "    <tr>\n",
       "      <th>68</th>\n",
       "      <td>68</td>\n",
       "      <td>8</td>\n",
       "      <td>6</td>\n",
       "      <td>1106.0</td>\n",
       "      <td>426.0</td>\n",
       "    </tr>\n",
       "    <tr>\n",
       "      <th>117</th>\n",
       "      <td>117</td>\n",
       "      <td>7</td>\n",
       "      <td>11</td>\n",
       "      <td>0.0</td>\n",
       "      <td>0.0</td>\n",
       "    </tr>\n",
       "    <tr>\n",
       "      <th>16</th>\n",
       "      <td>16</td>\n",
       "      <td>6</td>\n",
       "      <td>1</td>\n",
       "      <td>391.0</td>\n",
       "      <td>84.0</td>\n",
       "    </tr>\n",
       "  </tbody>\n",
       "</table>\n",
       "</div>"
      ],
      "text/plain": [
       "     cat1&cat8  cat1  cat8       c  click\n",
       "68          68     8     6  1106.0  426.0\n",
       "117        117     7    11     0.0    0.0\n",
       "16          16     6     1   391.0   84.0"
      ]
     },
     "execution_count": 12,
     "metadata": {},
     "output_type": "execute_result"
    }
   ],
   "source": [
    "# Dataframe for the query  \" select 'cat1', 'cat8' , count, sum(label) group by 'cat1', 'cat8' \"\n",
    "aggdata_datframe_dico[\"cat1&cat8\"].sample(3)"
   ]
  },
  {
   "cell_type": "code",
   "execution_count": null,
   "metadata": {},
   "outputs": [],
   "source": []
  },
  {
   "cell_type": "markdown",
   "metadata": {},
   "source": [
    "# Comparing models on noiseless data"
   ]
  },
  {
   "cell_type": "code",
   "execution_count": 13,
   "metadata": {
    "ExecuteTime": {
     "end_time": "2021-02-11T13:35:23.579302Z",
     "start_time": "2021-02-11T13:35:22.342117Z"
    }
   },
   "outputs": [],
   "source": [
    "aggdata = AggDataset( features, \"*&*\", train , label, None, None )"
   ]
  },
  {
   "cell_type": "code",
   "execution_count": 14,
   "metadata": {
    "ExecuteTime": {
     "end_time": "2021-02-11T13:35:23.615359Z",
     "start_time": "2021-02-11T13:35:23.580946Z"
    }
   },
   "outputs": [],
   "source": [
    "#  Set to True to run the full benchmarks on Regulaization parameter.\n",
    "# Keep to false to get only the selected value\n",
    "runBenchmarks = False"
   ]
  },
  {
   "cell_type": "markdown",
   "metadata": {},
   "source": [
    "##### logistic Regression\n",
    "- Using full log instead of aggdata. \n",
    "- Training with all \"crossfeatures\" found in agg data ( ie quadratic kernell)\n",
    "- We do not expect to do better, the goal is to get similar performances"
   ]
  },
  {
   "cell_type": "code",
   "execution_count": 15,
   "metadata": {
    "ExecuteTime": {
     "end_time": "2021-02-11T13:36:22.556508Z",
     "start_time": "2021-02-11T13:35:23.616997Z"
    }
   },
   "outputs": [
    {
     "name": "stdout",
     "output_type": "stream",
     "text": [
      "Logistic(*&*), l2:16 train NLLH=0.0620, NMSE=0.0799   valid NLLH=0.0561, NMSE=0.0724  \n"
     ]
    }
   ],
   "source": [
    "## regulL2 was  benched to get best validation LLH\n",
    "regulL2s = [4, 8, 16, 32, 64, 128, 256, 512]\n",
    "if not runBenchmarks:\n",
    "    regulL2s = [16] if dataset == \"small\" else [128] if dataset == \"sampled\" else [64]\n",
    "\n",
    "for regulL2 in regulL2s:\n",
    "    logisticCfs = LogisticModelWithCF( \"click\" , features, \"*&*\"  , train ,\n",
    "                                      hashspace=2**22 , lambdaL2 = regulL2  )\n",
    "    logisticCfs.fit( train )\n",
    "    print( f\"Logistic(*&*), l2:{regulL2}\" ,  \"train\",  Validation.run(logisticCfs,train) , \"valid\" , Validation.run(logisticCfs,valid)   )"
   ]
  },
  {
   "cell_type": "markdown",
   "metadata": {},
   "source": [
    "##### logistic Regression from aggregated clicks and full display data (quadratic kernell)\n",
    " - same performances as \"standard\" logistic regression\n",
    " - but still using full display data, so not really usefull"
   ]
  },
  {
   "cell_type": "code",
   "execution_count": 16,
   "metadata": {
    "ExecuteTime": {
     "end_time": "2021-02-11T13:36:29.111314Z",
     "start_time": "2021-02-11T13:36:22.558240Z"
    }
   },
   "outputs": [
    {
     "name": "stdout",
     "output_type": "stream",
     "text": [
      "Logistic(*&*), l2:16 train NLLH=0.0622, NMSE=0.0801   valid NLLH=0.0561, NMSE=0.0725  \n"
     ]
    }
   ],
   "source": [
    "## regulL2 was  benched to get best validation LLH\n",
    "regulL2s = [4, 8, 16, 32, 64, 128, 256, 512]\n",
    "if not runBenchmarks:\n",
    "    regulL2s = [16] if dataset == \"small\" else [128] if dataset == \"sampled\" else [64]\n",
    "\n",
    "for regulL2 in regulL2s:\n",
    "    logisticCfs = AggLogistic(  aggdata , features, clicksCfs = \"*&*\" , regulL2=regulL2 )\n",
    "    logisticCfs.fit( train[features] , nbIter = 200 )\n",
    "    print( f\"Logistic(*&*), l2:{regulL2}\" ,  \"train\",  Validation.run(logisticCfs,train) , \"valid\" , Validation.run(logisticCfs,valid)   )\n",
    "    "
   ]
  },
  {
   "cell_type": "markdown",
   "metadata": {
    "ExecuteTime": {
     "end_time": "2021-02-11T11:22:38.398714Z",
     "start_time": "2021-02-11T11:22:38.359320Z"
    }
   },
   "source": [
    "##### logistic Regression without quadratic kernell\n",
    " - still solid baseline, but significantly weaker than logistic with quadratic kernell"
   ]
  },
  {
   "cell_type": "code",
   "execution_count": 17,
   "metadata": {
    "ExecuteTime": {
     "end_time": "2021-02-11T13:36:31.810019Z",
     "start_time": "2021-02-11T13:36:29.113201Z"
    }
   },
   "outputs": [
    {
     "name": "stdout",
     "output_type": "stream",
     "text": [
      "Logistic(*&*), l2:1 train NLLH=0.0544, NMSE=0.0705   valid NLLH=0.0538, NMSE=0.0696  \n"
     ]
    }
   ],
   "source": [
    "regulL2s = [0.5, 1, 2, 4, 8, 16, 32, 64, 128, 256, 512]\n",
    "if not runBenchmarks:\n",
    "    regulL2s = [1] if dataset == \"small\" else [8] \n",
    "    \n",
    "for regulL2 in regulL2s:\n",
    "    logisticCfs = AggLogistic(  aggdata , features, clicksCfs = \"*\" , regulL2=regulL2 )\n",
    "    logisticCfs.fit( train[features] , nbIter = 200 )\n",
    "    print( f\"Logistic(*&*), l2:{regulL2}\" ,  \"train\",  Validation.run(logisticCfs,train) , \"valid\" , Validation.run(logisticCfs,valid)   )\n",
    "    "
   ]
  },
  {
   "cell_type": "code",
   "execution_count": null,
   "metadata": {
    "ExecuteTime": {
     "end_time": "2021-01-13T16:37:21.632389Z",
     "start_time": "2021-01-13T16:37:11.169238Z"
    }
   },
   "outputs": [],
   "source": []
  },
  {
   "cell_type": "markdown",
   "metadata": {},
   "source": [
    "##### Proposed MRF model\n",
    "- uses only aggregated data\n",
    "- almost retrieves logitic performances"
   ]
  },
  {
   "cell_type": "code",
   "execution_count": 18,
   "metadata": {
    "ExecuteTime": {
     "end_time": "2021-02-11T13:39:54.573804Z",
     "start_time": "2021-02-11T13:36:31.812304Z"
    }
   },
   "outputs": [
    {
     "name": "stdout",
     "output_type": "stream",
     "text": [
      "llh:0.0E+00 a:1.1E-01(0), n:200, g:1.4E+03  --\n",
      "MRF lambda1= 16 train NLLH=0.0614, NMSE=0.0791   valid NLLH=0.0555, NMSE=0.0717  \n"
     ]
    }
   ],
   "source": [
    "regulL2s = [ 4, 8, 16, 32, 64, 128, 256, 512]\n",
    "if not runBenchmarks:\n",
    "    regulL2s = [16] if dataset == \"small\" else [128] if dataset == \"sampled\" else 512 \n",
    "nbSamples = 50000\n",
    "nbIter = 200\n",
    "if dataset == \"full\": # requires more samples and more training iterations to converge.\n",
    "    print( \"Warning: training one model with these settings may take about 1 week\" )\n",
    "    nbIter = 1500\n",
    "    nbSamples = 400000    \n",
    "\n",
    "for regulL2 in regulL2s:\n",
    "    self = AggMRFModel( aggdata, features , \n",
    "                           exactComputation=False , clicksCfs = \"*&*\", displaysCfs=\"*&*\",\n",
    "                          nbSamples = nbSamples, regulL2=1.0 , regulL2Click = regulL2)\n",
    "    self.fit(nbIter)\n",
    "    print( f\"MRF lambda1= {regulL2}\",  \"train\",   Validation.run(self,train) , \"valid\" , Validation.run(self,valid)   )"
   ]
  },
  {
   "cell_type": "markdown",
   "metadata": {
    "ExecuteTime": {
     "end_time": "2021-02-11T11:40:15.866137Z",
     "start_time": "2021-02-11T11:40:15.820604Z"
    }
   },
   "source": [
    "#### Naive Bayes\n",
    "- rather weak baseline\n",
    "- would require only examples and labels counts aggregated on each single feature\n",
    "- requires very strong L2 regularization to get Okish results when the number of features grows"
   ]
  },
  {
   "cell_type": "code",
   "execution_count": 19,
   "metadata": {
    "ExecuteTime": {
     "end_time": "2021-02-11T13:40:23.249012Z",
     "start_time": "2021-02-11T13:39:54.575952Z"
    }
   },
   "outputs": [
    {
     "name": "stdout",
     "output_type": "stream",
     "text": [
      "NaiveBayes, regulL=1 train NLLH=0.0500, NMSE=0.0655   valid NLLH=0.0482, NMSE=0.0631  \n"
     ]
    }
   ],
   "source": [
    "## Implementation:  one classifier (logistic regresion) per feature.\n",
    "regulL2s = [ 4, 8, 16, 32, 64, 128, 256, 512]\n",
    "if not runBenchmarks:\n",
    "    regulL2s = [1] if dataset == \"small\" else [256]\n",
    "\n",
    "for regulL2 in regulL2s:\n",
    "    self = NaiveBayesModel( label, features , regulL2)\n",
    "    self.fit(train)\n",
    "    print( f\"NaiveBayes, regulL={regulL2}\",  \"train\",   Validation.run(self,train) , \"valid\" , Validation.run(self,valid)   )"
   ]
  },
  {
   "cell_type": "code",
   "execution_count": 20,
   "metadata": {
    "ExecuteTime": {
     "end_time": "2021-02-11T13:43:03.176283Z",
     "start_time": "2021-02-11T13:40:23.250880Z"
    }
   },
   "outputs": [
    {
     "name": "stdout",
     "output_type": "stream",
     "text": [
      "nbSamples:50000 , nbIter:200, lambda_1:1 \n",
      "llh:0.0E+00 a:2.5E-01(0), n:200, g:6.6E+02  --\n",
      "NaiveBayes,(MRF implem) lambda1= 1 train NLLH=0.0490, NMSE=0.0642   valid NLLH=0.0468, NMSE=0.0615  \n"
     ]
    }
   ],
   "source": [
    "## Implementation:  MRF using only aggregated data on single features\n",
    "regulL2s = [1, 2, 4, 8, 16, 32, 64, 128, 256, 512]\n",
    "if not runBenchmarks:\n",
    "    regulL2s = [1] if dataset == \"small\" else [256] \n",
    "\n",
    "for regulL2 in regulL2s:\n",
    "    print( f\"nbSamples:{nbSamples} , nbIter:{nbIter}, lambda_1:{regulL2} \" )\n",
    "    self = AggMRFModel( aggdata, features , \n",
    "                           exactComputation=False , clicksCfs = \"*\", displaysCfs=\"*\",\n",
    "                          nbSamples = 50000, regulL2=1.0 , regulL2Click = regulL2)\n",
    "    self.fit(200)\n",
    "    print( f\"NaiveBayes,(MRF implem) lambda1= {regulL2}\",  \"train\",   Validation.run(self,train) , \"valid\" , Validation.run(self,valid)   )"
   ]
  },
  {
   "cell_type": "code",
   "execution_count": null,
   "metadata": {},
   "outputs": [],
   "source": []
  },
  {
   "cell_type": "markdown",
   "metadata": {},
   "source": [
    "#### MRF without \"cross-features\" on the P(Y|X) part of the model\n",
    "Should be compared to the \"simple\" logistic with no Kernell. Requires:\n",
    "- count of clicks aggregated on each feature,\n",
    "- count of displays aggregated on each pair of features"
   ]
  },
  {
   "cell_type": "code",
   "execution_count": 21,
   "metadata": {
    "ExecuteTime": {
     "end_time": "2021-02-11T13:46:03.680015Z",
     "start_time": "2021-02-11T13:43:03.178172Z"
    }
   },
   "outputs": [
    {
     "name": "stdout",
     "output_type": "stream",
     "text": [
      "nbSamples:50000 , nbIter:200, lambda_1:4 \n",
      "llh:0.0E+00 a:1.7E-01(0), n:200, g:1.3E+03  --\n",
      "MRF_simple lambda1= 4 train NLLH=0.0529, NMSE=0.0687   valid NLLH=0.0518, NMSE=0.0672  \n"
     ]
    }
   ],
   "source": [
    "regulL2s = [1, 2, 4, 8, 16, 32, 64, 128, 256, 512]\n",
    "if not runBenchmarks:\n",
    "    regulL2s = [4] if dataset == \"small\" else [64] \n",
    "\n",
    "for regulL2 in regulL2s:\n",
    "    print( f\"nbSamples:{nbSamples} , nbIter:{nbIter}, lambda_1:{regulL2} \" )\n",
    "    self = AggMRFModel( aggdata, features , \n",
    "                           exactComputation=False , clicksCfs = \"*\", displaysCfs=\"*&*\",\n",
    "                          nbSamples = 50000, regulL2=1.0 , regulL2Click = regulL2)\n",
    "    self.fit(200)\n",
    "    print( f\"MRF_simple lambda1= {regulL2}\",  \"train\",   Validation.run(self,train) , \"valid\" , Validation.run(self,valid)   )"
   ]
  },
  {
   "cell_type": "code",
   "execution_count": null,
   "metadata": {},
   "outputs": [],
   "source": []
  },
  {
   "cell_type": "markdown",
   "metadata": {},
   "source": [
    "# Other results on noiseless data"
   ]
  },
  {
   "cell_type": "markdown",
   "metadata": {},
   "source": [
    "## Benching MRF regularization\n",
    "\n",
    "the MRF model has 2 distinct regularization parameters:\n",
    "- one controling the smoothness of the P(Y|X) . This one should be set roughly with the same value as the regularization parameter of a logistic regression with the same features.\n",
    "- one controling the smoothness of the P(X). This parameter should be kept to a low value.\n",
    "\n"
   ]
  },
  {
   "cell_type": "code",
   "execution_count": 22,
   "metadata": {
    "ExecuteTime": {
     "end_time": "2021-02-11T13:49:22.318016Z",
     "start_time": "2021-02-11T13:46:03.683111Z"
    }
   },
   "outputs": [
    {
     "name": "stdout",
     "output_type": "stream",
     "text": [
      "llh:0.0E+00 a:1.1E-01(0), n:200, g:2.8E+03  --\n",
      "MRF l1= 16 l2= 16 train NLLH=0.0591, NMSE=0.0762   valid NLLH=0.0538, NMSE=0.0695  \n"
     ]
    }
   ],
   "source": [
    "regulL2s = [ 0.25, 1, 4, 16, 64, 256]\n",
    "lambdas = [ (l1,l2) for l1 in regulL2s for l2 in regulL2s  ]\n",
    "\n",
    "if not runBenchmarks or dataset != \"small\":\n",
    "    # running only with lambda_1 set to the value giving best results when lambda_2=1,  \n",
    "    #  and setting lambda_2 to lambda_1. \n",
    "    lambdas = [(16,16)] if dataset == \"small\" else [(128,128)] \n",
    "\n",
    "for lambda1,lambda2 in lambdas:\n",
    "    self = AggMRFModel( aggdata, features , \n",
    "                           exactComputation=False , clicksCfs = \"*&*\", displaysCfs=\"*&*\",\n",
    "                          nbSamples = 50000, regulL2=lambda2 , regulL2Click = lambda1)\n",
    "    self.fit(200)\n",
    "    print( f\"MRF l1= {lambda1} l2= {lambda2}\",  \"train\",   Validation.run(self,train) , \"valid\" , Validation.run(self,valid)   )"
   ]
  },
  {
   "cell_type": "markdown",
   "metadata": {
    "ExecuteTime": {
     "end_time": "2021-02-11T12:18:06.919150Z",
     "start_time": "2021-02-11T12:18:06.882276Z"
    }
   },
   "source": [
    "## Sampling Y in the MC estimate of the gradient\n",
    "- this increases variance significantly, at least when the dataset is strongly imbalanced\n"
   ]
  },
  {
   "cell_type": "code",
   "execution_count": 23,
   "metadata": {
    "ExecuteTime": {
     "end_time": "2021-02-11T13:49:22.358615Z",
     "start_time": "2021-02-11T13:49:22.319919Z"
    }
   },
   "outputs": [],
   "source": [
    "def get_unbalanced_df(df , label_sampling_rate , label ):\n",
    "    labels = df[label].values\n",
    "    keep = ( -labels + np.random.rand ( len(labels) )) > -label_sampling_rate\n",
    "    return df[  keep ].reset_index() .copy()"
   ]
  },
  {
   "cell_type": "code",
   "execution_count": 24,
   "metadata": {
    "ExecuteTime": {
     "end_time": "2021-02-11T13:49:23.209490Z",
     "start_time": "2021-02-11T13:49:22.360262Z"
    }
   },
   "outputs": [
    {
     "name": "stdout",
     "output_type": "stream",
     "text": [
      "0.020789821149921978\n",
      "1.0\n"
     ]
    }
   ],
   "source": [
    "label_sampling_rate = 0.02\n",
    "train_unbalanced = get_unbalanced_df( train,  label_sampling_rate, label  )\n",
    "valid_unbalanced = get_unbalanced_df( valid,  label_sampling_rate, label  )\n",
    "aggdata_unbalanced = AggDataset( features, \"*&*\", train_unbalanced, label )\n",
    "\n",
    "print(train_unbalanced[label].sum() / train[label].sum())\n",
    "print((1-train_unbalanced[label]).sum() /( 1-train[label]).sum())"
   ]
  },
  {
   "cell_type": "code",
   "execution_count": 25,
   "metadata": {
    "ExecuteTime": {
     "end_time": "2021-02-11T13:50:36.825666Z",
     "start_time": "2021-02-11T13:49:23.211240Z"
    }
   },
   "outputs": [
    {
     "name": "stdout",
     "output_type": "stream",
     "text": [
      "nbSamples:100 \n",
      "llh:0.0E+00 a:1.7E-01(0), n:100, g:5.3E+04  --\n",
      "MRF(collapsed),nbSamples= 100 train NLLH=0.0047, NMSE=-0.0010   valid NLLH=-0.0218, NMSE=-0.0064  \n",
      "llh:0.0E+00 a:1.1E-01(0), n:100, g:5.9E+04  --\n",
      "MRF(Sampling Y),nbSamples= 100 train NLLH=-0.3144, NMSE=-0.2526   valid NLLH=-0.4064, NMSE=-0.2969  \n",
      "nbSamples:1000 \n",
      "llh:0.0E+00 a:1.7E-01(0), n:100, g:1.3E+04  --\n",
      "MRF(collapsed),nbSamples= 1000 train NLLH=0.0363, NMSE=0.0054   valid NLLH=0.0172, NMSE=0.0024  \n",
      "llh:0.0E+00 a:1.1E-01(0), n:100, g:1.5E+04  --\n",
      "MRF(Sampling Y),nbSamples= 1000 train NLLH=0.0074, NMSE=0.0016   valid NLLH=-0.0080, NMSE=0.0001  \n",
      "nbSamples:10000 \n",
      "llh:0.0E+00 a:1.7E-01(0), n:100, g:1.8E+03  --\n",
      "MRF(collapsed),nbSamples= 10000 train NLLH=0.0365, NMSE=0.0059   valid NLLH=0.0144, NMSE=0.0020  \n",
      "llh:0.0E+00 a:1.1E-01(0), n:100, g:2.4E+03  --\n",
      "MRF(Sampling Y),nbSamples= 10000 train NLLH=0.0196, NMSE=0.0026   valid NLLH=-0.0162, NMSE=-0.0053  \n",
      "\n"
     ]
    }
   ],
   "source": [
    "regulL2 = 16.0\n",
    "for nbSamples in [100,1000,10000]:\n",
    "    print( f\"nbSamples:{nbSamples} \" )\n",
    "    self = AggMRFModel( aggdata_unbalanced, features , \n",
    "                           exactComputation=False , clicksCfs = \"*&*\", displaysCfs=\"*&*\",\n",
    "                          nbSamples = nbSamples, regulL2=1.0 , regulL2Click = regulL2)\n",
    "    self.fit(100)\n",
    "    print( f\"MRF(collapsed),nbSamples= {nbSamples}\",  \"train\",   Validation.run(self,train_unbalanced) , \"valid\" , Validation.run(self,valid_unbalanced)   )\n",
    "    self = AggMRFModel( aggdata_unbalanced, features , \n",
    "                           exactComputation=False , clicksCfs = \"*&*\", displaysCfs=\"*&*\",\n",
    "                          nbSamples = nbSamples, regulL2=1.0 , regulL2Click = regulL2)\n",
    "    self.decollapseGibbs = True\n",
    "    self.fit(100)\n",
    "    print( f\"MRF(Sampling Y),nbSamples= {nbSamples}\",  \"train\",   Validation.run(self,train_unbalanced) , \"valid\" , Validation.run(self,valid_unbalanced)   )    \n",
    "print(\"\")    "
   ]
  },
  {
   "cell_type": "code",
   "execution_count": null,
   "metadata": {
    "ExecuteTime": {
     "end_time": "2021-02-11T12:40:43.738685Z",
     "start_time": "2021-02-11T12:40:43.700028Z"
    }
   },
   "outputs": [],
   "source": []
  },
  {
   "cell_type": "markdown",
   "metadata": {
    "ExecuteTime": {
     "end_time": "2021-02-11T12:41:22.419387Z",
     "start_time": "2021-02-11T12:41:22.384374Z"
    }
   },
   "source": [
    "# Learning differential private models"
   ]
  },
  {
   "cell_type": "code",
   "execution_count": 26,
   "metadata": {
    "ExecuteTime": {
     "end_time": "2021-02-11T13:50:36.869976Z",
     "start_time": "2021-02-11T13:50:36.827727Z"
    }
   },
   "outputs": [],
   "source": [
    "epsilons = [10.0 , 1.0 , 0.1]\n",
    "deltas = [ None ,1e-7, 1e-4 ]\n",
    "regulL2s = [4.0, 16, 64, 256, 1024 ]\n",
    "\n",
    "\n",
    "if runBenchmarks == False:\n",
    "    epsilons = [1.0]\n",
    "    deltas = [ None ,1e-7 ]\n",
    "    regulL2s = [ 16, 64 ]\n"
   ]
  },
  {
   "cell_type": "code",
   "execution_count": null,
   "metadata": {
    "ExecuteTime": {
     "end_time": "2021-02-11T12:51:09.157028Z",
     "start_time": "2021-02-11T12:51:09.122758Z"
    }
   },
   "outputs": [],
   "source": []
  },
  {
   "cell_type": "code",
   "execution_count": 27,
   "metadata": {
    "ExecuteTime": {
     "end_time": "2021-02-11T14:03:52.491200Z",
     "start_time": "2021-02-11T13:50:36.871619Z"
    }
   },
   "outputs": [
    {
     "name": "stdout",
     "output_type": "stream",
     "text": [
      "\n",
      "LaplaceMechanism epsilon:1.0  scale:0.06666666666666667 sigma:21.209275573763474\n",
      "\n",
      "llh:0.0E+00 a:1.1E-01(0), n:200, g:1.8E+03  --\n",
      "MRF(no noise model) l1=16 train NLLH=0.0419, NMSE=0.0575   valid NLLH=0.0371, NMSE=0.0520  \n",
      "llh:0.0E+00 a:1.6E-01(1), n:200, g:1.7E+03  --\n",
      "MRF(no noise model) l1=64 train NLLH=0.0547, NMSE=0.0707   valid NLLH=0.0521, NMSE=0.0675  \n",
      "\n",
      "GaussianMechanism epsilon:1.0 delta:1e-07 sigma:21.373603341459955\n",
      "\n",
      "llh:0.0E+00 a:1.0E-01(1), n:200, g:2.6E+03  --\n",
      "MRF(no noise model) l1=16 train NLLH=0.0396, NMSE=0.0558   valid NLLH=0.0328, NMSE=0.0479  \n",
      "llh:0.0E+00 a:1.0E-01(1), n:200, g:1.6E+03  --\n",
      "MRF(no noise model) l1=64 train NLLH=0.0551, NMSE=0.0711   valid NLLH=0.0516, NMSE=0.0667  \n"
     ]
    }
   ],
   "source": [
    "for epsilon in epsilons:\n",
    "    for delta in deltas:\n",
    "        print(\"\")\n",
    "        ## seeding to ensure each algo will run on the same dataset. \n",
    "        # In the article, this was not seeded, but both presented models were trained on the same instance of aggdata \n",
    "        np.random.seed(0)\n",
    "        aggdata = AggDataset( features, \"*&*\", train , label, epsilon, delta )\n",
    "        print(\"\")\n",
    "        for regulL2 in regulL2s:\n",
    "            self = AggMRFModel( aggdata, features , \n",
    "                           exactComputation=False , clicksCfs = \"*&*\", displaysCfs=\"*&*\",\n",
    "                           nbSamples = 50000, regulL2=1.0 , regulL2Click = regulL2)\n",
    "            self.fit(200)\n",
    "            print( f\"MRF(no noise model) l1={regulL2}\",  \"train\",   Validation.run(self,train) , \"valid\" , Validation.run(self,valid)   )\n",
    "        "
   ]
  },
  {
   "cell_type": "code",
   "execution_count": 28,
   "metadata": {
    "ExecuteTime": {
     "end_time": "2021-02-11T14:17:10.935884Z",
     "start_time": "2021-02-11T14:03:52.493151Z"
    }
   },
   "outputs": [
    {
     "name": "stdout",
     "output_type": "stream",
     "text": [
      "\n",
      "LaplaceMechanism epsilon:1.0  scale:0.06666666666666667 sigma:21.209275573763474\n",
      "\n",
      "llh:0.0E+00 a:1.1E-01(0), n:200, g:1.9E+03  --\n",
      "MRF(modeling noise) l1=16 train NLLH=0.0546, NMSE=0.0704   valid NLLH=0.0521, NMSE=0.0675  \n",
      "llh:0.0E+00 a:1.1E-01(0), n:200, g:1.3E+03  --\n",
      "MRF(modeling noise) l1=64 train NLLH=0.0537, NMSE=0.0693   valid NLLH=0.0522, NMSE=0.0675  \n",
      "\n",
      "GaussianMechanism epsilon:1.0 delta:1e-07 sigma:21.373603341459955\n",
      "\n",
      "llh:0.0E+00 a:1.1E-01(0), n:200, g:1.6E+03  --\n",
      "MRF(modeling noise) l1=16 train NLLH=0.0556, NMSE=0.0718   valid NLLH=0.0528, NMSE=0.0682  \n",
      "llh:0.0E+00 a:1.6E-01(1), n:200, g:1.4E+03  --\n",
      "MRF(modeling noise) l1=64 train NLLH=0.0539, NMSE=0.0696   valid NLLH=0.0523, NMSE=0.0677  \n"
     ]
    }
   ],
   "source": [
    "for epsilon in epsilons:\n",
    "    for delta in deltas:\n",
    "        print(\"\")\n",
    "        ## seeding to ensure each algo will run on the same dataset\n",
    "        np.random.seed(0)\n",
    "        aggdata = AggDataset( features, \"*&*\", train , label, epsilon, delta )\n",
    "        print(\"\")\n",
    "        for regulL2 in regulL2s:\n",
    "            self = AggMRFModel( aggdata, features , \n",
    "                           exactComputation=False , clicksCfs = \"*&*\", displaysCfs=\"*&*\",\n",
    "                           nbSamples = 50000, regulL2=1.0 , regulL2Click = regulL2,\n",
    "                              noiseDistribution= aggdata.noiseDistribution )\n",
    "            self.fit(200)\n",
    "            print( f\"MRF(modeling noise) l1={regulL2}\",  \"train\",   Validation.run(self,train) , \"valid\" , Validation.run(self,valid)   )\n",
    "        "
   ]
  },
  {
   "cell_type": "code",
   "execution_count": null,
   "metadata": {},
   "outputs": [],
   "source": []
  },
  {
   "cell_type": "code",
   "execution_count": null,
   "metadata": {},
   "outputs": [],
   "source": []
  }
 ],
 "metadata": {
  "colab": {
   "collapsed_sections": [],
   "name": "MTC.ipynb",
   "provenance": [],
   "toc_visible": true
  },
  "hide_input": false,
  "kernelspec": {
   "display_name": "Python Criteo",
   "language": "python",
   "name": "python-mozart"
  },
  "language_info": {
   "codemirror_mode": {
    "name": "ipython",
    "version": 3
   },
   "file_extension": ".py",
   "mimetype": "text/x-python",
   "name": "python",
   "nbconvert_exporter": "python",
   "pygments_lexer": "ipython3",
   "version": "3.6.8"
  },
  "toc": {
   "base_numbering": 1,
   "nav_menu": {},
   "number_sections": true,
   "sideBar": true,
   "skip_h1_title": false,
   "title_cell": "Table of Contents",
   "title_sidebar": "Contents",
   "toc_cell": false,
   "toc_position": {},
   "toc_section_display": true,
   "toc_window_display": false
  }
 },
 "nbformat": 4,
 "nbformat_minor": 4
}
