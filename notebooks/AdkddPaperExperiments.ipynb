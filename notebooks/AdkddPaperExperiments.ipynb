{
 "cells": [
  {
   "cell_type": "code",
   "execution_count": 1,
   "metadata": {
    "ExecuteTime": {
     "end_time": "2021-09-21T14:47:44.839513Z",
     "start_time": "2021-09-21T14:47:44.605685Z"
    }
   },
   "outputs": [
    {
     "name": "stdout",
     "output_type": "stream",
     "text": [
      "failed to load pyspark\n",
      "failed to load pyspark\n",
      "Warning:Failed to load pyspark. Maybe it is not installed in your environement? This is Ok if you plan to use only in-memory training.\n"
     ]
    }
   ],
   "source": [
    "%load_ext autoreload\n",
    "%autoreload 2\n",
    "from aggregated_models.myimports  import *\n",
    "\n",
    "plt.style.use('ggplot')\n",
    "\n",
    "from aggregated_models.aggdataset import AggDataset\n",
    "from aggregated_models.basicmodels import NaiveBayesModel, LogisticModelWithCF\n",
    "from aggregated_models.validation import MetricsComputer\n",
    "from aggregated_models.aggLogistic import AggLogistic\n",
    "from aggregated_models.agg_mrf_model import AggMRFModel, AggMRFModelParams\n",
    "from  aggregated_models import loaddata\n",
    "from  aggregated_models import Optimizers\n"
   ]
  },
  {
   "cell_type": "code",
   "execution_count": 2,
   "metadata": {
    "ExecuteTime": {
     "end_time": "2021-09-21T14:47:47.111767Z",
     "start_time": "2021-09-21T14:47:47.084806Z"
    }
   },
   "outputs": [],
   "source": [
    "Validation = MetricsComputer(\"click\")"
   ]
  },
  {
   "cell_type": "markdown",
   "metadata": {
    "colab_type": "text",
    "id": "OWC5yFQ-0BIB"
   },
   "source": [
    "## Download Data\n",
    "- downloading criteo-research-attribution-dataset\n",
    "- from url http://go.criteo.net"
   ]
  },
  {
   "cell_type": "code",
   "execution_count": 3,
   "metadata": {
    "ExecuteTime": {
     "end_time": "2021-09-21T14:50:18.465828Z",
     "start_time": "2021-09-21T14:47:58.512463Z"
    }
   },
   "outputs": [
    {
     "name": "stdout",
     "output_type": "stream",
     "text": [
      "downloading dataset\n",
      "unzipping\n"
     ]
    }
   ],
   "source": [
    "loaddata.download_dataset()"
   ]
  },
  {
   "cell_type": "markdown",
   "metadata": {},
   "source": [
    "## Loading data\n",
    "3 versions of the dataset are used for experiments: \"small\" , \"sampled\" and \"full\"\n",
    "- \"full\" has 11 features with about 16M samples\n",
    "- \"sampled\" has the same 11 features, but only 160k samples\n",
    "- \"small\" also has 160k samples, but only the 5 features with lowest modalities count, and allow for fast experiments."
   ]
  },
  {
   "cell_type": "code",
   "execution_count": 4,
   "metadata": {
    "ExecuteTime": {
     "end_time": "2021-09-21T15:47:50.436142Z",
     "start_time": "2021-09-21T15:47:50.349318Z"
    }
   },
   "outputs": [],
   "source": [
    "dataset= \"small\" # fast experiments\n",
    "# dataset= \"sampled\" # Training a MRF may require 5h and 16Go data\n",
    "# dataset= \"full\"  # Training a MRF may require 32Go, and several days"
   ]
  },
  {
   "cell_type": "code",
   "execution_count": 6,
   "metadata": {
    "ExecuteTime": {
     "end_time": "2021-09-21T15:47:52.455960Z",
     "start_time": "2021-09-21T15:47:51.598348Z"
    }
   },
   "outputs": [
    {
     "name": "stdout",
     "output_type": "stream",
     "text": [
      "Sampling ratio :0.01\n",
      "Nb train samples: 115382 , Nb valid samples: 49770  \n",
      "features:['cat1', 'cat4', 'cat6', 'cat8', 'cat9']\n"
     ]
    }
   ],
   "source": [
    "train, valid, features, label = loaddata.getDataset(dataset)"
   ]
  },
  {
   "cell_type": "code",
   "execution_count": 7,
   "metadata": {},
   "outputs": [
    {
     "data": {
      "text/plain": [
       "(115382, 49770)"
      ]
     },
     "execution_count": 7,
     "metadata": {},
     "output_type": "execute_result"
    }
   ],
   "source": [
    "len(train), len(valid)"
   ]
  },
  {
   "cell_type": "code",
   "execution_count": 8,
   "metadata": {
    "ExecuteTime": {
     "end_time": "2021-09-22T13:50:51.380282Z",
     "start_time": "2021-09-22T13:50:51.081559Z"
    }
   },
   "outputs": [
    {
     "data": {
      "text/html": [
       "<div>\n",
       "<style scoped>\n",
       "    .dataframe tbody tr th:only-of-type {\n",
       "        vertical-align: middle;\n",
       "    }\n",
       "\n",
       "    .dataframe tbody tr th {\n",
       "        vertical-align: top;\n",
       "    }\n",
       "\n",
       "    .dataframe thead th {\n",
       "        text-align: right;\n",
       "    }\n",
       "</style>\n",
       "<table border=\"1\" class=\"dataframe\">\n",
       "  <thead>\n",
       "    <tr style=\"text-align: right;\">\n",
       "      <th></th>\n",
       "      <th>cat1</th>\n",
       "      <th>cat4</th>\n",
       "      <th>cat6</th>\n",
       "      <th>cat8</th>\n",
       "      <th>cat9</th>\n",
       "      <th>click</th>\n",
       "    </tr>\n",
       "  </thead>\n",
       "  <tbody>\n",
       "    <tr>\n",
       "      <th>16105981</th>\n",
       "      <td>25259032</td>\n",
       "      <td>23549932</td>\n",
       "      <td>5824235</td>\n",
       "      <td>29196072</td>\n",
       "      <td>29196072</td>\n",
       "      <td>0</td>\n",
       "    </tr>\n",
       "    <tr>\n",
       "      <th>10532191</th>\n",
       "      <td>30763035</td>\n",
       "      <td>29196072</td>\n",
       "      <td>1973606</td>\n",
       "      <td>23998111</td>\n",
       "      <td>16022558</td>\n",
       "      <td>0</td>\n",
       "    </tr>\n",
       "  </tbody>\n",
       "</table>\n",
       "</div>"
      ],
      "text/plain": [
       "              cat1      cat4     cat6      cat8      cat9  click\n",
       "16105981  25259032  23549932  5824235  29196072  29196072      0\n",
       "10532191  30763035  29196072  1973606  23998111  16022558      0"
      ]
     },
     "execution_count": 8,
     "metadata": {},
     "output_type": "execute_result"
    }
   ],
   "source": [
    "train.sample(2)"
   ]
  },
  {
   "cell_type": "code",
   "execution_count": 9,
   "metadata": {
    "ExecuteTime": {
     "end_time": "2021-09-22T13:50:59.387934Z",
     "start_time": "2021-09-22T13:50:59.281292Z"
    }
   },
   "outputs": [
    {
     "name": "stdout",
     "output_type": "stream",
     "text": [
      "feature cat1 has 9 distinct modalities\n",
      "feature cat4 has 14 distinct modalities\n",
      "feature cat6 has 30 distinct modalities\n",
      "feature cat8 has 11 distinct modalities\n",
      "feature cat9 has 30 distinct modalities\n"
     ]
    }
   ],
   "source": [
    "for f in features:\n",
    "    nbModalities = len(set(train[f].values))\n",
    "    print( f\"feature {f} has {nbModalities} distinct modalities\" )"
   ]
  },
  {
   "cell_type": "markdown",
   "metadata": {},
   "source": [
    "## Preparing Aggregated data\n",
    "\n",
    "- aggdata contains projections of number of displays and clicks along each pair of feature\n",
    "- may also add some noise to make it differential private\n",
    "- the goal is to learn a model predicting Proba( label | features) using *only* those aggdata."
   ]
  },
  {
   "cell_type": "code",
   "execution_count": 10,
   "metadata": {
    "ExecuteTime": {
     "end_time": "2021-09-22T13:51:09.391676Z",
     "start_time": "2021-09-22T13:51:09.363848Z"
    }
   },
   "outputs": [],
   "source": [
    "# parameters for of the privacy protecting noise.\n",
    "epsilon = None  # Set to None to get no noise.\n",
    "delta = None "
   ]
  },
  {
   "cell_type": "code",
   "execution_count": 11,
   "metadata": {
    "ExecuteTime": {
     "end_time": "2021-09-22T13:51:57.485096Z",
     "start_time": "2021-09-22T13:51:56.262359Z"
    }
   },
   "outputs": [],
   "source": [
    "aggdata = AggDataset.FromDF( train , features, \"*&*\",  label, epsilon0=epsilon, delta=delta )"
   ]
  },
  {
   "cell_type": "code",
   "execution_count": 12,
   "metadata": {
    "ExecuteTime": {
     "end_time": "2021-09-22T13:54:08.995576Z",
     "start_time": "2021-09-22T13:54:08.962943Z"
    }
   },
   "outputs": [
    {
     "data": {
      "text/plain": [
       "array([0.0000e+00, 0.0000e+00, 0.0000e+00, 0.0000e+00, 0.0000e+00,\n",
       "       4.2000e+01, 0.0000e+00, 0.0000e+00, 0.0000e+00, 0.0000e+00,\n",
       "       0.0000e+00, 0.0000e+00, 0.0000e+00, 0.0000e+00, 0.0000e+00,\n",
       "       1.0000e+00, 0.0000e+00, 2.0000e+00, 0.0000e+00, 0.0000e+00,\n",
       "       0.0000e+00, 0.0000e+00, 0.0000e+00, 0.0000e+00, 0.0000e+00,\n",
       "       1.6700e+02, 0.0000e+00, 0.0000e+00, 0.0000e+00, 0.0000e+00,\n",
       "       0.0000e+00, 0.0000e+00, 0.0000e+00, 0.0000e+00, 0.0000e+00,\n",
       "       2.0000e+01, 1.6000e+01, 2.7000e+01, 3.0000e+00, 0.0000e+00,\n",
       "       0.0000e+00, 0.0000e+00, 0.0000e+00, 0.0000e+00, 0.0000e+00,\n",
       "       6.1000e+01, 5.2000e+01, 8.1000e+01, 2.0000e+00, 0.0000e+00,\n",
       "       0.0000e+00, 0.0000e+00, 0.0000e+00, 0.0000e+00, 0.0000e+00,\n",
       "       2.0000e+00, 0.0000e+00, 0.0000e+00, 0.0000e+00, 0.0000e+00,\n",
       "       0.0000e+00, 0.0000e+00, 0.0000e+00, 0.0000e+00, 0.0000e+00,\n",
       "       5.0900e+02, 9.1000e+01, 1.0000e+00, 1.0000e+00, 0.0000e+00,\n",
       "       0.0000e+00, 0.0000e+00, 0.0000e+00, 0.0000e+00, 0.0000e+00,\n",
       "       0.0000e+00, 0.0000e+00, 0.0000e+00, 0.0000e+00, 0.0000e+00,\n",
       "       0.0000e+00, 0.0000e+00, 0.0000e+00, 0.0000e+00, 0.0000e+00,\n",
       "       1.0000e+00, 3.0000e+00, 2.0000e+00, 0.0000e+00, 0.0000e+00,\n",
       "       0.0000e+00, 0.0000e+00, 0.0000e+00, 0.0000e+00, 0.0000e+00,\n",
       "       2.0000e+00, 0.0000e+00, 0.0000e+00, 0.0000e+00, 0.0000e+00,\n",
       "       0.0000e+00, 0.0000e+00, 0.0000e+00, 0.0000e+00, 0.0000e+00,\n",
       "       6.0400e+02, 6.0800e+02, 8.1400e+02, 5.0000e+00, 0.0000e+00,\n",
       "       0.0000e+00, 0.0000e+00, 0.0000e+00, 0.0000e+00, 0.0000e+00,\n",
       "       4.0000e+00, 8.0000e+00, 1.1000e+01, 0.0000e+00, 0.0000e+00,\n",
       "       4.2760e+03, 2.9810e+03, 6.3400e+02, 1.2370e+03, 1.1380e+03,\n",
       "       2.3150e+03, 2.1610e+03, 3.2070e+03, 2.0546e+04, 0.0000e+00,\n",
       "       0.0000e+00, 0.0000e+00, 0.0000e+00, 0.0000e+00, 0.0000e+00,\n",
       "       0.0000e+00, 0.0000e+00, 2.0000e+00, 0.0000e+00, 0.0000e+00,\n",
       "       0.0000e+00, 0.0000e+00, 0.0000e+00, 0.0000e+00, 0.0000e+00,\n",
       "       0.0000e+00, 0.0000e+00, 0.0000e+00, 0.0000e+00, 0.0000e+00])"
      ]
     },
     "execution_count": 12,
     "metadata": {},
     "output_type": "execute_result"
    }
   ],
   "source": [
    "aggdata.aggClicks[ 'cat1&cat4' ].Data"
   ]
  },
  {
   "cell_type": "code",
   "execution_count": 13,
   "metadata": {
    "ExecuteTime": {
     "end_time": "2021-09-21T15:48:00.854308Z",
     "start_time": "2021-09-21T15:48:00.814486Z"
    }
   },
   "outputs": [
    {
     "name": "stdout",
     "output_type": "stream",
     "text": [
      " Nb Queries: 15\n",
      " Noise distribution: None\n"
     ]
    }
   ],
   "source": [
    "print( f\" Nb Queries: {len(aggdata.aggDisplays)}\")\n",
    "print( f\" Noise distribution: {aggdata.noiseDistribution}\" )"
   ]
  },
  {
   "cell_type": "code",
   "execution_count": null,
   "metadata": {
    "ExecuteTime": {
     "end_time": "2021-09-21T15:48:53.557014Z",
     "start_time": "2021-09-21T15:48:53.475861Z"
    }
   },
   "outputs": [],
   "source": []
  },
  {
   "cell_type": "code",
   "execution_count": 14,
   "metadata": {
    "ExecuteTime": {
     "end_time": "2021-09-21T15:49:15.476028Z",
     "start_time": "2021-09-21T15:49:15.441164Z"
    }
   },
   "outputs": [
    {
     "name": "stdout",
     "output_type": "stream",
     "text": [
      "list of queries ['cat1', 'cat4', 'cat6', 'cat8', 'cat9', 'cat1&cat4', 'cat1&cat6', 'cat1&cat8', 'cat1&cat9', 'cat4&cat6', 'cat4&cat8', 'cat4&cat9', 'cat6&cat8', 'cat6&cat9', 'cat8&cat9']\n"
     ]
    }
   ],
   "source": [
    "# aggdata may be viewed as a dictionary queryname -> dataframe\n",
    "queries = [x for x in aggdata.aggDisplays]\n",
    "print( f\"list of queries {queries}\" )"
   ]
  },
  {
   "cell_type": "code",
   "execution_count": null,
   "metadata": {},
   "outputs": [],
   "source": []
  },
  {
   "cell_type": "markdown",
   "metadata": {},
   "source": [
    "# Comparing models on noiseless data"
   ]
  },
  {
   "cell_type": "code",
   "execution_count": 15,
   "metadata": {
    "ExecuteTime": {
     "end_time": "2021-09-21T15:50:03.871045Z",
     "start_time": "2021-09-21T15:50:02.837321Z"
    }
   },
   "outputs": [],
   "source": [
    "aggdata = AggDataset.FromDF( train , features, \"*&*\",  label )"
   ]
  },
  {
   "cell_type": "code",
   "execution_count": 16,
   "metadata": {
    "ExecuteTime": {
     "end_time": "2021-09-22T13:55:51.893956Z",
     "start_time": "2021-09-22T13:55:51.645130Z"
    }
   },
   "outputs": [],
   "source": [
    "#  Set to True to run the full benchmarks on Regulaization parameter.\n",
    "# Keep to false to get only the selected value\n",
    "runBenchmarks = False"
   ]
  },
  {
   "cell_type": "markdown",
   "metadata": {},
   "source": [
    "##### logistic Regression\n",
    "- Using full log instead of aggdata. \n",
    "- Training with all \"crossfeatures\" found in agg data ( ie quadratic kernell)\n",
    "- We do not expect to do better, the goal is to get similar performances"
   ]
  },
  {
   "cell_type": "code",
   "execution_count": 17,
   "metadata": {
    "ExecuteTime": {
     "end_time": "2021-09-21T15:51:12.094839Z",
     "start_time": "2021-09-21T15:50:09.271327Z"
    }
   },
   "outputs": [
    {
     "name": "stdout",
     "output_type": "stream",
     "text": [
      "Logistic(*&*), l2:16 train NLLH=0.0600, NMSE=0.0772   valid NLLH=0.0560, NMSE=0.0724  \n"
     ]
    }
   ],
   "source": [
    "## regulL2 was  benched to get best validation LLH\n",
    "regulL2s = [4, 8, 16, 32, 64, 128, 256, 512]\n",
    "if not runBenchmarks:\n",
    "    regulL2s = [16] if dataset == \"small\" else [128] if dataset == \"sampled\" else [64]\n",
    "\n",
    "for regulL2 in regulL2s:\n",
    "    logisticCfs = LogisticModelWithCF( \"click\" , features, \"*&*\"  , train ,\n",
    "                                      hashspace=2**22 , lambdaL2 = regulL2  )\n",
    "    logisticCfs.fit( train )\n",
    "    print( f\"Logistic(*&*), l2:{regulL2}\" ,  \"train\",  Validation.run(logisticCfs,train) , \"valid\" , Validation.run(logisticCfs,valid)   )"
   ]
  },
  {
   "cell_type": "markdown",
   "metadata": {},
   "source": [
    "##### logistic Regression from aggregated clicks and full display data (quadratic kernell)\n",
    " - same performances as \"standard\" logistic regression\n",
    " - but still using full display data, so not really usefull"
   ]
  },
  {
   "cell_type": "code",
   "execution_count": 18,
   "metadata": {
    "ExecuteTime": {
     "end_time": "2021-02-11T13:36:29.111314Z",
     "start_time": "2021-02-11T13:36:22.558240Z"
    }
   },
   "outputs": [
    {
     "name": "stdout",
     "output_type": "stream",
     "text": [
      "Logistic(*&*), l2:16 train NLLH=0.0598, NMSE=0.0770   valid NLLH=0.0558, NMSE=0.0721  \n"
     ]
    }
   ],
   "source": [
    "## regulL2 was  benched to get best validation LLH\n",
    "regulL2s = [4, 8, 16, 32, 64, 128, 256, 512]\n",
    "if not runBenchmarks:\n",
    "    regulL2s = [16] if dataset == \"small\" else [128] if dataset == \"sampled\" else [64]\n",
    "\n",
    "for regulL2 in regulL2s:\n",
    "    logisticCfs = AggLogistic(  aggdata , features, clicksCfs = \"*&*\" , rescaling=True, regulL2=regulL2 )\n",
    "    logisticCfs.fit( train[features] , nbIter = 400 )\n",
    "    print( f\"Logistic(*&*), l2:{regulL2}\" ,  \"train\",  Validation.run(logisticCfs,train) , \"valid\" , Validation.run(logisticCfs,valid)   )\n",
    "    "
   ]
  },
  {
   "cell_type": "markdown",
   "metadata": {
    "ExecuteTime": {
     "end_time": "2021-02-11T11:22:38.398714Z",
     "start_time": "2021-02-11T11:22:38.359320Z"
    }
   },
   "source": [
    "##### logistic Regression without quadratic kernell\n",
    " - still solid baseline, but significantly weaker than logistic with quadratic kernell"
   ]
  },
  {
   "cell_type": "code",
   "execution_count": 19,
   "metadata": {
    "ExecuteTime": {
     "end_time": "2021-09-21T16:14:47.670204Z",
     "start_time": "2021-09-21T16:14:44.570169Z"
    }
   },
   "outputs": [
    {
     "name": "stdout",
     "output_type": "stream",
     "text": [
      "Logistic(*&*), l2:1 train NLLH=0.0535, NMSE=0.0691   valid NLLH=0.0538, NMSE=0.0698  \n"
     ]
    }
   ],
   "source": [
    "regulL2s = [0.5, 1, 2, 4, 8, 16, 32, 64, 128, 256, 512]\n",
    "if not runBenchmarks:\n",
    "    regulL2s = [1] if dataset == \"small\" else [8] \n",
    "    \n",
    "for regulL2 in regulL2s:\n",
    "    logisticCfs = AggLogistic(  aggdata , features, clicksCfs = \"*\" , regulL2=regulL2 )\n",
    "    logisticCfs.fit( train[features] , nbIter = 400 )\n",
    "    print( f\"Logistic(*&*), l2:{regulL2}\" ,  \"train\",  Validation.run(logisticCfs,train) , \"valid\" , Validation.run(logisticCfs,valid)   )\n",
    "    "
   ]
  },
  {
   "cell_type": "code",
   "execution_count": null,
   "metadata": {
    "ExecuteTime": {
     "end_time": "2021-01-13T16:37:21.632389Z",
     "start_time": "2021-01-13T16:37:11.169238Z"
    }
   },
   "outputs": [],
   "source": []
  },
  {
   "cell_type": "markdown",
   "metadata": {},
   "source": [
    "##### Proposed MRF model\n",
    "- uses only aggregated data\n",
    "- almost retrieves logistic performances"
   ]
  },
  {
   "cell_type": "code",
   "execution_count": 20,
   "metadata": {
    "ExecuteTime": {
     "end_time": "2021-09-22T14:18:52.129730Z",
     "start_time": "2021-09-22T14:18:51.911860Z"
    }
   },
   "outputs": [
    {
     "name": "stdout",
     "output_type": "stream",
     "text": [
      "MRF lambda1= 16 train NLLH=0.0593, NMSE=0.0764   valid NLLH=0.0556, NMSE=0.0719  \n"
     ]
    }
   ],
   "source": [
    "regulL2s = [ 4, 8, 16, 32, 64, 128, 256, 512]\n",
    "if not runBenchmarks:\n",
    "    regulL2s = [16] if dataset == \"small\" else [128] if dataset == \"sampled\" else 512 \n",
    "nbSamples = 50000\n",
    "nbIter = 200\n",
    "if dataset == \"full\": # requires more samples and more training iterations to converge.\n",
    "    print( \"Warning: training one model with these settings may take about 1 week\" )\n",
    "    nbIter = 1500\n",
    "    nbSamples = 400000    \n",
    "for regulL2 in regulL2s:\n",
    "    params = AggMRFModelParams(\n",
    "        features=features,\n",
    "        exactComputation=False ,\n",
    "        clicksCfs = \"*&*\",\n",
    "        displaysCfs=\"*&*\",\n",
    "        nbSamples = nbSamples,\n",
    "        regulL2=1.0,\n",
    "        regulL2Click = regulL2 )\n",
    "    self = AggMRFModel(aggdata, params)\n",
    "    self.fit(nbIter)\n",
    "    print( f\"MRF lambda1= {regulL2}\",  \"train\",   Validation.run(self,train) , \"valid\" , Validation.run(self,valid)   )\n",
    "    "
   ]
  },
  {
   "cell_type": "code",
   "execution_count": null,
   "metadata": {
    "ExecuteTime": {
     "end_time": "2021-09-22T14:19:10.053434Z",
     "start_time": "2021-09-22T14:19:10.025683Z"
    }
   },
   "outputs": [],
   "source": []
  },
  {
   "cell_type": "markdown",
   "metadata": {
    "ExecuteTime": {
     "end_time": "2021-02-11T11:40:15.866137Z",
     "start_time": "2021-02-11T11:40:15.820604Z"
    }
   },
   "source": [
    "#### Naive Bayes\n",
    "- rather weak baseline\n",
    "- would require only examples and labels counts aggregated on each single feature\n",
    "- requires very strong L2 regularization to get Okish results when the number of features grows"
   ]
  },
  {
   "cell_type": "code",
   "execution_count": 21,
   "metadata": {
    "ExecuteTime": {
     "end_time": "2021-02-11T13:40:23.249012Z",
     "start_time": "2021-02-11T13:39:54.575952Z"
    }
   },
   "outputs": [
    {
     "name": "stdout",
     "output_type": "stream",
     "text": [
      "NaiveBayes, regulL=1 train NLLH=0.0488, NMSE=0.0637   valid NLLH=0.0505, NMSE=0.0661  \n"
     ]
    }
   ],
   "source": [
    "## Implementation:  one classifier (logistic regresion) per feature.\n",
    "regulL2s = [ 4, 8, 16, 32, 64, 128, 256, 512]\n",
    "if not runBenchmarks:\n",
    "    regulL2s = [1] if dataset == \"small\" else [256]\n",
    "\n",
    "for regulL2 in regulL2s:\n",
    "    self = NaiveBayesModel( label, features , regulL2)\n",
    "    self.fit(train)\n",
    "    print( f\"NaiveBayes, regulL={regulL2}\",  \"train\",   Validation.run(self,train) , \"valid\" , Validation.run(self,valid)   )"
   ]
  },
  {
   "cell_type": "code",
   "execution_count": 22,
   "metadata": {
    "ExecuteTime": {
     "end_time": "2021-02-11T13:43:03.176283Z",
     "start_time": "2021-02-11T13:40:23.250880Z"
    }
   },
   "outputs": [
    {
     "name": "stdout",
     "output_type": "stream",
     "text": [
      "nbSamples:50000 , nbIter:200, lambda_1:1 \n",
      "NaiveBayes,(MRF implem) lambda1= 1 train NLLH=0.0488, NMSE=0.0637   valid NLLH=0.0505, NMSE=0.0660  \n"
     ]
    }
   ],
   "source": [
    "## Implementation:  MRF using only aggregated data on single features\n",
    "regulL2s = [1, 2, 4, 8, 16, 32, 64, 128, 256, 512]\n",
    "if not runBenchmarks:\n",
    "    regulL2s = [1] if dataset == \"small\" else [256] \n",
    "\n",
    "for regulL2 in regulL2s:\n",
    "    print( f\"nbSamples:{nbSamples} , nbIter:{nbIter}, lambda_1:{regulL2} \" )\n",
    "    params = AggMRFModelParams(\n",
    "        exactComputation=False,\n",
    "        clicksCfs = \"*\",\n",
    "        displaysCfs=\"*\",\n",
    "        nbSamples = 50000,\n",
    "        regulL2=1.0,\n",
    "        regulL2Click = regulL2,\n",
    "        features = features,\n",
    "    )\n",
    "    self = AggMRFModel(aggdata, params)\n",
    "    self.fit(200)\n",
    "    print( f\"NaiveBayes,(MRF implem) lambda1= {regulL2}\",  \"train\",   Validation.run(self,train) , \"valid\" , Validation.run(self,valid)   )"
   ]
  },
  {
   "cell_type": "code",
   "execution_count": null,
   "metadata": {},
   "outputs": [],
   "source": []
  },
  {
   "cell_type": "markdown",
   "metadata": {},
   "source": [
    "#### MRF without \"cross-features\" on the P(Y|X) part of the model\n",
    "Should be compared to the \"simple\" logistic with no Kernell. Requires:\n",
    "- count of clicks aggregated on each feature,\n",
    "- count of displays aggregated on each pair of features"
   ]
  },
  {
   "cell_type": "code",
   "execution_count": 23,
   "metadata": {
    "ExecuteTime": {
     "end_time": "2021-02-11T13:46:03.680015Z",
     "start_time": "2021-02-11T13:43:03.178172Z"
    }
   },
   "outputs": [
    {
     "name": "stdout",
     "output_type": "stream",
     "text": [
      "nbSamples:50000 , nbIter:200, lambda_1:4 \n",
      "MRF_simple lambda1= 4 train NLLH=0.0526, NMSE=0.0681   valid NLLH=0.0532, NMSE=0.0690  \n"
     ]
    }
   ],
   "source": [
    "regulL2s = [1, 2, 4, 8, 16, 32, 64, 128, 256, 512]\n",
    "if not runBenchmarks:\n",
    "    regulL2s = [4] if dataset == \"small\" else [64] \n",
    "\n",
    "for regulL2 in regulL2s:\n",
    "    print( f\"nbSamples:{nbSamples} , nbIter:{nbIter}, lambda_1:{regulL2} \" )\n",
    "    params = AggMRFModelParams(\n",
    "        exactComputation=False,\n",
    "        clicksCfs = \"*\",\n",
    "        displaysCfs=\"*&*\",\n",
    "        nbSamples = 50000,\n",
    "        regulL2=1.0,\n",
    "        regulL2Click = regulL2,\n",
    "        features = features,        \n",
    "    )\n",
    "    self = AggMRFModel(aggdata, params)\n",
    "    self.fit(200)\n",
    "    print( f\"MRF_simple lambda1= {regulL2}\",  \"train\",   Validation.run(self,train) , \"valid\" , Validation.run(self,valid)   )"
   ]
  },
  {
   "cell_type": "code",
   "execution_count": null,
   "metadata": {},
   "outputs": [],
   "source": []
  },
  {
   "cell_type": "markdown",
   "metadata": {},
   "source": [
    "# Other results on noiseless data"
   ]
  },
  {
   "cell_type": "markdown",
   "metadata": {},
   "source": [
    "## Benching MRF regularization\n",
    "\n",
    "the MRF model has 2 distinct regularization parameters:\n",
    "- one controling the smoothness of the P(Y|X) . This one should be set roughly with the same value as the regularization parameter of a logistic regression with the same features.\n",
    "- one controling the smoothness of the P(X). This parameter should be kept to a low value.\n",
    "\n"
   ]
  },
  {
   "cell_type": "code",
   "execution_count": 24,
   "metadata": {
    "ExecuteTime": {
     "end_time": "2021-02-11T13:49:22.318016Z",
     "start_time": "2021-02-11T13:46:03.683111Z"
    }
   },
   "outputs": [
    {
     "name": "stdout",
     "output_type": "stream",
     "text": [
      "MRF l1= 16 l2= 16 train NLLH=0.0593, NMSE=0.0763   valid NLLH=0.0557, NMSE=0.0720  \n"
     ]
    }
   ],
   "source": [
    "regulL2s = [ 0.25, 1, 4, 16, 64, 256]\n",
    "lambdas = [ (l1,l2) for l1 in regulL2s for l2 in regulL2s  ]\n",
    "\n",
    "if not runBenchmarks or dataset != \"small\":\n",
    "    # running only with lambda_1 set to the value giving best results when lambda_2=1,  \n",
    "    #  and setting lambda_2 to lambda_1. \n",
    "    lambdas = [(16,16)] if dataset == \"small\" else [(128,128)] \n",
    "\n",
    "for lambda1,lambda2 in lambdas:\n",
    "    params = AggMRFModelParams(\n",
    "        exactComputation=False,\n",
    "        clicksCfs = \"*&*\",\n",
    "        displaysCfs=\"*&*\",\n",
    "        nbSamples = 50000,\n",
    "        regulL2=lambda2,\n",
    "        regulL2Click = lambda1,\n",
    "        features = features,\n",
    "    )\n",
    "    self = AggMRFModel(aggdata, params)\n",
    "    self.fit(200)\n",
    "    print( f\"MRF l1= {lambda1} l2= {lambda2}\",  \"train\",   Validation.run(self,train) , \"valid\" , Validation.run(self,valid)   )"
   ]
  },
  {
   "cell_type": "code",
   "execution_count": null,
   "metadata": {
    "ExecuteTime": {
     "end_time": "2021-02-11T12:40:43.738685Z",
     "start_time": "2021-02-11T12:40:43.700028Z"
    }
   },
   "outputs": [],
   "source": []
  },
  {
   "cell_type": "markdown",
   "metadata": {
    "ExecuteTime": {
     "end_time": "2021-02-11T12:41:22.419387Z",
     "start_time": "2021-02-11T12:41:22.384374Z"
    }
   },
   "source": [
    "# Learning differential private models"
   ]
  },
  {
   "cell_type": "code",
   "execution_count": 25,
   "metadata": {
    "ExecuteTime": {
     "end_time": "2021-02-11T13:50:36.869976Z",
     "start_time": "2021-02-11T13:50:36.827727Z"
    }
   },
   "outputs": [],
   "source": [
    "epsilons = [10.0 , 1.0 , 0.1]\n",
    "deltas = [ None ,1e-7, 1e-4 ]\n",
    "regulL2s = [4.0, 16, 64, 256, 1024 ]\n",
    "\n",
    "\n",
    "if runBenchmarks == False:\n",
    "    epsilons = [1.0]\n",
    "    deltas = [ None ,1e-7 ]\n",
    "    regulL2s = [ 16, 64 ]\n"
   ]
  },
  {
   "cell_type": "code",
   "execution_count": null,
   "metadata": {
    "ExecuteTime": {
     "end_time": "2021-02-11T12:51:09.157028Z",
     "start_time": "2021-02-11T12:51:09.122758Z"
    }
   },
   "outputs": [],
   "source": []
  },
  {
   "cell_type": "code",
   "execution_count": 26,
   "metadata": {
    "ExecuteTime": {
     "end_time": "2021-02-11T14:03:52.491200Z",
     "start_time": "2021-02-11T13:50:36.871619Z"
    }
   },
   "outputs": [
    {
     "name": "stdout",
     "output_type": "stream",
     "text": [
      "\n",
      "LaplaceMechanism epsilon:1.0  scale:0.03333333333333333 sigma:42.42444274934185\n",
      "\n",
      "MRF(no noise model) l1=16 train NLLH=-0.0899, NMSE=-0.0253   valid NLLH=-0.1095, NMSE=-0.0365  \n",
      "MRF(no noise model) l1=64 train NLLH=-0.0899, NMSE=-0.0253   valid NLLH=-0.1095, NMSE=-0.0364  \n",
      "\n",
      "GaussianMechanism epsilon:1.0 delta:1e-07 sigma:30.226839722275574\n",
      "\n",
      "MRF(no noise model) l1=16 train NLLH=0.0500, NMSE=0.0646   valid NLLH=0.0496, NMSE=0.0641  \n",
      "MRF(no noise model) l1=64 train NLLH=0.0500, NMSE=0.0646   valid NLLH=0.0496, NMSE=0.0641  \n"
     ]
    }
   ],
   "source": [
    "for epsilon in epsilons:\n",
    "    for delta in deltas:\n",
    "        print(\"\")\n",
    "        ## seeding to ensure each algo will run on the same dataset. \n",
    "        # In the article, this was not seeded, but both presented models were trained on the same instance of aggdata \n",
    "        np.random.seed(0)\n",
    "        aggdata = AggDataset.FromDF( train , features, \"*&*\",  label, epsilon0=epsilon, delta=delta )\n",
    "        print(\"\")\n",
    "        params = AggMRFModelParams(\n",
    "            exactComputation=False,\n",
    "            clicksCfs = \"*&*\",\n",
    "            displaysCfs=\"*&*\",\n",
    "            nbSamples = 50000,\n",
    "            regulL2=1.0,\n",
    "            regulL2Click = regulL2,\n",
    "            features = features,\n",
    "            gaussiansigma = 0\n",
    "        )\n",
    "        for regulL2 in regulL2s:\n",
    "            self = AggMRFModel(aggdata, params)\n",
    "            self.fit(200)\n",
    "            print( f\"MRF(no noise model) l1={regulL2}\",  \"train\",   Validation.run(self,train) , \"valid\" , Validation.run(self,valid)   )\n",
    "        "
   ]
  },
  {
   "cell_type": "code",
   "execution_count": 27,
   "metadata": {
    "ExecuteTime": {
     "end_time": "2021-02-11T14:17:10.935884Z",
     "start_time": "2021-02-11T14:03:52.493151Z"
    }
   },
   "outputs": [
    {
     "name": "stdout",
     "output_type": "stream",
     "text": [
      "\n",
      "LaplaceMechanism epsilon:1.0  scale:0.03333333333333333 sigma:42.42444274934185\n",
      "\n",
      "MRF(modeling noise) l1=16 train NLLH=0.0484, NMSE=0.0626   valid NLLH=0.0467, NMSE=0.0605  \n",
      "MRF(modeling noise) l1=64 train NLLH=0.0490, NMSE=0.0632   valid NLLH=0.0488, NMSE=0.0630  \n",
      "\n",
      "GaussianMechanism epsilon:1.0 delta:1e-07 sigma:30.226839722275574\n",
      "\n",
      "MRF(modeling noise) l1=16 train NLLH=0.0497, NMSE=0.0641   valid NLLH=0.0492, NMSE=0.0636  \n",
      "MRF(modeling noise) l1=64 train NLLH=0.0505, NMSE=0.0650   valid NLLH=0.0509, NMSE=0.0657  \n"
     ]
    }
   ],
   "source": [
    "for epsilon in epsilons:\n",
    "    for delta in deltas:\n",
    "        print(\"\")\n",
    "        ## seeding to ensure each algo will run on the same dataset\n",
    "        np.random.seed(0)\n",
    "        aggdata = AggDataset.FromDF( train , features, \"*&*\",  label, epsilon0=epsilon, delta=delta )\n",
    "        print(\"\")\n",
    "        for regulL2 in regulL2s:\n",
    "            params = AggMRFModelParams(\n",
    "                exactComputation=False,\n",
    "                clicksCfs = \"*&*\",\n",
    "                displaysCfs=\"*&*\",\n",
    "                nbSamples = 50000,\n",
    "                regulL2=1.0,\n",
    "                regulL2Click = regulL2,\n",
    "                features = features,\n",
    "                gaussiansigma = aggdata.noiseDistribution.sigma /2\n",
    "            )\n",
    "            self = AggMRFModel(aggdata, params)\n",
    "            self.fit(200)\n",
    "            print( f\"MRF(modeling noise) l1={regulL2}\",  \"train\",   Validation.run(self,train) , \"valid\" , Validation.run(self,valid)   )\n",
    "        "
   ]
  },
  {
   "cell_type": "code",
   "execution_count": null,
   "metadata": {},
   "outputs": [],
   "source": []
  },
  {
   "cell_type": "code",
   "execution_count": null,
   "metadata": {},
   "outputs": [],
   "source": []
  },
  {
   "cell_type": "code",
   "execution_count": null,
   "metadata": {},
   "outputs": [],
   "source": []
  }
 ],
 "metadata": {
  "colab": {
   "collapsed_sections": [],
   "name": "MTC.ipynb",
   "provenance": [],
   "toc_visible": true
  },
  "hide_input": false,
  "kernelspec": {
   "display_name": "aggregated_models_env",
   "language": "python",
   "name": "aggregated_models_env"
  },
  "language_info": {
   "codemirror_mode": {
    "name": "ipython",
    "version": 3
   },
   "file_extension": ".py",
   "mimetype": "text/x-python",
   "name": "python",
   "nbconvert_exporter": "python",
   "pygments_lexer": "ipython3",
   "version": "3.6.8"
  },
  "toc": {
   "base_numbering": 1,
   "nav_menu": {},
   "number_sections": true,
   "sideBar": true,
   "skip_h1_title": false,
   "title_cell": "Table of Contents",
   "title_sidebar": "Contents",
   "toc_cell": false,
   "toc_position": {},
   "toc_section_display": true,
   "toc_window_display": false
  }
 },
 "nbformat": 4,
 "nbformat_minor": 4
}
