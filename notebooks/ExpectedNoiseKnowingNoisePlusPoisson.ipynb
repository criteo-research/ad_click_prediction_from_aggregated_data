{
 "cells": [
  {
   "cell_type": "code",
   "execution_count": null,
   "metadata": {
    "ExecuteTime": {
     "end_time": "2021-01-13T16:25:33.880596Z",
     "start_time": "2021-01-13T16:25:31.877041Z"
    }
   },
   "outputs": [],
   "source": [
    "%load_ext autoreload\n",
    "%load_ext autoreload\n",
    "%autoreload 2\n",
    "import sys\n",
    "sys.path.append(\"../src\")\n",
    "from myimports  import *\n",
    "\n",
    "plt.style.use('ggplot')"
   ]
  },
  {
   "cell_type": "code",
   "execution_count": null,
   "metadata": {
    "ExecuteTime": {
     "end_time": "2021-01-13T16:25:33.903165Z",
     "start_time": "2021-01-13T16:25:33.882485Z"
    }
   },
   "outputs": [],
   "source": [
    "from noiseDistributions import expectedNoise_ByIntegration\n",
    "from noiseDistributions import LaplaceNoise , GaussianNoise"
   ]
  },
  {
   "cell_type": "code",
   "execution_count": null,
   "metadata": {
    "ExecuteTime": {
     "end_time": "2021-01-12T18:59:12.071508Z",
     "start_time": "2021-01-12T18:59:12.048087Z"
    }
   },
   "outputs": [],
   "source": []
  },
  {
   "cell_type": "markdown",
   "metadata": {},
   "source": [
    "### E(N | P+N = x)\n",
    "This notebooks demonstrates estimation of E(N | P+N = x) where:\n",
    "- P is a poisson variable of known parameter\n",
    "- N is a noise with a known distribution, either gaussian or Laplace\n",
    "\n",
    "Motivation: such estimation is used to compute the gradient when fitting a model on noised aggregated data (up to some \"mean field\" approximation).\n",
    "\n",
    "In both cases, I did not find any close formula. Numeric integration can provide a result, but is slow / not always stable (especially when x is large).\n",
    "- in the case of Laplace noise, an approximate close formula seems to work quite well\n",
    "- in the case of Gaussian noise, replacing the expectation by the mode allows fast numeric approximation and seems good enough.\n"
   ]
  },
  {
   "cell_type": "markdown",
   "metadata": {},
   "source": [
    "### Case of Laplace noise\n"
   ]
  },
  {
   "cell_type": "code",
   "execution_count": null,
   "metadata": {
    "ExecuteTime": {
     "end_time": "2021-01-13T16:05:08.471142Z",
     "start_time": "2021-01-13T16:05:08.276640Z"
    }
   },
   "outputs": [],
   "source": [
    "epsilon = 0.2\n",
    "laplaceDistrib = LaplaceNoise(epsilon)\n",
    "s = laplaceDistrib.Sample( 100000 )\n",
    "c = Counter(s)\n",
    "m = 10\n",
    "ks = np.arange(-m,m)\n",
    "plt.plot(ks ,  [ c.get(k)/len(s) for k in ks  ]   , \".\" )\n",
    "plt.plot(ks,  laplaceDistrib.Proba( ks) , \".\" )\n",
    "plt.title( \"Discrete Laplace distribution \" )"
   ]
  },
  {
   "cell_type": "markdown",
   "metadata": {
    "ExecuteTime": {
     "end_time": "2021-01-12T17:18:28.042933Z",
     "start_time": "2021-01-12T17:18:28.020584Z"
    }
   },
   "source": [
    "#### numeric intergration\n",
    "\n",
    "- E(N | Poisson+N = x )  = Sum (  n * P(N=n) * P( Poisson = x-n )  )  /    Sum ( P(N=n) * P( Poisson = x-n )  )\n",
    "- we observe that the Poisson expecation has a \"sigmoid like\" shape when freezing epsilon and  poisson parameter (as a function of P+N)"
   ]
  },
  {
   "cell_type": "code",
   "execution_count": null,
   "metadata": {
    "ExecuteTime": {
     "end_time": "2021-01-13T16:05:22.199205Z",
     "start_time": "2021-01-13T16:05:09.692554Z"
    }
   },
   "outputs": [],
   "source": [
    "for epsilon in [0.2 , 0.4 , 1.0, 2.0]:\n",
    "    noiseDistrib = LaplaceNoise( epsilon )\n",
    "    poissonParam = 100\n",
    "    observedDatas = np.arange( 10,400,10 )\n",
    "    expectedNoise  = np.array ([ expectedNoise_ByIntegration( observedData , poissonParam, noiseDistrib) for observedData in observedDatas ])\n",
    "    plt.plot( observedDatas , observedDatas -expectedNoise   , \"x\" )    "
   ]
  },
  {
   "cell_type": "code",
   "execution_count": null,
   "metadata": {},
   "outputs": [],
   "source": []
  },
  {
   "cell_type": "markdown",
   "metadata": {},
   "source": [
    "Shape observed above suggest a piece-wise affine approx with 3 pieces.\n",
    "This graph shows that the approximation seems not too far."
   ]
  },
  {
   "cell_type": "code",
   "execution_count": null,
   "metadata": {
    "ExecuteTime": {
     "end_time": "2021-01-12T19:02:13.879806Z",
     "start_time": "2021-01-12T19:01:58.431330Z"
    }
   },
   "outputs": [],
   "source": [
    "for epsilon in [0.2 , 0.4 , 1.0, 2.0]:\n",
    "    noiseDistrib = LaplaceNoise( epsilon )\n",
    "\n",
    "    poissonParam = 100\n",
    "    observedDatas = np.arange( 10,400,10 )\n",
    "    expectedNoise  = np.array ([ expectedNoise_ByIntegration( observedData , poissonParam, noiseDistrib) for observedData in observedDatas ])\n",
    "    plt.plot( observedDatas , observedDatas -expectedNoise   , \"xk\" )  \n",
    "    \n",
    "    expectedNoise = noiseDistrib.expectedNoiseApprox(observedDatas, poissonParam) \n",
    "    plt.plot( observedDatas , observedDatas -expectedNoise   , \"xr\" )  "
   ]
  },
  {
   "cell_type": "code",
   "execution_count": null,
   "metadata": {
    "ExecuteTime": {
     "end_time": "2021-01-12T19:02:26.435134Z",
     "start_time": "2021-01-12T19:02:13.882108Z"
    }
   },
   "outputs": [],
   "source": [
    " for epsilon in [0.2 , 0.4 , 1.0, 2.0]:\n",
    "    noiseDistrib = LaplaceNoise( epsilon )\n",
    "\n",
    "    poissonParam = 5.0\n",
    "    observedDatas = np.arange( -10,20  )\n",
    "    expectedNoise  = np.array ([ expectedNoise_ByIntegration( observedData , poissonParam, noiseDistrib) for observedData in observedDatas ])\n",
    "    plt.plot( observedDatas , observedDatas -expectedNoise   , \"xk\" )  \n",
    "    \n",
    "    expectedNoise = noiseDistrib.expectedNoiseApprox(observedDatas, poissonParam) \n",
    "    plt.plot( observedDatas , observedDatas -expectedNoise   , \"xr\" )      "
   ]
  },
  {
   "cell_type": "code",
   "execution_count": null,
   "metadata": {},
   "outputs": [],
   "source": []
  },
  {
   "cell_type": "markdown",
   "metadata": {},
   "source": [
    "### Case of Gaussian noise"
   ]
  },
  {
   "cell_type": "code",
   "execution_count": null,
   "metadata": {
    "ExecuteTime": {
     "end_time": "2021-01-12T19:02:41.368319Z",
     "start_time": "2021-01-12T19:02:26.438300Z"
    }
   },
   "outputs": [],
   "source": [
    "poissonParam = 100\n",
    "observedDatas = np.arange( 10,400,10 )\n",
    "    \n",
    "for sigma in [30.0 , 10.0 , 5.0 , 1.0, ]:\n",
    "    noiseDistrib = GaussianNoise( sigma )\n",
    "    expectedNoise  = np.array ([ expectedNoise_ByIntegration( observedData , poissonParam, noiseDistrib) for observedData in observedDatas ])\n",
    "    plt.plot( observedDatas , observedDatas -expectedNoise   , \"xk\" )  \n",
    "    expectedNoise = noiseDistrib.expectedNoiseApprox(observedDatas, poissonParam) \n",
    "    plt.plot( observedDatas , observedDatas -expectedNoise   , \"xr\" )\n",
    "    "
   ]
  },
  {
   "cell_type": "code",
   "execution_count": null,
   "metadata": {
    "ExecuteTime": {
     "end_time": "2021-01-12T19:02:53.082070Z",
     "start_time": "2021-01-12T19:02:41.370786Z"
    }
   },
   "outputs": [],
   "source": [
    "poissonParam = 5.0\n",
    "observedDatas = np.arange( -10, 20 )\n",
    "\n",
    "for sigma in [30.0 , 10.0 , 5.0 , 1.0, ]:\n",
    "    noiseDistrib = GaussianNoise( sigma )\n",
    "    expectedNoise  = np.array ([ expectedNoise_ByIntegration( observedData , poissonParam, noiseDistrib) for observedData in observedDatas ])\n",
    "    plt.plot( observedDatas , observedDatas -expectedNoise   , \"xk\" )  \n",
    "    expectedNoise = noiseDistrib.expectedNoiseApprox(observedDatas, poissonParam) \n",
    "    plt.plot( observedDatas , observedDatas -expectedNoise   , \"xr\" )"
   ]
  },
  {
   "cell_type": "code",
   "execution_count": null,
   "metadata": {
    "ExecuteTime": {
     "end_time": "2021-01-12T18:35:37.787850Z",
     "start_time": "2021-01-12T18:35:37.762916Z"
    }
   },
   "outputs": [],
   "source": []
  },
  {
   "cell_type": "code",
   "execution_count": null,
   "metadata": {
    "ExecuteTime": {
     "end_time": "2021-01-13T16:07:20.958568Z",
     "start_time": "2021-01-13T16:07:19.169534Z"
    }
   },
   "outputs": [],
   "source": []
  }
 ],
 "metadata": {
  "colab": {
   "collapsed_sections": [],
   "name": "MTC.ipynb",
   "provenance": [],
   "toc_visible": true
  },
  "hide_input": false,
  "kernelspec": {
   "display_name": "Python Criteo",
   "language": "python",
   "name": "python-mozart"
  },
  "language_info": {
   "codemirror_mode": {
    "name": "ipython",
    "version": 3
   },
   "file_extension": ".py",
   "mimetype": "text/x-python",
   "name": "python",
   "nbconvert_exporter": "python",
   "pygments_lexer": "ipython3",
   "version": "3.6.8"
  },
  "toc": {
   "base_numbering": 1,
   "nav_menu": {},
   "number_sections": true,
   "sideBar": true,
   "skip_h1_title": false,
   "title_cell": "Table of Contents",
   "title_sidebar": "Contents",
   "toc_cell": false,
   "toc_position": {},
   "toc_section_display": true,
   "toc_window_display": false
  }
 },
 "nbformat": 4,
 "nbformat_minor": 4
}