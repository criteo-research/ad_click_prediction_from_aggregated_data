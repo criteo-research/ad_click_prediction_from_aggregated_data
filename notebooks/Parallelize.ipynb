{
 "cells": [
  {
   "cell_type": "code",
   "execution_count": null,
   "metadata": {
    "ExecuteTime": {
     "end_time": "2021-03-10T14:58:04.609479Z",
     "start_time": "2021-03-10T14:58:02.907483Z"
    }
   },
   "outputs": [],
   "source": [
    "%load_ext autoreload\n",
    "%autoreload 2\n",
    "import sys\n",
    "from aggregated_models.myimports  import *\n",
    "# import aggregated_models.myJupyterUtils as myJupyterUtils ## Remove stacktraces on Keyboardinterupt\n",
    "plt.style.use('ggplot')\n",
    "\n",
    "from datetime import date\n",
    "\n",
    "# helpers to compute metrics\n",
    "from aggregated_models.validation import MetricsComputer,  LLH  \n",
    "\n",
    "# baselines\n",
    "from aggregated_models.basicmodels import LogisticModel, NaiveBayesModel, LogisticModelWithCF \n",
    "from aggregated_models.aggLogistic import AggLogistic\n",
    "\n",
    "# loading public \"criteo attribution dataset\"\n",
    "import aggregated_models.loaddata as loaddata"
   ]
  },
  {
   "cell_type": "code",
   "execution_count": null,
   "metadata": {},
   "outputs": [],
   "source": [
    "%matplotlib inline"
   ]
  },
  {
   "cell_type": "code",
   "execution_count": null,
   "metadata": {
    "ExecuteTime": {
     "end_time": "2021-03-10T14:58:04.630044Z",
     "start_time": "2021-03-10T14:58:04.610705Z"
    }
   },
   "outputs": [],
   "source": [
    "# code to prepare the aggregated dataset\n",
    "from aggregated_models.aggdataset import AggDataset "
   ]
  },
  {
   "cell_type": "code",
   "execution_count": null,
   "metadata": {
    "ExecuteTime": {
     "end_time": "2021-03-10T14:58:04.646507Z",
     "start_time": "2021-03-10T14:58:04.631250Z"
    }
   },
   "outputs": [],
   "source": [
    "## Most relevant code is there:\n",
    "from aggregated_models.agg_mrf_model import AggMRFModel, fastGibbsSample, fastGibbsSampleFromPY0\n",
    "import aggregated_models.agg_mrf_model\n",
    "# also in https://gitlab.criteois.com/a.gilotte/aggdata/-/blob/master/src/baseaggmodel.py"
   ]
  },
  {
   "cell_type": "code",
   "execution_count": null,
   "metadata": {},
   "outputs": [],
   "source": [
    "import thx.hadoop.hdfs_cache as hdfs\n",
    "from thx.hadoop.spark_config_builder import create_remote_spark_session, SparkSession\n",
    "import pyspark\n",
    "from pyspark.sql import functions as F\n",
    "from thx.datasources.parquet import create_df_from_parquet\n",
    "from datetime import datetime, timedelta\n",
    "import os"
   ]
  },
  {
   "cell_type": "code",
   "execution_count": null,
   "metadata": {},
   "outputs": [],
   "source": [
    "ss = create_remote_spark_session('Test Spark parallelize', 20, 1, memory='4g', memoryOverhead='2g', driver_memory='12g', hadoop_file_systems=['viewfs://root', 'viewfs://prod-am6'])\n",
    "ss"
   ]
  },
  {
   "cell_type": "markdown",
   "metadata": {
    "colab_type": "text",
    "id": "OWC5yFQ-0BIB"
   },
   "source": [
    "## Download Data\n",
    "- downloading criteo-research-attribution-dataset\n",
    "- from url http://go.criteo.net"
   ]
  },
  {
   "cell_type": "code",
   "execution_count": null,
   "metadata": {
    "ExecuteTime": {
     "end_time": "2021-03-10T14:58:07.104991Z",
     "start_time": "2021-03-10T14:58:07.086941Z"
    }
   },
   "outputs": [],
   "source": [
    "#loaddata.download_dataset()"
   ]
  },
  {
   "cell_type": "markdown",
   "metadata": {},
   "source": [
    "## Loading data\n",
    "3 versions of the dataset are used for experiments: \"small\" , \"sampled\" and \"full\"\n",
    "- \"full\" has 11 features with about 16M samples\n",
    "- \"sampled\" has the same 11 features, but only 160k samples\n",
    "- \"small\" also has 160k samples, but only the 5 features with lowest modalities count, and allow for fast experiments."
   ]
  },
  {
   "cell_type": "code",
   "execution_count": null,
   "metadata": {
    "ExecuteTime": {
     "end_time": "2021-03-10T14:58:10.537799Z",
     "start_time": "2021-03-10T14:58:10.522197Z"
    }
   },
   "outputs": [],
   "source": [
    "# dataset= \"small_tb\" # fast expriments\n",
    "# dataset= \"medium_tb\" # fast expriments\n",
    "# dataset= \"sampled\" # fast expriments\n",
    "dataset= \"small\" # fast expriments\n",
    "# dataset= \"sampled\" # Training a MRF may require 5h and 16Go data\n",
    "# dataset= \"full\"  # Training a MRF may require 32Go, and several days"
   ]
  },
  {
   "cell_type": "code",
   "execution_count": null,
   "metadata": {
    "ExecuteTime": {
     "end_time": "2021-03-10T14:58:13.645407Z",
     "start_time": "2021-03-10T14:58:10.842990Z"
    }
   },
   "outputs": [],
   "source": [
    "train, valid, features, label = loaddata.getDataset(dataset)"
   ]
  },
  {
   "cell_type": "code",
   "execution_count": null,
   "metadata": {},
   "outputs": [],
   "source": [
    "features"
   ]
  },
  {
   "cell_type": "code",
   "execution_count": null,
   "metadata": {},
   "outputs": [],
   "source": [
    "label"
   ]
  },
  {
   "cell_type": "code",
   "execution_count": null,
   "metadata": {
    "ExecuteTime": {
     "end_time": "2021-03-10T14:58:13.665499Z",
     "start_time": "2021-03-10T14:58:13.646870Z"
    }
   },
   "outputs": [],
   "source": [
    "fids = [-60029,-60036,-60040,-60042,-60049,-160020]"
   ]
  },
  {
   "cell_type": "code",
   "execution_count": null,
   "metadata": {
    "ExecuteTime": {
     "end_time": "2021-03-10T14:58:13.681098Z",
     "start_time": "2021-03-10T14:58:13.666726Z"
    }
   },
   "outputs": [],
   "source": [
    "crosses = [ f\"{f}&{g}\" for i,f in enumerate(fids) for j,g in enumerate(fids) if i > j]"
   ]
  },
  {
   "cell_type": "code",
   "execution_count": null,
   "metadata": {
    "ExecuteTime": {
     "end_time": "2021-03-10T14:58:13.757565Z",
     "start_time": "2021-03-10T14:58:13.741176Z"
    }
   },
   "outputs": [],
   "source": [
    "len(crosses)"
   ]
  },
  {
   "cell_type": "code",
   "execution_count": null,
   "metadata": {
    "ExecuteTime": {
     "end_time": "2021-03-10T14:58:13.912023Z",
     "start_time": "2021-03-10T14:58:13.896974Z"
    }
   },
   "outputs": [],
   "source": [
    "'|'.join(crosses)"
   ]
  },
  {
   "cell_type": "code",
   "execution_count": null,
   "metadata": {
    "ExecuteTime": {
     "end_time": "2021-03-10T14:58:14.075633Z",
     "start_time": "2021-03-10T14:58:14.061289Z"
    }
   },
   "outputs": [],
   "source": [
    "Validation = MetricsComputer(label)"
   ]
  },
  {
   "cell_type": "code",
   "execution_count": null,
   "metadata": {
    "ExecuteTime": {
     "end_time": "2021-03-10T14:58:14.232939Z",
     "start_time": "2021-03-10T14:58:14.216582Z"
    }
   },
   "outputs": [],
   "source": [
    "train.dtypes"
   ]
  },
  {
   "cell_type": "code",
   "execution_count": null,
   "metadata": {
    "ExecuteTime": {
     "end_time": "2021-03-10T14:58:14.850248Z",
     "start_time": "2021-03-10T14:58:14.369006Z"
    }
   },
   "outputs": [],
   "source": [
    "for f in features:\n",
    "    nbModalities = len(set(train[f].values))\n",
    "    print( f\"feature {f} has {nbModalities} distinct modalities\" )"
   ]
  },
  {
   "cell_type": "markdown",
   "metadata": {},
   "source": [
    "## Preparing Aggregated data\n",
    "\n",
    "- aggdata contains projections of number of displays and clicks along each pair of feature\n",
    "- may also add some noise to make it differential private\n",
    "- the goal is to learn a model predicting Proba( label | features) using *only* those aggdata."
   ]
  },
  {
   "cell_type": "code",
   "execution_count": null,
   "metadata": {
    "ExecuteTime": {
     "end_time": "2021-03-10T14:58:16.281216Z",
     "start_time": "2021-03-10T14:58:16.265527Z"
    }
   },
   "outputs": [],
   "source": [
    "# parameters for of the privacy protecting noise.\n",
    "epsilon = None  # Set to None to get no noise.\n",
    "delta = None "
   ]
  },
  {
   "cell_type": "code",
   "execution_count": null,
   "metadata": {
    "ExecuteTime": {
     "end_time": "2021-03-10T14:58:35.075298Z",
     "start_time": "2021-03-10T14:58:16.477135Z"
    }
   },
   "outputs": [],
   "source": [
    "aggdata = AggDataset( train , features, \"*&*\",  label, epsilon, delta, maxNbModalities=10000)\n",
    "\n",
    "#https://gitlab.criteois.com/a.gilotte/aggdata/-/blob/master/src/featuremappings.py#L205"
   ]
  },
  {
   "cell_type": "code",
   "execution_count": null,
   "metadata": {
    "ExecuteTime": {
     "end_time": "2021-03-10T14:58:35.096088Z",
     "start_time": "2021-03-10T14:58:35.076835Z"
    }
   },
   "outputs": [],
   "source": [
    "print( f\" Label: {aggdata.label}\")\n",
    "print( f\" Nb Queries: {len(aggdata.aggDisplays)}\")\n",
    "print( f\" Noise distribution: {aggdata.noiseDistribution}\" )"
   ]
  },
  {
   "cell_type": "code",
   "execution_count": null,
   "metadata": {
    "ExecuteTime": {
     "end_time": "2021-03-10T14:58:35.151323Z",
     "start_time": "2021-03-10T14:58:35.097366Z"
    }
   },
   "outputs": [],
   "source": [
    "# aggdata may be viewed as a dictionary queryname -> dataframe\n",
    "aggdata_datframe_dico = aggdata.toDFs()\n",
    "queries = [x for x in aggdata_datframe_dico.keys()]\n",
    "print( f\"list of queries {queries}\" )"
   ]
  },
  {
   "cell_type": "code",
   "execution_count": null,
   "metadata": {
    "ExecuteTime": {
     "end_time": "2021-03-10T14:58:35.176277Z",
     "start_time": "2021-03-10T14:58:35.152487Z"
    }
   },
   "outputs": [],
   "source": [
    "# Dataframe for the query  \" select 'cat1', 'cat8' , count, sum(label) group by 'cat1', 'cat8' \"\n",
    "aggdata_datframe_dico[queries[-3]].sample(3)"
   ]
  },
  {
   "cell_type": "code",
   "execution_count": null,
   "metadata": {
    "ExecuteTime": {
     "end_time": "2021-03-10T14:58:35.191234Z",
     "start_time": "2021-03-10T14:58:35.177237Z"
    }
   },
   "outputs": [],
   "source": [
    "aggdata.aggDisplays\n",
    "\n",
    "# Dictionary of projections "
   ]
  },
  {
   "cell_type": "code",
   "execution_count": null,
   "metadata": {
    "ExecuteTime": {
     "start_time": "2021-03-10T15:54:26.912Z"
    }
   },
   "outputs": [],
   "source": [
    "\"\"\"\n",
    "regulL2 = 16\n",
    "logisticCfs = LogisticModelWithCF(label , features, \"*&*\"  , train ,\n",
    "                                       hashspace=2**22 , lambdaL2 = regulL2  )\n",
    "\"\"\""
   ]
  },
  {
   "cell_type": "code",
   "execution_count": null,
   "metadata": {
    "ExecuteTime": {
     "start_time": "2021-03-10T15:54:26.912Z"
    }
   },
   "outputs": [],
   "source": [
    "\"\"\"\n",
    "logisticCfs.fit( train )\n",
    "print( f\"Logistic(*&*), l2:{regulL2}\" ,  \"train\",  Validation.run(logisticCfs,train) , \"valid\" , Validation.run(logisticCfs,valid)   )\n",
    "\"\"\""
   ]
  },
  {
   "cell_type": "markdown",
   "metadata": {},
   "source": [
    "##### logistic Regression from aggregated clicks and full display data (quadratic kernell)\n",
    " - same performances as \"standard\" logistic regression\n",
    " - but still using full display data, so not really usefull"
   ]
  },
  {
   "cell_type": "code",
   "execution_count": null,
   "metadata": {
    "ExecuteTime": {
     "end_time": "2021-03-10T15:38:45.762551Z",
     "start_time": "2021-03-10T15:30:58.183620Z"
    }
   },
   "outputs": [],
   "source": [
    "\"\"\"\n",
    "regulL2 = 16\n",
    "logisticCfs = AggLogistic(  aggdata , features, clicksCfs = \"*&*\" , regulL2=regulL2 )\n",
    "\"\"\""
   ]
  },
  {
   "cell_type": "code",
   "execution_count": null,
   "metadata": {
    "ExecuteTime": {
     "end_time": "2021-03-10T15:38:45.762551Z",
     "start_time": "2021-03-10T15:30:58.183620Z"
    }
   },
   "outputs": [],
   "source": [
    "\"\"\"logisticCfs.fit( train[features] , nbIter = 200 )\n",
    "print( f\"Logistic(*&*), l2:{regulL2}\" ,  \"train\",  Validation.run(logisticCfs,train) , \"valid\" , Validation.run(logisticCfs,valid)   )\n",
    "\"\"\""
   ]
  },
  {
   "cell_type": "markdown",
   "metadata": {},
   "source": [
    "##### Proposed MRF model\n",
    "- uses only aggregated data\n",
    "- almost retrieves logitic performances"
   ]
  },
  {
   "cell_type": "code",
   "execution_count": null,
   "metadata": {
    "ExecuteTime": {
     "end_time": "2021-03-10T15:09:05.630518Z",
     "start_time": "2021-03-10T15:09:04.461246Z"
    }
   },
   "outputs": [],
   "source": [
    "regulL2 = 16\n",
    "nbSamples = 10000\n",
    "nbIter = 50"
   ]
  },
  {
   "cell_type": "code",
   "execution_count": null,
   "metadata": {},
   "outputs": [],
   "source": [
    "ss.sparkContext.setCheckpointDir(\"viewfs://prod-am6/tmp/j.rioufougeras/load/\")"
   ]
  },
  {
   "cell_type": "code",
   "execution_count": null,
   "metadata": {},
   "outputs": [],
   "source": [
    "memMrf = AggMRFModel( aggdata,\n",
    "                    features , \n",
    "                    exactComputation=False ,  ## Using Gibbs Sampling.  actualy exact=True is broken in latest code\n",
    "                    clicksCfs = \"*&*\", ## crossfeatures used by P(Y|X) part of the model\n",
    "                    displaysCfs=\"*&*\", ## crossfeatures used by P(X) part of the model. Here, all pairs + all single .\n",
    "                    nbSamples = nbSamples, ## Nb Gibbs samples to estimate gradient\n",
    "                    regulL2=1.0 ,  ## parmeter \"lambda_2\"\n",
    "                    regulL2Click = regulL2,  ## parmeter \"lambda_1\" \n",
    "                    sampleFromPY0 = True,\n",
    "                    maxNbRowsperGibbsUpdate = 500\n",
    "                  )"
   ]
  },
  {
   "cell_type": "code",
   "execution_count": null,
   "metadata": {},
   "outputs": [],
   "source": [
    "memMrf.fit(nbIter,0.05)"
   ]
  },
  {
   "cell_type": "code",
   "execution_count": null,
   "metadata": {},
   "outputs": [],
   "source": [
    "print( f\"MRF\" ,  \"train\",  Validation.run(memMrf,train) , \"valid\" , Validation.run(memMrf,valid)   )"
   ]
  },
  {
   "cell_type": "code",
   "execution_count": null,
   "metadata": {},
   "outputs": [],
   "source": [
    "rddMrf = AggMRFModel( aggdata,\n",
    "                    features , \n",
    "                    exactComputation=False ,  ## Using Gibbs Sampling.  actualy exact=True is broken in latest code\n",
    "                    clicksCfs = \"*&*\", ## crossfeatures used by P(Y|X) part of the model\n",
    "                    displaysCfs=\"*&*\", ## crossfeatures used by P(X) part of the model. Here, all pairs + all single .\n",
    "                    nbSamples = nbSamples, ## Nb Gibbs samples to estimate gradient\n",
    "                    regulL2=1.0 ,  ## parmeter \"lambda_2\"\n",
    "                    regulL2Click = regulL2,  ## parmeter \"lambda_1\" \n",
    "                    sampleFromPY0 = True,\n",
    "                    maxNbRowsperGibbsUpdate = 1,\n",
    "                    sparkSession = ss\n",
    "                  )"
   ]
  },
  {
   "cell_type": "code",
   "execution_count": null,
   "metadata": {},
   "outputs": [],
   "source": [
    "rddMrf.fit(nbIter,0.05)"
   ]
  },
  {
   "cell_type": "code",
   "execution_count": null,
   "metadata": {},
   "outputs": [],
   "source": [
    "print( f\"MRF\" ,  \"train\",  Validation.run(rddMrf,train) , \"valid\" , Validation.run(rddMrf,valid)   )"
   ]
  },
  {
   "cell_type": "code",
   "execution_count": null,
   "metadata": {},
   "outputs": [],
   "source": [
    "rddMrf.samples.PredictInternal(rddMrf)"
   ]
  },
  {
   "cell_type": "code",
   "execution_count": null,
   "metadata": {},
   "outputs": [],
   "source": [
    "rdd_pred = rddMrf.samples.prediction"
   ]
  },
  {
   "cell_type": "code",
   "execution_count": null,
   "metadata": {},
   "outputs": [],
   "source": [
    "rddMrf.samples = memMrf.buildSamplesSetFromSampleRdd(rddMrf.samples)\n",
    "rddMrf.samples.PredictInternal(rddMrf)\n",
    "mem_pred = rddMrf.samples.prediction"
   ]
  },
  {
   "cell_type": "code",
   "execution_count": null,
   "metadata": {},
   "outputs": [],
   "source": [
    "(rdd_pred-mem_pred).max()"
   ]
  },
  {
   "cell_type": "code",
   "execution_count": null,
   "metadata": {},
   "outputs": [],
   "source": []
  }
 ],
 "metadata": {
  "colab": {
   "collapsed_sections": [],
   "name": "MTC.ipynb",
   "provenance": [],
   "toc_visible": true
  },
  "hide_input": false,
  "kernelspec": {
   "display_name": "aggregate_models",
   "language": "python",
   "name": "aggregate_models"
  },
  "language_info": {
   "codemirror_mode": {
    "name": "ipython",
    "version": 3
   },
   "file_extension": ".py",
   "mimetype": "text/x-python",
   "name": "python",
   "nbconvert_exporter": "python",
   "pygments_lexer": "ipython3",
   "version": "3.6.8"
  },
  "toc": {
   "base_numbering": 1,
   "nav_menu": {},
   "number_sections": true,
   "sideBar": true,
   "skip_h1_title": false,
   "title_cell": "Table of Contents",
   "title_sidebar": "Contents",
   "toc_cell": false,
   "toc_position": {},
   "toc_section_display": true,
   "toc_window_display": false
  }
 },
 "nbformat": 4,
 "nbformat_minor": 4
}
