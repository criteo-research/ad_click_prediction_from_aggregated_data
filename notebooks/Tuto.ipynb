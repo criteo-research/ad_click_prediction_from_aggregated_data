{
 "cells": [
  {
   "cell_type": "code",
   "execution_count": null,
   "metadata": {
    "ExecuteTime": {
     "end_time": "2021-02-18T18:42:54.511590Z",
     "start_time": "2021-02-18T18:42:54.487289Z"
    }
   },
   "outputs": [],
   "source": [
    "%load_ext autoreload\n",
    "%autoreload 2\n",
    "import sys\n",
    "sys.path.append(\"../src\")\n",
    "from aggregated_models.myimports  import *\n",
    "from aggregated_models import myJupyterUtils ## Remove stacktraces on Keyboardinterupt\n",
    "plt.style.use('ggplot')\n",
    "\n",
    "# helpers to compute metrics\n",
    "from aggregated_models.validation import MetricsComputer,  LLH  \n",
    "Validation = MetricsComputer(\"click\")\n",
    "\n",
    "# baselines\n",
    "from aggregated_models.basicmodels import LogisticModel, NaiveBayesModel, LogisticModelWithCF \n",
    "from aggregated_models.aggLogistic import AggLogistic\n",
    "\n",
    "# loading public \"criteo attribution dataset\"\n",
    "from aggregated_models import loaddata  "
   ]
  },
  {
   "cell_type": "code",
   "execution_count": null,
   "metadata": {
    "ExecuteTime": {
     "end_time": "2021-02-18T18:42:55.081220Z",
     "start_time": "2021-02-18T18:42:55.062231Z"
    }
   },
   "outputs": [],
   "source": [
    "# code to prepare the aggregated dataset\n",
    "from aggregated_models.aggdataset import AggDataset "
   ]
  },
  {
   "cell_type": "code",
   "execution_count": null,
   "metadata": {
    "ExecuteTime": {
     "end_time": "2021-02-18T18:42:55.652642Z",
     "start_time": "2021-02-18T18:42:55.633580Z"
    }
   },
   "outputs": [],
   "source": [
    "## Most relevant code is there:\n",
    "from aggregated_models.agg_mrf_model import AggMRFModel\n",
    "import aggregated_models.agg_mrf_model\n",
    "# also in https://gitlab.criteois.com/a.gilotte/aggdata/-/blob/master/src/baseaggmodel.py"
   ]
  },
  {
   "cell_type": "markdown",
   "metadata": {
    "colab_type": "text",
    "id": "OWC5yFQ-0BIB"
   },
   "source": [
    "## Download Data\n",
    "- downloading criteo-research-attribution-dataset\n",
    "- from url http://go.criteo.net"
   ]
  },
  {
   "cell_type": "code",
   "execution_count": null,
   "metadata": {
    "ExecuteTime": {
     "end_time": "2021-02-18T18:42:56.667299Z",
     "start_time": "2021-02-18T18:42:56.650111Z"
    }
   },
   "outputs": [],
   "source": [
    "#loaddata.download_dataset()"
   ]
  },
  {
   "cell_type": "markdown",
   "metadata": {},
   "source": [
    "## Loading data\n",
    "3 versions of the dataset are used for experiments: \"small\" , \"sampled\" and \"full\"\n",
    "- \"full\" has 11 features with about 16M samples\n",
    "- \"sampled\" has the same 11 features, but only 160k samples\n",
    "- \"small\" also has 160k samples, but only the 5 features with lowest modalities count, and allow for fast experiments."
   ]
  },
  {
   "cell_type": "code",
   "execution_count": null,
   "metadata": {
    "ExecuteTime": {
     "end_time": "2021-02-18T18:42:58.435507Z",
     "start_time": "2021-02-18T18:42:58.419894Z"
    }
   },
   "outputs": [],
   "source": [
    "dataset = \"small\" # fast expriments\n",
    "# dataset= \"sampled\" # Training a MRF may require 5h and 16Go data\n",
    "# dataset= \"full\"  # Training a MRF may require 32Go, and several days"
   ]
  },
  {
   "cell_type": "code",
   "execution_count": null,
   "metadata": {
    "ExecuteTime": {
     "end_time": "2021-02-18T18:43:19.417820Z",
     "start_time": "2021-02-18T18:42:59.501649Z"
    }
   },
   "outputs": [],
   "source": [
    "train, valid, features, label = loaddata.getDataset(dataset)"
   ]
  },
  {
   "cell_type": "code",
   "execution_count": null,
   "metadata": {},
   "outputs": [],
   "source": []
  },
  {
   "cell_type": "code",
   "execution_count": null,
   "metadata": {
    "ExecuteTime": {
     "end_time": "2021-02-18T18:43:19.455854Z",
     "start_time": "2021-02-18T18:43:19.419191Z"
    }
   },
   "outputs": [],
   "source": [
    "train.sample(2)"
   ]
  },
  {
   "cell_type": "code",
   "execution_count": null,
   "metadata": {
    "ExecuteTime": {
     "end_time": "2021-02-18T18:43:19.527168Z",
     "start_time": "2021-02-18T18:43:19.457010Z"
    }
   },
   "outputs": [],
   "source": [
    "for f in features:\n",
    "    nbModalities = len(set(train[f].values))\n",
    "    print( f\"feature {f} has {nbModalities} distinct modalities\" )"
   ]
  },
  {
   "cell_type": "markdown",
   "metadata": {},
   "source": [
    "## Preparing Aggregated data\n",
    "\n",
    "- aggdata contains projections of number of displays and clicks along each pair of feature\n",
    "- may also add some noise to make it differential private\n",
    "- the goal is to learn a model predicting Proba( label | features) using *only* those aggdata."
   ]
  },
  {
   "cell_type": "code",
   "execution_count": null,
   "metadata": {
    "ExecuteTime": {
     "end_time": "2021-02-18T18:43:19.543770Z",
     "start_time": "2021-02-18T18:43:19.528208Z"
    }
   },
   "outputs": [],
   "source": [
    "# parameters for of the privacy protecting noise.\n",
    "epsilon = None  # Set to None to get no noise.\n",
    "delta = None "
   ]
  },
  {
   "cell_type": "code",
   "execution_count": null,
   "metadata": {
    "ExecuteTime": {
     "end_time": "2021-02-18T18:43:20.429230Z",
     "start_time": "2021-02-18T18:43:19.544768Z"
    }
   },
   "outputs": [],
   "source": [
    "aggdata = AggDataset( train , features, \"*&*\",  label, epsilon, delta )\n",
    "\n",
    "#https://gitlab.criteois.com/a.gilotte/aggdata/-/blob/master/src/featuremappings.py#L205"
   ]
  },
  {
   "cell_type": "code",
   "execution_count": null,
   "metadata": {
    "ExecuteTime": {
     "end_time": "2021-02-18T18:43:20.451479Z",
     "start_time": "2021-02-18T18:43:20.430426Z"
    }
   },
   "outputs": [],
   "source": [
    "print( f\" Nb Queries: {len(aggdata.aggDisplays)}\")\n",
    "print( f\" Noise distribution: {aggdata.noiseDistribution}\" )"
   ]
  },
  {
   "cell_type": "code",
   "execution_count": null,
   "metadata": {
    "ExecuteTime": {
     "end_time": "2021-02-18T18:43:20.495154Z",
     "start_time": "2021-02-18T18:43:20.452623Z"
    }
   },
   "outputs": [],
   "source": [
    "# aggdata may be viewed as a dictionary queryname -> dataframe\n",
    "aggdata_datframe_dico = aggdata.toDFs()\n",
    "queries = [x for x in aggdata_datframe_dico.keys()]\n",
    "print( f\"list of queries {queries}\" )"
   ]
  },
  {
   "cell_type": "code",
   "execution_count": null,
   "metadata": {
    "ExecuteTime": {
     "end_time": "2021-02-18T18:43:20.518550Z",
     "start_time": "2021-02-18T18:43:20.496504Z"
    }
   },
   "outputs": [],
   "source": [
    "# Dataframe for the query  \" select 'cat1', 'cat8' , count, sum(label) group by 'cat1', 'cat8' \"\n",
    "aggdata_datframe_dico[\"cat1&cat8\"].sample(3)"
   ]
  },
  {
   "cell_type": "code",
   "execution_count": null,
   "metadata": {
    "ExecuteTime": {
     "end_time": "2021-02-18T18:43:20.540186Z",
     "start_time": "2021-02-18T18:43:20.519639Z"
    }
   },
   "outputs": [],
   "source": [
    "aggdata.aggDisplays\n",
    "\n",
    "# Dictionary of projections "
   ]
  },
  {
   "cell_type": "code",
   "execution_count": null,
   "metadata": {
    "ExecuteTime": {
     "end_time": "2021-02-18T18:43:20.560027Z",
     "start_time": "2021-02-18T18:43:20.541189Z"
    }
   },
   "outputs": [],
   "source": [
    "aggdata.aggDisplays[\"cat8&cat9\"]"
   ]
  },
  {
   "cell_type": "code",
   "execution_count": null,
   "metadata": {
    "ExecuteTime": {
     "end_time": "2021-02-18T18:43:20.579383Z",
     "start_time": "2021-02-18T18:43:20.561068Z"
    }
   },
   "outputs": [],
   "source": [
    "aggdata.aggDisplays[\"cat8\"].Data\n",
    "\n",
    "# a \"projection\" contains counts stored in an array. \n",
    "# there is dictionary modality -> index in array"
   ]
  },
  {
   "cell_type": "code",
   "execution_count": null,
   "metadata": {
    "ExecuteTime": {
     "end_time": "2021-02-18T18:43:20.598675Z",
     "start_time": "2021-02-18T18:43:20.580352Z"
    }
   },
   "outputs": [],
   "source": [
    "# dico is stored in this class:\n",
    "aggdata.aggDisplays[\"cat8&cat9\"].feature\n",
    "##https://gitlab.criteois.com/a.gilotte/aggdata/-/blob/master/src/featuremappings.py#L32\n",
    "\n",
    "# Each modality of \"cat8\" found in train was assigned an id, from 0 to NbCat8-1.  \n",
    "# At index NbCat8, it is the count for the modality \" Not found in train\".  (But maybe in valid )"
   ]
  },
  {
   "cell_type": "code",
   "execution_count": null,
   "metadata": {},
   "outputs": [],
   "source": []
  },
  {
   "cell_type": "code",
   "execution_count": null,
   "metadata": {
    "ExecuteTime": {
     "end_time": "2021-02-18T18:43:27.581075Z",
     "start_time": "2021-02-18T18:43:27.552713Z"
    }
   },
   "outputs": [],
   "source": [
    "df = train.sample(4).copy()\n",
    "## changing initial modality by index\n",
    "aggdata.aggDisplays[\"cat8\"].feature.Map( df ) ## replacing modalities of cat8 by modalities from 1 to NbCat8\n",
    "aggdata.aggDisplays[\"cat9\"].feature.Map( df )\n",
    "\n",
    "aggdata.aggDisplays[\"cat8&cat9\"].feature.Map( df ) ##  cat8&cat9 = cat8 + nbCat8 * cat9    (Or is i the opposite ?)"
   ]
  },
  {
   "cell_type": "code",
   "execution_count": null,
   "metadata": {
    "ExecuteTime": {
     "end_time": "2021-02-15T20:00:16.959140Z",
     "start_time": "2021-02-15T20:00:16.930173Z"
    }
   },
   "outputs": [],
   "source": []
  },
  {
   "cell_type": "markdown",
   "metadata": {},
   "source": [
    "##### logistic Regression\n",
    "- Using full log instead of aggdata. \n",
    "- Training with all \"crossfeatures\" found in agg data ( ie quadratic kernell)\n",
    "- We do not expect to do better, the goal is to get similar performances"
   ]
  },
  {
   "cell_type": "code",
   "execution_count": null,
   "metadata": {
    "ExecuteTime": {
     "end_time": "2021-02-16T16:16:21.502442Z",
     "start_time": "2021-02-16T16:15:20.967759Z"
    }
   },
   "outputs": [],
   "source": [
    "regulL2 = 16\n",
    "logisticCfs = LogisticModelWithCF( \"click\" , features, \"*&*\"  , train ,\n",
    "                                      hashspace=2**22 , lambdaL2 = regulL2  )\n",
    "logisticCfs.fit( train )\n",
    "print( f\"Logistic(*&*), l2:{regulL2}\" ,  \"train\",  Validation.run(logisticCfs,train) , \"valid\" , Validation.run(logisticCfs,valid)   )"
   ]
  },
  {
   "cell_type": "markdown",
   "metadata": {},
   "source": [
    "##### logistic Regression from aggregated clicks and full display data (quadratic kernell)\n",
    " - same performances as \"standard\" logistic regression\n",
    " - but still using full display data, so not really usefull"
   ]
  },
  {
   "cell_type": "code",
   "execution_count": null,
   "metadata": {
    "ExecuteTime": {
     "end_time": "2021-02-16T16:16:28.533921Z",
     "start_time": "2021-02-16T16:16:21.504235Z"
    }
   },
   "outputs": [],
   "source": [
    "    regulL2 = 16\n",
    "    logisticCfs = AggLogistic(  aggdata , features, clicksCfs = \"*&*\" , regulL2=regulL2 )\n",
    "    logisticCfs.fit( train[features] , nbIter = 200 )\n",
    "    print( f\"Logistic(*&*), l2:{regulL2}\" ,  \"train\",  Validation.run(logisticCfs,train) , \"valid\" , Validation.run(logisticCfs,valid)   )"
   ]
  },
  {
   "cell_type": "markdown",
   "metadata": {},
   "source": [
    "##### Proposed MRF model\n",
    "- uses only aggregated data\n",
    "- almost retrieves logitic performances"
   ]
  },
  {
   "cell_type": "code",
   "execution_count": null,
   "metadata": {
    "ExecuteTime": {
     "end_time": "2021-02-18T18:45:17.995643Z",
     "start_time": "2021-02-18T18:45:17.782601Z"
    }
   },
   "outputs": [],
   "source": [
    "regulL2 = 16\n",
    "nbSamples = 10000\n",
    "nbIter = 50\n",
    "\n",
    "self = AggMRFModel( aggdata,\n",
    "                    features , \n",
    "                    exactComputation=False ,  ## Using Gibbs Sampling.  actualy exact=True is broken in latest code\n",
    "                    clicksCfs = \"*&*\", ## crossfeatures used by P(Y|X) part of the model\n",
    "                    displaysCfs=\"*&*\", ## crossfeatures used by P(X) part of the model. Here, all pairs + all single .\n",
    "                    nbSamples = nbSamples, ## Nb Gibbs samples to estimate gradient\n",
    "                    regulL2=1.0 ,  ## parmeter \"lambda_2\"\n",
    "                    regulL2Click = regulL2  ## parmeter \"lambda_1\" \n",
    "                  )"
   ]
  },
  {
   "cell_type": "code",
   "execution_count": null,
   "metadata": {
    "ExecuteTime": {
     "end_time": "2021-02-18T18:47:28.682881Z",
     "start_time": "2021-02-18T18:45:18.480672Z"
    }
   },
   "outputs": [],
   "source": [
    "self.fit(nbIter)\n",
    "print( f\"MRF lambda1= {regulL2}\",  \"train\",   Validation.run(self,train) , \"valid\" , Validation.run(self,valid)   )"
   ]
  },
  {
   "cell_type": "code",
   "execution_count": null,
   "metadata": {},
   "outputs": [],
   "source": []
  },
  {
   "cell_type": "code",
   "execution_count": null,
   "metadata": {
    "ExecuteTime": {
     "end_time": "2021-02-18T18:52:41.735854Z",
     "start_time": "2021-02-18T18:52:41.708511Z"
    }
   },
   "outputs": [],
   "source": [
    "# all parameters mu and theta concatenated in a  single vector\n",
    "self.parameters\n",
    "\n",
    "# This vector is the concatenation of parameters for associated to each projection"
   ]
  },
  {
   "cell_type": "code",
   "execution_count": null,
   "metadata": {
    "ExecuteTime": {
     "end_time": "2021-02-15T19:40:06.020462Z",
     "start_time": "2021-02-15T19:40:05.992635Z"
    }
   },
   "outputs": [],
   "source": []
  },
  {
   "cell_type": "code",
   "execution_count": null,
   "metadata": {
    "ExecuteTime": {
     "end_time": "2021-02-18T18:52:43.063475Z",
     "start_time": "2021-02-18T18:52:43.044297Z"
    }
   },
   "outputs": [],
   "source": [
    "# List of features and crossfeatures for mu\n",
    "self.displayWeights"
   ]
  },
  {
   "cell_type": "code",
   "execution_count": null,
   "metadata": {
    "ExecuteTime": {
     "end_time": "2021-02-18T18:52:43.804712Z",
     "start_time": "2021-02-18T18:52:43.786421Z"
    }
   },
   "outputs": [],
   "source": [
    "# List of features and cfs for theta\n",
    "self.clickWeights\n",
    "# class WeightsSet : https://gitlab.criteois.com/a.gilotte/aggdata/-/blob/master/src/baseaggmodel.py#L8\n",
    "\n",
    "## In parameter vector, indices from 3719 to 3729 are the parameters \"theta\" \n",
    "##   associated to values of the single feature \"cat1\""
   ]
  },
  {
   "cell_type": "code",
   "execution_count": null,
   "metadata": {
    "ExecuteTime": {
     "end_time": "2021-02-18T18:52:44.585384Z",
     "start_time": "2021-02-18T18:52:44.567790Z"
    }
   },
   "outputs": [],
   "source": [
    "# there are also two 'intercept' parameters:\n",
    "self.muIntercept, self.lambdaIntercept\n",
    "#  ...  thus P(Y = 1 |X =x) = sigmoid( K(x) . self.parameters[someOffset:] +  self.lambdaIntercept )\n",
    "\n",
    "#  todo:  remane self.lambdaIntercept to self.thetaIntercept to get coherent notations"
   ]
  },
  {
   "cell_type": "code",
   "execution_count": null,
   "metadata": {
    "ExecuteTime": {
     "end_time": "2021-02-18T18:52:45.345504Z",
     "start_time": "2021-02-18T18:52:45.328800Z"
    }
   },
   "outputs": [],
   "source": [
    "## samples of \"X\"\n",
    "\n",
    "self.samples.data.shape"
   ]
  },
  {
   "cell_type": "code",
   "execution_count": null,
   "metadata": {
    "ExecuteTime": {
     "end_time": "2021-02-18T18:52:46.190688Z",
     "start_time": "2021-02-18T18:52:46.165986Z"
    }
   },
   "outputs": [],
   "source": [
    "## Computing dotproducts between K(x) and mu or theta:\n",
    "\n",
    "## https://gitlab.criteois.com/a.gilotte/aggdata/-/blob/master/src/baseaggmodel.py#L62\n",
    "\n",
    "mus    = self.dotproducts( self.displayWeights, self.samples.data ) + self.muIntercept\n",
    "mus\n",
    "\n",
    "## https://gitlab.criteois.com/a.gilotte/aggdata/-/blob/master/src/agg_mrf_model.py#L145\n",
    "\n",
    "## note: I just added some comments in the code, translating all the line numbers ..."
   ]
  },
  {
   "cell_type": "code",
   "execution_count": null,
   "metadata": {},
   "outputs": [],
   "source": []
  },
  {
   "cell_type": "code",
   "execution_count": null,
   "metadata": {},
   "outputs": [],
   "source": []
  },
  {
   "cell_type": "code",
   "execution_count": null,
   "metadata": {
    "ExecuteTime": {
     "end_time": "2021-02-18T18:52:48.815691Z",
     "start_time": "2021-02-18T18:52:48.796343Z"
    }
   },
   "outputs": [],
   "source": [
    "d = self.Data\n",
    "d\n",
    "#  vector with  the counts of click or display  from aggregated data.\n",
    "# Same indexing as self.parameters"
   ]
  },
  {
   "cell_type": "code",
   "execution_count": null,
   "metadata": {
    "ExecuteTime": {
     "end_time": "2021-02-18T18:52:49.437250Z",
     "start_time": "2021-02-18T18:52:49.409260Z"
    }
   },
   "outputs": [],
   "source": [
    "p = self.getPredictionsVector( self.samples )\n",
    "p\n",
    "# expected counts according to the model, computed by MC on the samples "
   ]
  },
  {
   "cell_type": "code",
   "execution_count": null,
   "metadata": {
    "ExecuteTime": {
     "end_time": "2021-02-18T18:52:50.022246Z",
     "start_time": "2021-02-18T18:52:50.002699Z"
    }
   },
   "outputs": [],
   "source": [
    "## https://gitlab.criteois.com/a.gilotte/aggdata/-/blob/master/src/agg_mrf_model.py#L187\n",
    "w = self.displayWeights[\"cat1\"]\n",
    "w.feature.Project_(  self.samples.data  , self.samples.pdisplays ) # Correct for grads\n",
    "\n",
    "# a bit uselessly complicated :  self.samples.pdisplays  is constant\n",
    "# This allows having samples with different 'weights', for example one sample for each possible modality of X"
   ]
  },
  {
   "cell_type": "code",
   "execution_count": null,
   "metadata": {
    "ExecuteTime": {
     "end_time": "2021-02-16T13:52:56.706084Z",
     "start_time": "2021-02-16T13:52:56.677076Z"
    }
   },
   "outputs": [],
   "source": []
  },
  {
   "cell_type": "code",
   "execution_count": null,
   "metadata": {
    "ExecuteTime": {
     "end_time": "2021-02-18T18:52:51.522871Z",
     "start_time": "2021-02-18T18:52:51.394959Z"
    }
   },
   "outputs": [],
   "source": [
    "# After fiting the model,  \"data\" and \"prediction\" should be equal\n",
    "plt.plot( d,p, \"x\" )\n"
   ]
  },
  {
   "cell_type": "code",
   "execution_count": null,
   "metadata": {
    "ExecuteTime": {
     "end_time": "2021-02-18T18:52:52.545660Z",
     "start_time": "2021-02-18T18:52:52.416385Z"
    }
   },
   "outputs": [],
   "source": [
    "# ... up to the noise of the sampling / convergence of optimizer\n",
    "plt.plot( np.log (1+d), np.log( 1+p), \"x\" )"
   ]
  },
  {
   "cell_type": "code",
   "execution_count": null,
   "metadata": {},
   "outputs": [],
   "source": []
  },
  {
   "cell_type": "code",
   "execution_count": null,
   "metadata": {
    "ExecuteTime": {
     "end_time": "2021-02-18T18:52:59.713215Z",
     "start_time": "2021-02-18T18:52:59.683859Z"
    }
   },
   "outputs": [],
   "source": [
    "## gradient is equal to d-p  + gradient (regularization)\n",
    "g = self.computeGradient()\n",
    "\n",
    "# https://gitlab.criteois.com/a.gilotte/aggdata/-/blob/master/src/agg_mrf_model.py#L228"
   ]
  },
  {
   "cell_type": "code",
   "execution_count": null,
   "metadata": {
    "ExecuteTime": {
     "end_time": "2021-02-18T18:53:00.320829Z",
     "start_time": "2021-02-18T18:53:00.301106Z"
    }
   },
   "outputs": [],
   "source": [
    "self.initParameters()\n",
    "# https://gitlab.criteois.com/a.gilotte/aggdata/-/blob/master/src/agg_mrf_model.py#L90\n",
    "##  inital values of mu, theta such that:\n",
    "##  -  P(Y=1|X) 1s flat nd equal to P(Y=1)   (ie all weights = 0 except intercept)\n",
    "##  -  for each coordinate Xk of X,  P( Xk ) is correct, and Xk indepedent from Xk'\n",
    "##     ( => set weights of crossfeatures to 0  \n",
    "##        and initialize weights of single features to log( P_train( Xk =xk ) )"
   ]
  },
  {
   "cell_type": "code",
   "execution_count": null,
   "metadata": {},
   "outputs": [],
   "source": []
  },
  {
   "cell_type": "code",
   "execution_count": null,
   "metadata": {
    "ExecuteTime": {
     "end_time": "2021-02-18T18:53:01.395887Z",
     "start_time": "2021-02-18T18:53:01.376484Z"
    }
   },
   "outputs": [],
   "source": [
    "self.samples\n",
    "\n",
    "## https://gitlab.criteois.com/a.gilotte/aggdata/-/blob/master/src/SampleSet.py"
   ]
  },
  {
   "cell_type": "code",
   "execution_count": null,
   "metadata": {
    "ExecuteTime": {
     "end_time": "2021-02-18T18:53:01.997075Z",
     "start_time": "2021-02-18T18:53:01.979927Z"
    }
   },
   "outputs": [],
   "source": [
    "self.samples.data.shape"
   ]
  },
  {
   "cell_type": "code",
   "execution_count": null,
   "metadata": {
    "ExecuteTime": {
     "end_time": "2021-02-18T18:53:02.692014Z",
     "start_time": "2021-02-18T18:53:02.665636Z"
    }
   },
   "outputs": [],
   "source": [
    "self.samples.Df().sample(3)"
   ]
  },
  {
   "cell_type": "code",
   "execution_count": null,
   "metadata": {
    "ExecuteTime": {
     "end_time": "2021-02-16T13:17:07.956943Z",
     "start_time": "2021-02-16T13:17:07.925616Z"
    }
   },
   "outputs": [],
   "source": []
  },
  {
   "cell_type": "code",
   "execution_count": null,
   "metadata": {
    "ExecuteTime": {
     "end_time": "2021-02-16T13:27:15.146148Z",
     "start_time": "2021-02-16T13:27:13.805469Z"
    }
   },
   "outputs": [],
   "source": []
  },
  {
   "cell_type": "code",
   "execution_count": null,
   "metadata": {
    "ExecuteTime": {
     "end_time": "2021-02-18T18:53:39.600599Z",
     "start_time": "2021-02-18T18:53:04.602269Z"
    }
   },
   "outputs": [],
   "source": [
    "## fitting the model.  Sligtly simplified (no line search)\n",
    "\n",
    "# intialiaze\n",
    "self = AggMRFModel( aggdata,\n",
    "                    features , \n",
    "                    exactComputation=False ,  ## Using Gibbs Sampling.  actualy exact=True is broken in latest code\n",
    "                    clicksCfs = \"*&*\", ## crossfeatures used by P(Y|X) part of the model\n",
    "                    displaysCfs=\"*&*\", ## crossfeatures used by P(X) part of the model. Here, all pairs + all single .\n",
    "                    nbSamples = nbSamples, ## Nb Gibbs samples to estimate gradient\n",
    "                    regulL2=1.0 ,  ## parmeter \"lambda_2\"\n",
    "                    regulL2Click = regulL2  ## parmeter \"lambda_1\" \n",
    "                  )\n",
    "\n",
    "## predicting constant CTR => normalize LLH on train  = 0.0 \n",
    "print( f\"MRF lambda1= {regulL2}\",  \"train\",   Validation.run(self,train) , \"valid\" , Validation.run(self,valid)   )\n",
    "\n",
    "alpha = 0.05\n",
    "for i in range(0,50):\n",
    "    g = self.computeGradient()\n",
    "    precondG = g / (self.Data+10)  #  diagonal Hessian at origin = self.Data + regul\n",
    "    self.parameters -= alpha * precondG\n",
    "    self.update()  ## \n",
    "    self.updateSamplesWithGibbs( self.samples , nbsteps=1 )\n",
    "print( f\"MRF lambda1= {regulL2}\",  \"train\",   Validation.run(self,train) , \"valid\" , Validation.run(self,valid)   )"
   ]
  },
  {
   "cell_type": "code",
   "execution_count": null,
   "metadata": {
    "ExecuteTime": {
     "end_time": "2021-02-18T18:53:39.794932Z",
     "start_time": "2021-02-18T18:53:39.602004Z"
    }
   },
   "outputs": [],
   "source": [
    "## fitting the model.  Sligtly simplified (no line search)\n",
    "\n",
    "# intialiaze\n",
    "self = AggMRFModel( aggdata,\n",
    "                    features , \n",
    "                    exactComputation=False ,  ## Using Gibbs Sampling.  actualy exact=True is broken in latest code\n",
    "                    clicksCfs = \"*&*\", ## crossfeatures used by P(Y|X) part of the model\n",
    "                    displaysCfs=\"*&*\", ## crossfeatures used by P(X) part of the model. Here, all pairs + all single .\n",
    "                    nbSamples = nbSamples, ## Nb Gibbs samples to estimate gradient\n",
    "                    regulL2=1.0 ,  ## parmeter \"lambda_2\"\n",
    "                    regulL2Click = regulL2  ## parmeter \"lambda_1\" \n",
    "                  )\n"
   ]
  },
  {
   "cell_type": "code",
   "execution_count": null,
   "metadata": {
    "ExecuteTime": {
     "end_time": "2021-02-16T13:28:10.267202Z",
     "start_time": "2021-02-16T13:28:09.121431Z"
    }
   },
   "outputs": [],
   "source": []
  },
  {
   "cell_type": "code",
   "execution_count": null,
   "metadata": {
    "ExecuteTime": {
     "end_time": "2021-02-16T13:50:28.488342Z",
     "start_time": "2021-02-16T13:50:28.461335Z"
    }
   },
   "outputs": [],
   "source": []
  },
  {
   "cell_type": "code",
   "execution_count": null,
   "metadata": {
    "ExecuteTime": {
     "end_time": "2021-02-16T18:35:03.701569Z",
     "start_time": "2021-02-16T18:35:02.680458Z"
    }
   },
   "outputs": [],
   "source": [
    "## gibbs sampling\n",
    "self.updateSamplesWithGibbs( self.samples , nbsteps=1 )\n",
    "\n",
    "##https://gitlab.criteois.com/a.gilotte/aggdata/-/blob/master/src/agg_mrf_model.py#L178"
   ]
  },
  {
   "cell_type": "markdown",
   "metadata": {},
   "source": [
    "## Internal implem of Gibbs sampler\n",
    "\n",
    "code below is mostly copy-pasted from agg_mrf_model.fastGibbsSample (adapting a few var names) to allow to unroll the loops and see what the variables contain.\n",
    "\n",
    "Having to use only numpy to get it fast, and ugly because of that.\n",
    "(And there is a bug. Can you understand what this version of the code does ? )"
   ]
  },
  {
   "cell_type": "code",
   "execution_count": null,
   "metadata": {
    "ExecuteTime": {
     "end_time": "2021-02-16T18:25:38.963937Z",
     "start_time": "2021-02-16T18:25:38.882653Z"
    }
   },
   "outputs": [],
   "source": [
    "rows = self.samples.data[:,:1000].transpose()\n",
    "rows.shape\n",
    "\n",
    "y =self.samples.y[ :1000 ]\n",
    "# 1000 samples of X"
   ]
  },
  {
   "cell_type": "code",
   "execution_count": null,
   "metadata": {
    "ExecuteTime": {
     "end_time": "2021-02-18T14:44:38.121693Z",
     "start_time": "2021-02-18T14:44:38.093034Z"
    }
   },
   "outputs": [],
   "source": [
    "## extracting all relavant data of the model to run Gibbs sampling.\n",
    "## and exporting it to numpy arrays. ()\n",
    "exportedDisplayWeights, exportedClickWeights, modalitiesByVarId, paramsVector = self.exportWeightsAll()\n"
   ]
  },
  {
   "cell_type": "code",
   "execution_count": null,
   "metadata": {
    "ExecuteTime": {
     "end_time": "2021-02-16T18:32:50.741286Z",
     "start_time": "2021-02-16T18:32:50.669973Z"
    }
   },
   "outputs": [],
   "source": [
    "#  running one step of Gibbs on those samples\n",
    "print( rows[1] )\n",
    "agg_mrf_model.fastGibbsSample(exportedDisplayWeights, exportedClickWeights, modalitiesByVarId, paramsVector,\n",
    "                                 rows , 1, y )\n",
    "print( rows[1] )\n",
    "\n",
    "# function \"fastGibbsSample\" is not on a class and takes as input the model in np.array format\n",
    "# This allows to run sampling in parallel with joblib "
   ]
  },
  {
   "cell_type": "code",
   "execution_count": null,
   "metadata": {
    "ExecuteTime": {
     "end_time": "2021-02-16T18:26:17.911289Z",
     "start_time": "2021-02-16T18:26:17.883807Z"
    }
   },
   "outputs": [],
   "source": [
    "    ## Internal implem of Gibbs sampling\n",
    "    # copy-pasted from agg_mrf_model.fastGibbsSample\n",
    "\n",
    "    \n",
    "    ## data describing the crossfeatures\n",
    "    allcoefsv,allcoefsv2, alloffsets, allotherfeatureid = exportedDisplayWeights\n",
    "    click_allcoefsv,click_allcoefsv2, click_alloffsets, click_allotherfeatureid = exportedClickWeights\n",
    "    \n",
    "    x =rows.transpose()\n",
    "    nbsamples =x.shape[1]\n"
   ]
  },
  {
   "cell_type": "code",
   "execution_count": null,
   "metadata": {
    "ExecuteTime": {
     "end_time": "2021-02-16T18:26:18.086765Z",
     "start_time": "2021-02-16T18:26:18.052988Z"
    }
   },
   "outputs": [],
   "source": [
    "self.features[3]"
   ]
  },
  {
   "cell_type": "code",
   "execution_count": null,
   "metadata": {
    "ExecuteTime": {
     "end_time": "2021-02-16T18:26:18.440386Z",
     "start_time": "2021-02-16T18:26:18.412382Z"
    }
   },
   "outputs": [],
   "source": [
    "            # For each feature, ressample this feature conditionally to the other \n",
    "            #for varId in f:   \n",
    "            varId = 3 #  let us just fix one feature here   #  resampling self.features[1] -> \"cat4\"\n",
    "    \n",
    "    \n",
    "    \n",
    "            ## data describing the different crossfeatures involving varId  in \" K(x).mu\" \n",
    "            ## Those things are arrays, of len the number of crossfeatures involving varId.\n",
    "            disp_coefsv = allcoefsv[ varId ] \n",
    "            disp_coefsv2 = allcoefsv2[ varId ]\n",
    "            disp_offsets = alloffsets[ varId ]\n",
    "            disp_otherfeatureid = allotherfeatureid[ varId ]\n",
    "\n",
    "            ## idem, but crossfeatures in \" K(x).theta\" part of the model \n",
    "            click_coefsv = click_allcoefsv[ varId ]\n",
    "            click_coefsv2 = click_allcoefsv2[ varId ]\n",
    "            click_offsets = click_alloffsets[ varId ]\n",
    "            click_otherfeatureid = click_allotherfeatureid[ varId ]\n",
    "\n",
    "            # array of possible modalities of varId \n",
    "            modalities = modalitiesByVarId[varId]  ## Should be 0,1,2 ... NbModalities\n",
    "            ## for each modality, compute P( modality | other features ) as exp( dotproduct)\n",
    "            ## initializing dotproduct\n",
    "            mus = np.zeros(( nbsamples , len(modalities)))\n",
    "            lambdas = np.zeros(( nbsamples , len(modalities)))\n"
   ]
  },
  {
   "cell_type": "code",
   "execution_count": null,
   "metadata": {
    "ExecuteTime": {
     "end_time": "2021-02-16T15:55:14.662938Z",
     "start_time": "2021-02-16T15:55:14.569891Z"
    }
   },
   "outputs": [],
   "source": []
  },
  {
   "cell_type": "code",
   "execution_count": null,
   "metadata": {
    "ExecuteTime": {
     "end_time": "2021-02-16T15:43:44.892902Z",
     "start_time": "2021-02-16T15:43:44.864681Z"
    }
   },
   "outputs": [],
   "source": []
  },
  {
   "cell_type": "code",
   "execution_count": null,
   "metadata": {
    "ExecuteTime": {
     "end_time": "2021-02-16T18:26:24.120711Z",
     "start_time": "2021-02-16T18:26:24.094509Z"
    }
   },
   "outputs": [],
   "source": [
    "                ## Computing the dotproducts    \n",
    "                #  For each crossfeature containing varId\n",
    "                #for varJ in np.arange( 0, len(disp_coefsv) ):\n",
    "\n",
    "                varJ = 1\n",
    "                # let m a modality of feature varId, and m' a modality of the other feature\n",
    "                #  Value of the crossfeature is \" m *  disp_coefsv[varJ] + m' * disp_coefsv2[varJ]  \" \n",
    "                # values of m' in the data\n",
    "                modsJ = x[ disp_otherfeatureid[varJ] ] * disp_coefsv2[varJ] \n",
    "                # all possible modality m\n",
    "                mods = modalities * disp_coefsv[varJ] \n",
    "                # Computing crossfeatures\n",
    "                ## this is a matrix of shape (nbSamples, nbModalities of varId)\n",
    "                crossmods = np.add.outer(modsJ , mods) + disp_offsets[varJ]  \n",
    "                # Adding crossfeature weight.\n",
    "                mus += paramsVector[crossmods]\n"
   ]
  },
  {
   "cell_type": "code",
   "execution_count": null,
   "metadata": {
    "ExecuteTime": {
     "end_time": "2021-02-16T16:20:49.623202Z",
     "start_time": "2021-02-16T16:20:49.595356Z"
    }
   },
   "outputs": [],
   "source": [
    "print(crossmods.shape)\n",
    "crossmods"
   ]
  },
  {
   "cell_type": "code",
   "execution_count": null,
   "metadata": {
    "ExecuteTime": {
     "end_time": "2021-02-16T18:26:39.626747Z",
     "start_time": "2021-02-16T18:26:39.598587Z"
    }
   },
   "outputs": [],
   "source": [
    "            mus = np.exp(mus)\n",
    "            lambdas = np.exp(lambdas)\n",
    "\n"
   ]
  },
  {
   "cell_type": "code",
   "execution_count": null,
   "metadata": {
    "ExecuteTime": {
     "end_time": "2021-02-16T18:31:46.607457Z",
     "start_time": "2021-02-16T18:31:46.578924Z"
    }
   },
   "outputs": [],
   "source": []
  },
  {
   "cell_type": "code",
   "execution_count": null,
   "metadata": {
    "ExecuteTime": {
     "end_time": "2021-02-16T18:30:40.308508Z",
     "start_time": "2021-02-16T18:30:40.281100Z"
    }
   },
   "outputs": [],
   "source": [
    ".shape"
   ]
  },
  {
   "cell_type": "code",
   "execution_count": null,
   "metadata": {
    "ExecuteTime": {
     "end_time": "2021-02-16T18:21:55.215319Z",
     "start_time": "2021-02-16T18:21:55.188824Z"
    }
   },
   "outputs": [],
   "source": [
    "len(self.samples.y)"
   ]
  },
  {
   "cell_type": "code",
   "execution_count": null,
   "metadata": {},
   "outputs": [],
   "source": []
  }
 ],
 "metadata": {
  "colab": {
   "collapsed_sections": [],
   "name": "MTC.ipynb",
   "provenance": [],
   "toc_visible": true
  },
  "hide_input": false,
  "kernelspec": {
   "display_name": "aggregate_models",
   "language": "python",
   "name": "aggregate_models"
  },
  "language_info": {
   "codemirror_mode": {
    "name": "ipython",
    "version": 3
   },
   "file_extension": ".py",
   "mimetype": "text/x-python",
   "name": "python",
   "nbconvert_exporter": "python",
   "pygments_lexer": "ipython3",
   "version": "3.6.8"
  },
  "toc": {
   "base_numbering": 1,
   "nav_menu": {},
   "number_sections": true,
   "sideBar": true,
   "skip_h1_title": false,
   "title_cell": "Table of Contents",
   "title_sidebar": "Contents",
   "toc_cell": false,
   "toc_position": {},
   "toc_section_display": true,
   "toc_window_display": false
  }
 },
 "nbformat": 4,
 "nbformat_minor": 4
}