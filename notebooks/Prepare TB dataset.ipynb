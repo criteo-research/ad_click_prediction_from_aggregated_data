{
 "cells": [
  {
   "cell_type": "code",
   "execution_count": 1,
   "id": "eight-jefferson",
   "metadata": {
    "ExecuteTime": {
     "end_time": "2021-03-11T18:58:24.620983Z",
     "start_time": "2021-03-11T18:58:22.802684Z"
    }
   },
   "outputs": [
    {
     "name": "stderr",
     "output_type": "stream",
     "text": [
      "/home/j.rioufougeras/.local/share/jupyter/.pykernel/pykernel-40742/lib64/python3.6/site-packages/thx/tfpipeline/__init__.py:9: UserWarning: tensorflow & tf-yarn not found. You can install both with 'pip install tf-yarn'or add them to the requirements.txt of your project.\n",
      "  warnings.warn(str)\n"
     ]
    }
   ],
   "source": [
    "import thx.hadoop.hdfs_cache as hdfs\n",
    "from thx.hadoop.spark_config_builder import create_remote_spark_session, SparkSession\n",
    "import pyspark\n",
    "from pyspark.sql import functions as F\n",
    "from thx.datasources.parquet import create_df_from_parquet\n",
    "from datetime import datetime, timedelta\n",
    "import os"
   ]
  },
  {
   "cell_type": "code",
   "execution_count": 2,
   "id": "written-province",
   "metadata": {
    "ExecuteTime": {
     "end_time": "2021-03-11T18:58:59.652520Z",
     "start_time": "2021-03-11T18:58:24.622275Z"
    }
   },
   "outputs": [
    {
     "data": {
      "text/html": [
       "\n",
       "            <div>\n",
       "                <p><b>SparkSession - in-memory</b></p>\n",
       "                \n",
       "        <div>\n",
       "            <p><b>SparkContext</b></p>\n",
       "\n",
       "            <p><a href=\"http://10.188.174.27:31296\">Spark UI</a></p>\n",
       "\n",
       "            <dl>\n",
       "              <dt>Version</dt>\n",
       "                <dd><code>v2.4.3-criteo-1607362448</code></dd>\n",
       "              <dt>Master</dt>\n",
       "                <dd><code>yarn</code></dd>\n",
       "              <dt>AppName</dt>\n",
       "                <dd><code>Prepare TB Dataset</code></dd>\n",
       "            </dl>\n",
       "        </div>\n",
       "        \n",
       "            </div>\n",
       "        "
      ],
      "text/plain": [
       "<pyspark.sql.session.SparkSession at 0x7f1743597f28>"
      ]
     },
     "execution_count": 2,
     "metadata": {},
     "output_type": "execute_result"
    }
   ],
   "source": [
    "ss = create_remote_spark_session('Prepare TB Dataset', 100, 4, '4g', '2g', '16g', hadoop_file_systems=['viewfs://root', 'viewfs://prod-pa4', 'viewfs://preprod-pa4', 'viewfs://prod-am6'])\n",
    "ss"
   ]
  },
  {
   "cell_type": "code",
   "execution_count": 3,
   "id": "another-arnold",
   "metadata": {
    "ExecuteTime": {
     "end_time": "2021-03-11T18:58:59.656269Z",
     "start_time": "2021-03-11T18:58:59.654091Z"
    }
   },
   "outputs": [],
   "source": [
    "start_date = datetime(2015, 2, 15)\n",
    "end_date = datetime(2015, 3, 11)"
   ]
  },
  {
   "cell_type": "markdown",
   "id": "grand-lounge",
   "metadata": {},
   "source": [
    "# Load terabyte dataset"
   ]
  },
  {
   "cell_type": "code",
   "execution_count": 4,
   "id": "suspended-england",
   "metadata": {
    "ExecuteTime": {
     "end_time": "2021-03-11T19:01:18.063181Z",
     "start_time": "2021-03-11T18:58:59.657576Z"
    }
   },
   "outputs": [],
   "source": [
    "tb_df = create_df_from_parquet(\n",
    "            ss,\n",
    "            'viewfs://prod-pa4//user/testfwk/datasets/criteo_1tb_parquet/date={year:04}-{month:02}-{day:02}',\n",
    "            None,\n",
    "            start_date,\n",
    "            end_date\n",
    "        )"
   ]
  },
  {
   "cell_type": "code",
   "execution_count": 5,
   "id": "equal-burner",
   "metadata": {
    "ExecuteTime": {
     "end_time": "2021-03-11T19:01:18.077060Z",
     "start_time": "2021-03-11T19:01:18.064454Z"
    }
   },
   "outputs": [
    {
     "name": "stdout",
     "output_type": "stream",
     "text": [
      "root\n",
      " |-- label: integer (nullable = true)\n",
      " |-- integer_feature_1: integer (nullable = true)\n",
      " |-- integer_feature_2: integer (nullable = true)\n",
      " |-- integer_feature_3: integer (nullable = true)\n",
      " |-- integer_feature_4: integer (nullable = true)\n",
      " |-- integer_feature_5: integer (nullable = true)\n",
      " |-- integer_feature_6: integer (nullable = true)\n",
      " |-- integer_feature_7: integer (nullable = true)\n",
      " |-- integer_feature_8: integer (nullable = true)\n",
      " |-- integer_feature_9: integer (nullable = true)\n",
      " |-- integer_feature_10: integer (nullable = true)\n",
      " |-- integer_feature_11: integer (nullable = true)\n",
      " |-- integer_feature_12: integer (nullable = true)\n",
      " |-- integer_feature_13: integer (nullable = true)\n",
      " |-- categorical_feature_1: string (nullable = true)\n",
      " |-- categorical_feature_2: string (nullable = true)\n",
      " |-- categorical_feature_3: string (nullable = true)\n",
      " |-- categorical_feature_4: string (nullable = true)\n",
      " |-- categorical_feature_5: string (nullable = true)\n",
      " |-- categorical_feature_6: string (nullable = true)\n",
      " |-- categorical_feature_7: string (nullable = true)\n",
      " |-- categorical_feature_8: string (nullable = true)\n",
      " |-- categorical_feature_9: string (nullable = true)\n",
      " |-- categorical_feature_10: string (nullable = true)\n",
      " |-- categorical_feature_11: string (nullable = true)\n",
      " |-- categorical_feature_12: string (nullable = true)\n",
      " |-- categorical_feature_13: string (nullable = true)\n",
      " |-- categorical_feature_14: string (nullable = true)\n",
      " |-- categorical_feature_15: string (nullable = true)\n",
      " |-- categorical_feature_16: string (nullable = true)\n",
      " |-- categorical_feature_17: string (nullable = true)\n",
      " |-- categorical_feature_18: string (nullable = true)\n",
      " |-- categorical_feature_19: string (nullable = true)\n",
      " |-- categorical_feature_20: string (nullable = true)\n",
      " |-- categorical_feature_21: string (nullable = true)\n",
      " |-- categorical_feature_22: string (nullable = true)\n",
      " |-- categorical_feature_23: string (nullable = true)\n",
      " |-- categorical_feature_24: string (nullable = true)\n",
      " |-- categorical_feature_25: string (nullable = true)\n",
      " |-- categorical_feature_26: string (nullable = true)\n",
      " |-- day: date (nullable = true)\n",
      " |-- RequestTimestampUTC: integer (nullable = true)\n",
      " |-- date: date (nullable = true)\n",
      "\n"
     ]
    }
   ],
   "source": [
    "tb_df.printSchema()"
   ]
  },
  {
   "cell_type": "code",
   "execution_count": 6,
   "id": "governmental-contribution",
   "metadata": {
    "ExecuteTime": {
     "end_time": "2021-03-11T19:01:18.082970Z",
     "start_time": "2021-03-11T19:01:18.078411Z"
    }
   },
   "outputs": [],
   "source": [
    "non_features = [c for c in tb_df.columns if \"feature\" not in c]"
   ]
  },
  {
   "cell_type": "code",
   "execution_count": 7,
   "id": "egyptian-elephant",
   "metadata": {
    "ExecuteTime": {
     "end_time": "2021-03-11T19:01:18.086142Z",
     "start_time": "2021-03-11T19:01:18.084001Z"
    }
   },
   "outputs": [],
   "source": [
    "features = [c for c in tb_df.columns if \"feature\" in c]"
   ]
  },
  {
   "cell_type": "code",
   "execution_count": null,
   "id": "toxic-pennsylvania",
   "metadata": {},
   "outputs": [],
   "source": [
    "features = ['integer_feature_1',\n",
    " 'integer_feature_2',\n",
    " 'integer_feature_3',\n",
    " 'integer_feature_4',\n",
    " 'integer_feature_5',\n",
    " 'integer_feature_6',\n",
    " 'integer_feature_7',\n",
    " 'integer_feature_8',\n",
    " 'integer_feature_9',\n",
    " 'integer_feature_10',\n",
    " 'integer_feature_11',\n",
    " 'integer_feature_12',\n",
    " 'integer_feature_13',\n",
    " 'categorical_feature_1',\n",
    " 'categorical_feature_2',\n",
    " 'categorical_feature_3',\n",
    " 'categorical_feature_4',\n",
    " 'categorical_feature_5',\n",
    " 'categorical_feature_6',\n",
    " 'categorical_feature_7',\n",
    " 'categorical_feature_8',\n",
    " 'categorical_feature_9',\n",
    " 'categorical_feature_10',\n",
    " 'categorical_feature_11',\n",
    " 'categorical_feature_12',\n",
    " 'categorical_feature_13',\n",
    " 'categorical_feature_14',\n",
    " 'categorical_feature_15',\n",
    " 'categorical_feature_16',\n",
    " 'categorical_feature_17',\n",
    " 'categorical_feature_18',\n",
    " 'categorical_feature_19',\n",
    " 'categorical_feature_20',\n",
    " 'categorical_feature_21',\n",
    " 'categorical_feature_22',\n",
    " 'categorical_feature_23',\n",
    " 'categorical_feature_24',\n",
    " 'categorical_feature_25',\n",
    " 'categorical_feature_26']"
   ]
  },
  {
   "cell_type": "code",
   "execution_count": 6,
   "id": "particular-native",
   "metadata": {
    "ExecuteTime": {
     "end_time": "2021-03-11T09:23:07.133675Z",
     "start_time": "2021-03-11T09:22:17.569871Z"
    }
   },
   "outputs": [
    {
     "data": {
      "text/plain": [
       "4373472329"
      ]
     },
     "execution_count": 6,
     "metadata": {},
     "output_type": "execute_result"
    }
   ],
   "source": [
    "tb_df.count()"
   ]
  },
  {
   "cell_type": "code",
   "execution_count": null,
   "id": "lesser-shower",
   "metadata": {},
   "outputs": [],
   "source": [
    "# tb_df.select(*[F.approx_count_distinct(c) for c in features]).show()"
   ]
  },
  {
   "cell_type": "code",
   "execution_count": null,
   "id": "junior-hampshire",
   "metadata": {},
   "outputs": [],
   "source": [
    "tb_df.show()"
   ]
  },
  {
   "cell_type": "markdown",
   "id": "cognitive-developer",
   "metadata": {},
   "source": [
    "## Approx Count Distinct\n",
    "|integer_feature_1|integer_feature_2|integer_feature_3|integer_feature_4|integer_feature_5|integer_feature_6|integer_feature_7|integer_feature_8|integer_feature_9|integer_feature_10|integer_feature_11|integer_feature_12|integer_feature_13|categorical_feature_1|categorical_feature_2|categorical_feature_3|categorical_feature_4|categorical_feature_5|categorical_feature_6|categorical_feature_7|categorical_feature_8|categorical_feature_9|categorical_feature_10|categorical_feature_11|categorical_feature_12|categorical_feature_13|categorical_feature_14|categorical_feature_15|categorical_feature_16|categorical_feature_17|categorical_feature_18|categorical_feature_19|categorical_feature_20|categorical_feature_21|categorical_feature_22|categorical_feature_23|categorical_feature_24|categorical_feature_25|categorical_feature_26|\n",
    "|-|-|-|-|-|-|-|-|-|-|-|-|-|-|-|-|-|-|-|-|-|-|-|-|-|-|-|-|-|-|-|-|-|-|-|-|-|-|-|\n",
    "|61121|7872|2849|69956|7248|3114|1456|20152|7807|21|277|1180208|9435|223980303|37291|17174|7214|19241|3|7336|1455|67|139374520|2842739|359635|10|2196|12046|147|3|950|14|270046725|41642537|189800060|597453|12153|101|33|"
   ]
  },
  {
   "cell_type": "code",
   "execution_count": null,
   "id": "minus-president",
   "metadata": {},
   "outputs": [],
   "source": [
    "counts = [61121,7872,2849,69956,7248,3114,1456,20152,7807,21,277,1180208,9435,223980303,37291,17174,7214,19241,3,7336,1455,67,139374520,2842739,359635,10,2196,12046,147,3,950,14,270046725,41642537,189800060,597453,12153,101,33]"
   ]
  },
  {
   "cell_type": "code",
   "execution_count": null,
   "id": "latin-reporter",
   "metadata": {},
   "outputs": [],
   "source": [
    "max(counts)"
   ]
  },
  {
   "cell_type": "code",
   "execution_count": null,
   "id": "dominican-spring",
   "metadata": {},
   "outputs": [],
   "source": [
    "4373472329/10000"
   ]
  },
  {
   "cell_type": "markdown",
   "id": "blank-twenty",
   "metadata": {},
   "source": [
    "# Explore what filtering modalities will do"
   ]
  },
  {
   "cell_type": "code",
   "execution_count": null,
   "id": "incorporated-image",
   "metadata": {},
   "outputs": [],
   "source": [
    "for i,c in enumerate(features):\n",
    "    if counts[i] > 1000000:\n",
    "        hash_column = F.hash(c).alias(f\"hash_{c}\")\n",
    "    else:\n",
    "        hash_column = F.col(c)\n",
    "    hash_df = tb_df.select(hash_column).groupBy(hash_column).agg(F.count(\"*\").alias(\"count\"))\n",
    "    filter_df = hash_df.filter(\"count>10000\")\n",
    "    filter_df.show()\n",
    "    print(filter_df.count())\n",
    "    break"
   ]
  },
  {
   "cell_type": "markdown",
   "id": "unusual-intermediate",
   "metadata": {},
   "source": [
    "# Create sampled dataset"
   ]
  },
  {
   "cell_type": "code",
   "execution_count": null,
   "id": "surface-interpretation",
   "metadata": {},
   "outputs": [],
   "source": [
    "tb_sampled_path = \"viewfs://prod-am6/user/j.rioufougeras/criteo_tb_sample_1_1000_seed_42\"\n",
    "if not hdfs.exists(tb_sampled_path):\n",
    "    tb_sample = tb_df.sample(fraction=0.001, seed=42)\n",
    "    tb_sample.write.parquet(tb_sampled_path)\n",
    "else:\n",
    "    tb_sample = create_df_from_parquet(\n",
    "            ss,\n",
    "            tb_sampled_path,\n",
    "            None,\n",
    "            start_date,\n",
    "            end_date\n",
    "        )"
   ]
  },
  {
   "cell_type": "code",
   "execution_count": null,
   "id": "turkish-georgia",
   "metadata": {},
   "outputs": [],
   "source": [
    "# tb_sample.select(*[F.approx_count_distinct(c) for c in features]).show()"
   ]
  },
  {
   "cell_type": "markdown",
   "id": "mathematical-special",
   "metadata": {},
   "source": [
    "### Approx count of modalities in sampled dataset\n",
    "|integer_feature_1|integer_feature_2|integer_feature_3|integer_feature_4|integer_feature_5|integer_feature_6|integer_feature_7|integer_feature_8|integer_feature_9|integer_feature_10|integer_feature_11|integer_feature_12|integer_feature_13|categorical_feature_1|categorical_feature_2|categorical_feature_3|categorical_feature_4|categorical_feature_5|categorical_feature_6|categorical_feature_7|categorical_feature_8|categorical_feature_9|categorical_feature_10|categorical_feature_11|categorical_feature_12|categorical_feature_13|categorical_feature_14|categorical_feature_15|categorical_feature_16|categorical_feature_17|categorical_feature_18|categorical_feature_19|categorical_feature_20|categorical_feature_21|categorical_feature_22|categorical_feature_23|categorical_feature_24|categorical_feature_25|categorical_feature_26|\n",
    "|-|-|-|-|-|-|-|-|-|-|-|-|-|-|-|-|-|-|-|-|-|-|-|-|-|-|-|-|-|-|-|-|-|-|-|-|-|-|-|\n",
    "|4428|7782|377|7947|2283|369|205|5372|315|11|164|195909|690|963879|21638|16511|6638|17968|3|7200|1277|52|690406|114607|88721|10|2141|8722|71|3|907|14|1104321|360122|904703|82045|10232|67|31|"
   ]
  },
  {
   "cell_type": "code",
   "execution_count": null,
   "id": "standing-broadway",
   "metadata": {},
   "outputs": [],
   "source": [
    "tb_sample.count()"
   ]
  },
  {
   "cell_type": "code",
   "execution_count": null,
   "id": "outer-costs",
   "metadata": {},
   "outputs": [],
   "source": [
    "sample_counts= [4428,7782,377,7947,2283,369,205,5372,315,11,164,195909,690,963879,21638,16511,6638,17968,3,7200,1277,52,690406,114607,88721,10,2141,8722,71,3,907,14,1104321,360122,904703,82045,10232,67,31]"
   ]
  },
  {
   "cell_type": "code",
   "execution_count": null,
   "id": "hybrid-planner",
   "metadata": {},
   "outputs": [],
   "source": [
    "[(n,a,b,a/b) for n,a,b in zip(features,sample_counts,counts)]"
   ]
  },
  {
   "cell_type": "markdown",
   "id": "stainless-cartoon",
   "metadata": {},
   "source": [
    "# Filtering: Replace low count modalities by a default value:"
   ]
  },
  {
   "cell_type": "code",
   "execution_count": 8,
   "id": "otherwise-valuable",
   "metadata": {
    "ExecuteTime": {
     "end_time": "2021-03-11T14:42:15.003855Z",
     "start_time": "2021-03-11T14:42:15.002159Z"
    }
   },
   "outputs": [],
   "source": [
    "base_filter_path = \"viewfs://prod-am6/user/j.rioufougeras/criteo_tb_sample_1_1000_seed_42_filtered\""
   ]
  },
  {
   "cell_type": "code",
   "execution_count": null,
   "id": "worst-portsmouth",
   "metadata": {},
   "outputs": [],
   "source": [
    "!hdfs dfs -ls criteo_tb_sample_1_1000_seed_42_filtered_by_day"
   ]
  },
  {
   "cell_type": "code",
   "execution_count": null,
   "id": "frequent-absorption",
   "metadata": {},
   "outputs": [],
   "source": [
    "if not hdfs.exists(base_filter_path):\n",
    "    tb_sample_filtered = tb_sample\n",
    "    for i,col in enumerate(features):\n",
    "        filter_df_name = f\"{base_filter_path}_{col}\"\n",
    "        if hdfs.exists(filter_df_name):\n",
    "            tb_sample_filtered = create_df_from_parquet(\n",
    "                ss,\n",
    "                filter_df_name,\n",
    "                None,\n",
    "                start_date,\n",
    "                end_date\n",
    "            )\n",
    "            continue\n",
    "        hash_col_name = f\"hash_{col}\"\n",
    "        if sample_counts[i] > 1000:        \n",
    "            hash_column = (F.hash(col)%100000)\n",
    "        else:\n",
    "            hash_column = F.col(col)\n",
    "        hash_df = tb_sample.select(hash_column.alias(hash_col_name)).groupBy(hash_col_name).agg(F.count(\"*\").alias(\"count\"))\n",
    "        filter_df = hash_df.filter(\"count>10\").orderBy(F.desc(\"count\")).select(hash_col_name)\n",
    "        decoalesce_col = F.when(F.col(hash_col_name).isNotNull(), F.col(col)).otherwise(None).alias(col)\n",
    "        tb_sample_filtered = tb_sample_filtered.join(filter_df, how=\"left_outer\", on=hash_column==F.col(hash_col_name)).select(*non_features, *[c if c != col else decoalesce_col for c in features])\n",
    "        tb_sample_filtered.write.parquet(filter_df_name)\n",
    "    tb_sample_filtered.write.parquet(\"viewfs://prod-am6/user/j.rioufougeras/criteo_tb_sample_1_1000_seed_42_filtered\")\n",
    "else:\n",
    "    tb_sample_filtered = create_df_from_parquet(\n",
    "                ss,\n",
    "                base_filter_path,\n",
    "                None,\n",
    "                start_date,\n",
    "                end_date\n",
    "            )"
   ]
  },
  {
   "cell_type": "code",
   "execution_count": null,
   "id": "figured-engineering",
   "metadata": {},
   "outputs": [],
   "source": [
    "# tb_sample_filtered.write.parquet(\"viewfs://prod-am6/user/j.rioufougeras/criteo_tb_sample_1_1000_seed_42_filtered_by_day\", partitionBy=\"day\")"
   ]
  },
  {
   "cell_type": "code",
   "execution_count": null,
   "id": "beginning-bunch",
   "metadata": {},
   "outputs": [],
   "source": [
    "#tb_sample_filtered.groupBy(\"day\",\"date\",\"RequestTimestampUTC\").count().select(\"day\",\"date\",\"RequestTimestampUTC\").show()"
   ]
  },
  {
   "cell_type": "code",
   "execution_count": null,
   "id": "regional-province",
   "metadata": {},
   "outputs": [],
   "source": [
    "# tb_sample_filtered.select(*[F.approx_count_distinct(c) for c in features]).show()"
   ]
  },
  {
   "cell_type": "markdown",
   "id": "satisfied-handbook",
   "metadata": {},
   "source": [
    "|integer_feature_1|integer_feature_2|integer_feature_3|integer_feature_4|integer_feature_5|integer_feature_6|integer_feature_7|integer_feature_8|integer_feature_9|integer_feature_10|integer_feature_11|integer_feature_12|integer_feature_13|categorical_feature_1|categorical_feature_2|categorical_feature_3|categorical_feature_4|categorical_feature_5|categorical_feature_6|categorical_feature_7|categorical_feature_8|categorical_feature_9|categorical_feature_10|categorical_feature_11|categorical_feature_12|categorical_feature_13|categorical_feature_14|categorical_feature_15|categorical_feature_16|categorical_feature_17|categorical_feature_18|categorical_feature_19|categorical_feature_20|categorical_feature_21|categorical_feature_22|categorical_feature_23|categorical_feature_24|categorical_feature_25|categorical_feature_26|\n",
    "|-|-|-|-|-|-|-|-|-|-|-|-|-|-|-|-|-|-|-|-|-|-|-|-|-|-|-|-|-|-|-|-|-|-|-|-|-|-|-|\n",
    "|1019|4684|147|2389|847|175|78|3632|70|8|125|55234|260|202847|11553|14026|5931|16312|3|6569|1152|33|136391|23807|32879|10|1751|5255|54|3|847|14|280993|70976|193007|18806|8356|44|31|"
   ]
  },
  {
   "cell_type": "code",
   "execution_count": null,
   "id": "directed-subscriber",
   "metadata": {},
   "outputs": [],
   "source": [
    "tb_sample_filtered.count()"
   ]
  },
  {
   "cell_type": "code",
   "execution_count": null,
   "id": "regulated-makeup",
   "metadata": {},
   "outputs": [],
   "source": [
    "filtered_counts= [1019,4684,147,2389,847,175,78,3632,70,8,125,55234,260,202847,11553,14026,5931,16312,3,6569,1152,33,136391,23807,32879,10,1751,5255,54,3,847,14,280993,70976,193007,18806,8356,44,31]"
   ]
  },
  {
   "cell_type": "code",
   "execution_count": null,
   "id": "standing-amsterdam",
   "metadata": {},
   "outputs": [],
   "source": [
    "[(n,a,b,a/b) for n,a,b in zip(features,filtered_counts,sample_counts)]"
   ]
  },
  {
   "cell_type": "code",
   "execution_count": null,
   "id": "covered-turkish",
   "metadata": {},
   "outputs": [],
   "source": [
    "tb_sample_filtered.coalesce(1).write.mode(\"overwrite\").parquet(\"viewfs://prod-am6/user/j.rioufougeras/criteo_tb_sample_1_1000_seed_42_small\")"
   ]
  },
  {
   "cell_type": "code",
   "execution_count": null,
   "id": "active-affect",
   "metadata": {},
   "outputs": [],
   "source": [
    "tb_sample_filtered.printSchema()"
   ]
  },
  {
   "cell_type": "code",
   "execution_count": null,
   "id": "comparable-sheffield",
   "metadata": {},
   "outputs": [],
   "source": [
    "tb_sample_filtered.count()"
   ]
  },
  {
   "cell_type": "markdown",
   "id": "marked-moment",
   "metadata": {},
   "source": [
    "### Build filtered dataset"
   ]
  },
  {
   "cell_type": "code",
   "execution_count": 8,
   "id": "altered-fitness",
   "metadata": {
    "ExecuteTime": {
     "end_time": "2021-03-11T19:01:18.089458Z",
     "start_time": "2021-03-11T19:01:18.087713Z"
    }
   },
   "outputs": [],
   "source": [
    "base_filter_path = \"viewfs://prod-am6/user/j.rioufougeras/criteo_tb_filter\""
   ]
  },
  {
   "cell_type": "code",
   "execution_count": 9,
   "id": "recovered-bench",
   "metadata": {
    "ExecuteTime": {
     "end_time": "2021-03-11T19:01:56.734202Z",
     "start_time": "2021-03-11T19:01:18.090633Z"
    }
   },
   "outputs": [],
   "source": [
    "join_dfs = dict()\n",
    "for i,col in enumerate(features):\n",
    "    filter_df_name = f\"{base_filter_path}_{col}\"\n",
    "    if hdfs.exists(filter_df_name):\n",
    "        filter_df = create_df_from_parquet(\n",
    "            ss,\n",
    "            filter_df_name,\n",
    "            None,\n",
    "            start_date,\n",
    "            end_date\n",
    "        )\n",
    "    else:\n",
    "        filter_df = tb_df.groupBy(col).agg(F.count(\"*\").alias(\"count\"))\n",
    "        filter_df = filter_df.filter(\"count>10000\").orderBy(F.desc(\"count\")).select(col)\n",
    "        filter_df.write.parquet(filter_df_name)\n",
    "    join_dfs[col] = filter_df"
   ]
  },
  {
   "cell_type": "code",
   "execution_count": 10,
   "id": "intelligent-interim",
   "metadata": {
    "ExecuteTime": {
     "end_time": "2021-03-11T19:29:38.739250Z",
     "start_time": "2021-03-11T19:01:56.735575Z"
    }
   },
   "outputs": [
    {
     "name": "stdout",
     "output_type": "stream",
     "text": [
      "viewfs://prod-am6/user/j.rioufougeras/criteo_tb_filter_joined_categorical_feature_22\n",
      "Replace viewfs://prod-am6/user/j.rioufougeras/criteo_tb_filter_joined_categorical_feature_22 with viewfs://prod-am6/user/j.rioufougeras/criteo_tb_filter_joined_categorical_feature_23\n",
      "Replace viewfs://prod-am6/user/j.rioufougeras/criteo_tb_filter_joined_categorical_feature_22 with viewfs://prod-am6/user/j.rioufougeras/criteo_tb_filter_joined_categorical_feature_24\n",
      "Replace viewfs://prod-am6/user/j.rioufougeras/criteo_tb_filter_joined_categorical_feature_22 with viewfs://prod-am6/user/j.rioufougeras/criteo_tb_filter_joined_categorical_feature_25\n",
      "Replace viewfs://prod-am6/user/j.rioufougeras/criteo_tb_filter_joined_categorical_feature_22 with viewfs://prod-am6/user/j.rioufougeras/criteo_tb_filter_joined_categorical_feature_26\n"
     ]
    }
   ],
   "source": [
    "if not hdfs.exists(base_filter_path):\n",
    "    tb_filtered = tb_df\n",
    "    s = 0\n",
    "    old_base_path = None\n",
    "    for k,col in enumerate(features):\n",
    "        if hdfs.exists(base_filter_path + f\"_joined_{col}\"):\n",
    "            s = k\n",
    "            old_base_path = base_filter_path + f\"_joined_{col}\"\n",
    "            tb_filtered = create_df_from_parquet(\n",
    "                ss,\n",
    "                old_base_path,\n",
    "                None,\n",
    "                start_date,\n",
    "                end_date\n",
    "            )\n",
    "            print(old_base_path)\n",
    "    for col in features[s:]:\n",
    "        new_base_path = base_filter_path + f\"_joined_{col}\"\n",
    "        if not hdfs.exists(new_base_path):\n",
    "            filter_df = join_dfs[col].withColumnRenamed(col,f\"join_{col}\")\n",
    "            new_tb_filtered = tb_filtered.join(F.broadcast(filter_df), how=\"left_outer\", on=F.col(col)==F.col(f\"join_{col}\"))\n",
    "            new_tb_filtered = new_tb_filtered.select(\n",
    "                *non_features, *[c if c != col else F.col(f\"join_{col}\").alias(col) for c in features]\n",
    "            )\n",
    "            new_tb_filtered.write.parquet(new_base_path, partitionBy=\"day\")\n",
    "            tb_filtered = new_tb_filtered\n",
    "            if old_base_path and old_base_path != new_base_path:\n",
    "                print(f\"Replace {old_base_path} with {new_base_path}\")\n",
    "                # hdfs.rm(old_base_path)\n",
    "        else:\n",
    "            old_base_path = base_filter_path + f\"_joined_{col}\"\n",
    "            tb_filtered = create_df_from_parquet(\n",
    "                ss,\n",
    "                   old_base_path,\n",
    "                None,\n",
    "                start_date,\n",
    "                end_date\n",
    "            )"
   ]
  },
  {
   "cell_type": "code",
   "execution_count": 12,
   "id": "restricted-politics",
   "metadata": {
    "ExecuteTime": {
     "end_time": "2021-03-11T20:36:07.298807Z",
     "start_time": "2021-03-11T20:27:31.907267Z"
    }
   },
   "outputs": [],
   "source": [
    "tb_filtered.write.parquet(base_filter_path, partitionBy=\"day\")"
   ]
  },
  {
   "cell_type": "code",
   "execution_count": null,
   "id": "comparative-bloom",
   "metadata": {},
   "outputs": [],
   "source": []
  }
 ],
 "metadata": {
  "hide_input": false,
  "kernelspec": {
   "display_name": "Python Criteo (MOAB #40742)",
   "language": "python",
   "name": "python-mozart-40742"
  },
  "language_info": {
   "codemirror_mode": {
    "name": "ipython",
    "version": 3
   },
   "file_extension": ".py",
   "mimetype": "text/x-python",
   "name": "python",
   "nbconvert_exporter": "python",
   "pygments_lexer": "ipython3",
   "version": "3.6.8"
  },
  "toc": {
   "base_numbering": 1,
   "nav_menu": {},
   "number_sections": true,
   "sideBar": true,
   "skip_h1_title": false,
   "title_cell": "Table of Contents",
   "title_sidebar": "Contents",
   "toc_cell": false,
   "toc_position": {},
   "toc_section_display": true,
   "toc_window_display": false
  }
 },
 "nbformat": 4,
 "nbformat_minor": 5
}
